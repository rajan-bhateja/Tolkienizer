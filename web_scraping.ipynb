{
 "cells": [
  {
   "cell_type": "code",
   "id": "initial_id",
   "metadata": {
    "collapsed": true,
    "ExecuteTime": {
     "end_time": "2025-07-11T17:42:27.978426Z",
     "start_time": "2025-07-11T17:42:27.970707Z"
    }
   },
   "source": [
    "from selenium import webdriver\n",
    "from selenium.webdriver.common.by import By\n",
    "from selenium.webdriver.common.keys import Keys\n",
    "from selenium.webdriver.support.ui import WebDriverWait\n",
    "from selenium.webdriver.support import expected_conditions as EC\n",
    "\n",
    "from tqdm import tqdm"
   ],
   "outputs": [],
   "execution_count": 81
  },
  {
   "metadata": {
    "ExecuteTime": {
     "end_time": "2025-07-11T17:42:30.712234Z",
     "start_time": "2025-07-11T17:42:27.995893Z"
    }
   },
   "cell_type": "code",
   "source": [
    "url = r\"https://www.goodreads.com/author/quotes/656983.J_R_R_Tolkien?page=1\"\n",
    "\n",
    "driver = webdriver.Chrome()\n",
    "driver.get(url)"
   ],
   "id": "ef4edbf58c7a6bee",
   "outputs": [],
   "execution_count": 82
  },
  {
   "metadata": {
    "ExecuteTime": {
     "end_time": "2025-07-11T17:42:32.076343Z",
     "start_time": "2025-07-11T17:42:30.760509Z"
    }
   },
   "cell_type": "code",
   "source": [
    "quotes = driver.find_elements(By.CLASS_NAME, \"quoteText\")\n",
    "quotes = [quote.text for quote in quotes]"
   ],
   "id": "3521d6c56ca30f80",
   "outputs": [],
   "execution_count": 83
  },
  {
   "metadata": {
    "ExecuteTime": {
     "end_time": "2025-07-11T17:42:32.109755Z",
     "start_time": "2025-07-11T17:42:32.100005Z"
    }
   },
   "cell_type": "code",
   "source": "print(quotes[0])",
   "id": "16eb111d2d53d21f",
   "outputs": [
    {
     "name": "stdout",
     "output_type": "stream",
     "text": [
      "“All that is gold does not glitter,\n",
      "Not all those who wander are lost;\n",
      "The old that is strong does not wither,\n",
      "Deep roots are not reached by the frost.\n",
      "\n",
      "From the ashes a fire shall be woken,\n",
      "A light from the shadows shall spring;\n",
      "Renewed shall be blade that was broken,\n",
      "The crownless again shall be king.”\n",
      "― J.R.R. Tolkien, The Fellowship of the Ring\n"
     ]
    }
   ],
   "execution_count": 84
  },
  {
   "metadata": {
    "ExecuteTime": {
     "end_time": "2025-07-11T17:42:32.206267Z",
     "start_time": "2025-07-11T17:42:32.195767Z"
    }
   },
   "cell_type": "code",
   "source": "print(quotes[-1])",
   "id": "1bf6e10ce4ca7a64",
   "outputs": [
    {
     "name": "stdout",
     "output_type": "stream",
     "text": [
      "“Do not meddle in the affairs of wizards, for they are subtle and quick to anger.”\n",
      "― J.R.R. Tolkien, The Fellowship of the Ring\n"
     ]
    }
   ],
   "execution_count": 85
  },
  {
   "metadata": {
    "ExecuteTime": {
     "end_time": "2025-07-11T17:42:37.422622Z",
     "start_time": "2025-07-11T17:42:32.247717Z"
    }
   },
   "cell_type": "code",
   "source": [
    "WebDriverWait(driver, 5).until(\n",
    "    EC.element_to_be_clickable((By.CLASS_NAME, \"gr-iconButton\"))\n",
    ")"
   ],
   "id": "c8f4ae4fcc873c60",
   "outputs": [
    {
     "ename": "TimeoutException",
     "evalue": "Message: \n",
     "output_type": "error",
     "traceback": [
      "\u001B[31m---------------------------------------------------------------------------\u001B[39m",
      "\u001B[31mTimeoutException\u001B[39m                          Traceback (most recent call last)",
      "\u001B[36mCell\u001B[39m\u001B[36m \u001B[39m\u001B[32mIn[86]\u001B[39m\u001B[32m, line 1\u001B[39m\n\u001B[32m----> \u001B[39m\u001B[32m1\u001B[39m \u001B[43mWebDriverWait\u001B[49m\u001B[43m(\u001B[49m\u001B[43mdriver\u001B[49m\u001B[43m,\u001B[49m\u001B[43m \u001B[49m\u001B[32;43m5\u001B[39;49m\u001B[43m)\u001B[49m\u001B[43m.\u001B[49m\u001B[43muntil\u001B[49m\u001B[43m(\u001B[49m\n\u001B[32m      2\u001B[39m \u001B[43m    \u001B[49m\u001B[43mEC\u001B[49m\u001B[43m.\u001B[49m\u001B[43melement_to_be_clickable\u001B[49m\u001B[43m(\u001B[49m\u001B[43m(\u001B[49m\u001B[43mBy\u001B[49m\u001B[43m.\u001B[49m\u001B[43mCLASS_NAME\u001B[49m\u001B[43m,\u001B[49m\u001B[43m \u001B[49m\u001B[33;43m\"\u001B[39;49m\u001B[33;43mgr-iconButton\u001B[39;49m\u001B[33;43m\"\u001B[39;49m\u001B[43m)\u001B[49m\u001B[43m)\u001B[49m\n\u001B[32m      3\u001B[39m \u001B[43m)\u001B[49m\n",
      "\u001B[36mFile \u001B[39m\u001B[32m~\\PycharmProjects\\Tolkienizer\\.venv\\Lib\\site-packages\\selenium\\webdriver\\support\\wait.py:138\u001B[39m, in \u001B[36mWebDriverWait.until\u001B[39m\u001B[34m(self, method, message)\u001B[39m\n\u001B[32m    136\u001B[39m         \u001B[38;5;28;01mbreak\u001B[39;00m\n\u001B[32m    137\u001B[39m     time.sleep(\u001B[38;5;28mself\u001B[39m._poll)\n\u001B[32m--> \u001B[39m\u001B[32m138\u001B[39m \u001B[38;5;28;01mraise\u001B[39;00m TimeoutException(message, screen, stacktrace)\n",
      "\u001B[31mTimeoutException\u001B[39m: Message: \n"
     ]
    }
   ],
   "execution_count": 86
  },
  {
   "metadata": {
    "ExecuteTime": {
     "end_time": "2025-07-11T17:42:37.462752700Z",
     "start_time": "2025-07-11T17:38:24.676674Z"
    }
   },
   "cell_type": "code",
   "source": "driver.find_element(By.CLASS_NAME, \"next_page\").click()",
   "id": "3ff7fc1021ea85a8",
   "outputs": [],
   "execution_count": 74
  }
 ],
 "metadata": {
  "kernelspec": {
   "display_name": "Python 3",
   "language": "python",
   "name": "python3"
  },
  "language_info": {
   "codemirror_mode": {
    "name": "ipython",
    "version": 2
   },
   "file_extension": ".py",
   "mimetype": "text/x-python",
   "name": "python",
   "nbconvert_exporter": "python",
   "pygments_lexer": "ipython2",
   "version": "2.7.6"
  }
 },
 "nbformat": 4,
 "nbformat_minor": 5
}
