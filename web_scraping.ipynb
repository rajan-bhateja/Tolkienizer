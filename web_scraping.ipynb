{
 "cells": [
  {
   "metadata": {
    "ExecuteTime": {
     "end_time": "2025-07-14T09:51:23.658093Z",
     "start_time": "2025-07-14T09:51:23.653726Z"
    }
   },
   "cell_type": "code",
   "source": [
    "from selenium import webdriver\n",
    "from selenium.webdriver.common.by import By\n",
    "\n",
    "from tqdm import tqdm\n",
    "\n",
    "import time"
   ],
   "id": "d1d376d5bdba1d60",
   "outputs": [],
   "execution_count": 16
  },
  {
   "metadata": {
    "ExecuteTime": {
     "end_time": "2025-07-14T09:51:27.700987Z",
     "start_time": "2025-07-14T09:51:25.972497Z"
    }
   },
   "cell_type": "code",
   "source": "driver = webdriver.Chrome()",
   "id": "670a9389f2262909",
   "outputs": [],
   "execution_count": 17
  },
  {
   "metadata": {
    "ExecuteTime": {
     "end_time": "2025-07-14T09:51:33.987429Z",
     "start_time": "2025-07-14T09:51:33.981338Z"
    }
   },
   "cell_type": "code",
   "source": "all_quotes = []",
   "id": "5e39e86998d4efaa",
   "outputs": [],
   "execution_count": 18
  },
  {
   "metadata": {
    "ExecuteTime": {
     "end_time": "2025-07-14T09:55:53.633694Z",
     "start_time": "2025-07-14T09:51:34.457748Z"
    }
   },
   "cell_type": "code",
   "source": [
    "for i in tqdm(range(1, 101)):\n",
    "    url = f\"https://www.goodreads.com/author/quotes/656983.J_R_R_Tolkien?page={i}\"\n",
    "\n",
    "    driver.get(url)\n",
    "\n",
    "    time.sleep(0.1)\n",
    "\n",
    "    quotes_per_page = driver.find_elements(By.CLASS_NAME, \"quoteText\")\n",
    "    all_quotes.extend([quote.text for quote in quotes_per_page])\n",
    "    # print(quotes_per_page[-1].text)\n",
    "    quotes_per_page.clear()\n",
    "\n",
    "\n",
    "# scrape page 2 manually\n",
    "url = \"https://www.goodreads.com/author/quotes/656983.J_R_R_Tolkien?page=2\"\n",
    "driver.get(url)\n",
    "\n",
    "time.sleep(0.1)\n",
    "\n",
    "quotes_per_page = driver.find_elements(By.CLASS_NAME, \"quoteText\")\n",
    "all_quotes.extend([quote.text for quote in quotes_per_page])\n",
    "quotes_per_page.clear()\n",
    "\n",
    "driver.quit()"
   ],
   "id": "85b08687af3a8446",
   "outputs": [
    {
     "name": "stderr",
     "output_type": "stream",
     "text": [
      "100%|██████████| 100/100 [04:14<00:00,  2.55s/it]\n"
     ]
    }
   ],
   "execution_count": 19
  },
  {
   "metadata": {
    "ExecuteTime": {
     "end_time": "2025-07-14T09:56:18.851613Z",
     "start_time": "2025-07-14T09:56:18.845845Z"
    }
   },
   "cell_type": "code",
   "source": "print(len(all_quotes))",
   "id": "840ceb3d3c460361",
   "outputs": [
    {
     "name": "stdout",
     "output_type": "stream",
     "text": [
      "3030\n"
     ]
    }
   ],
   "execution_count": 20
  },
  {
   "metadata": {
    "ExecuteTime": {
     "end_time": "2025-07-14T09:56:59.728400Z",
     "start_time": "2025-07-14T09:56:59.724001Z"
    }
   },
   "cell_type": "code",
   "source": "print(all_quotes[0])",
   "id": "198d53e22da4b7de",
   "outputs": [
    {
     "name": "stdout",
     "output_type": "stream",
     "text": [
      "“All that is gold does not glitter,\n",
      "Not all those who wander are lost;\n",
      "The old that is strong does not wither,\n",
      "Deep roots are not reached by the frost.\n",
      "\n",
      "From the ashes a fire shall be woken,\n",
      "A light from the shadows shall spring;\n",
      "Renewed shall be blade that was broken,\n",
      "The crownless again shall be king.”\n",
      "― J.R.R. Tolkien, The Fellowship of the Ring\n"
     ]
    }
   ],
   "execution_count": 27
  },
  {
   "metadata": {},
   "cell_type": "markdown",
   "source": "#### Manually extracting data from page 2",
   "id": "f6d6cde045db945f"
  },
  {
   "metadata": {
    "ExecuteTime": {
     "end_time": "2025-07-14T09:58:53.690976Z",
     "start_time": "2025-07-14T09:58:53.681044Z"
    }
   },
   "cell_type": "code",
   "source": [
    "for i in all_quotes[31:60]:\n",
    "    print(i)\n",
    "    print(\"*\"*50)"
   ],
   "id": "8fd4141898c524ab",
   "outputs": [
    {
     "name": "stdout",
     "output_type": "stream",
     "text": [
      "\n",
      "**************************************************\n",
      "\n",
      "**************************************************\n",
      "\n",
      "**************************************************\n",
      "\n",
      "**************************************************\n",
      "\n",
      "**************************************************\n",
      "\n",
      "**************************************************\n",
      "\n",
      "**************************************************\n",
      "\n",
      "**************************************************\n",
      "\n",
      "**************************************************\n",
      "\n",
      "**************************************************\n",
      "\n",
      "**************************************************\n",
      "\n",
      "**************************************************\n",
      "\n",
      "**************************************************\n",
      "\n",
      "**************************************************\n",
      "\n",
      "**************************************************\n",
      "\n",
      "**************************************************\n",
      "\n",
      "**************************************************\n",
      "\n",
      "**************************************************\n",
      "\n",
      "**************************************************\n",
      "\n",
      "**************************************************\n",
      "\n",
      "**************************************************\n",
      "\n",
      "**************************************************\n",
      "\n",
      "**************************************************\n",
      "\n",
      "**************************************************\n",
      "\n",
      "**************************************************\n",
      "\n",
      "**************************************************\n",
      "\n",
      "**************************************************\n",
      "\n",
      "**************************************************\n",
      "\n",
      "**************************************************\n"
     ]
    }
   ],
   "execution_count": 33
  },
  {
   "metadata": {
    "ExecuteTime": {
     "end_time": "2025-07-14T10:28:09.090205Z",
     "start_time": "2025-07-14T10:28:09.075703Z"
    }
   },
   "cell_type": "code",
   "source": [
    "import pandas as pd\n",
    "\n",
    "raw_quotes_df = pd.DataFrame(all_quotes, columns=['quote'])\n",
    "raw_quotes_df"
   ],
   "id": "526555218319527e",
   "outputs": [
    {
     "data": {
      "text/plain": [
       "                                                  quote\n",
       "0     “All that is gold does not glitter,\\nNot all t...\n",
       "1     “Not all those who wander are lost.”\\n― J.R.R....\n",
       "2     “I wish it need not have happened in my time,\"...\n",
       "3     “I don't know half of you half as well as I sh...\n",
       "4     “All we have to decide is what to do with the ...\n",
       "...                                                 ...\n",
       "3025  “Home is behind, the world ahead,\\nAnd there a...\n",
       "3026  “It is not despair, for despair is only for th...\n",
       "3027  “There is more in you of good than you know, c...\n",
       "3028  “Good Morning!\" said Bilbo, and he meant it. T...\n",
       "3029  “In sorrow we must go, but not in despair. Beh...\n",
       "\n",
       "[3030 rows x 1 columns]"
      ],
      "text/html": [
       "<div>\n",
       "<style scoped>\n",
       "    .dataframe tbody tr th:only-of-type {\n",
       "        vertical-align: middle;\n",
       "    }\n",
       "\n",
       "    .dataframe tbody tr th {\n",
       "        vertical-align: top;\n",
       "    }\n",
       "\n",
       "    .dataframe thead th {\n",
       "        text-align: right;\n",
       "    }\n",
       "</style>\n",
       "<table border=\"1\" class=\"dataframe\">\n",
       "  <thead>\n",
       "    <tr style=\"text-align: right;\">\n",
       "      <th></th>\n",
       "      <th>quote</th>\n",
       "    </tr>\n",
       "  </thead>\n",
       "  <tbody>\n",
       "    <tr>\n",
       "      <th>0</th>\n",
       "      <td>“All that is gold does not glitter,\\nNot all t...</td>\n",
       "    </tr>\n",
       "    <tr>\n",
       "      <th>1</th>\n",
       "      <td>“Not all those who wander are lost.”\\n― J.R.R....</td>\n",
       "    </tr>\n",
       "    <tr>\n",
       "      <th>2</th>\n",
       "      <td>“I wish it need not have happened in my time,\"...</td>\n",
       "    </tr>\n",
       "    <tr>\n",
       "      <th>3</th>\n",
       "      <td>“I don't know half of you half as well as I sh...</td>\n",
       "    </tr>\n",
       "    <tr>\n",
       "      <th>4</th>\n",
       "      <td>“All we have to decide is what to do with the ...</td>\n",
       "    </tr>\n",
       "    <tr>\n",
       "      <th>...</th>\n",
       "      <td>...</td>\n",
       "    </tr>\n",
       "    <tr>\n",
       "      <th>3025</th>\n",
       "      <td>“Home is behind, the world ahead,\\nAnd there a...</td>\n",
       "    </tr>\n",
       "    <tr>\n",
       "      <th>3026</th>\n",
       "      <td>“It is not despair, for despair is only for th...</td>\n",
       "    </tr>\n",
       "    <tr>\n",
       "      <th>3027</th>\n",
       "      <td>“There is more in you of good than you know, c...</td>\n",
       "    </tr>\n",
       "    <tr>\n",
       "      <th>3028</th>\n",
       "      <td>“Good Morning!\" said Bilbo, and he meant it. T...</td>\n",
       "    </tr>\n",
       "    <tr>\n",
       "      <th>3029</th>\n",
       "      <td>“In sorrow we must go, but not in despair. Beh...</td>\n",
       "    </tr>\n",
       "  </tbody>\n",
       "</table>\n",
       "<p>3030 rows × 1 columns</p>\n",
       "</div>"
      ]
     },
     "execution_count": 118,
     "metadata": {},
     "output_type": "execute_result"
    }
   ],
   "execution_count": 118
  },
  {
   "metadata": {
    "ExecuteTime": {
     "end_time": "2025-07-14T10:28:09.818264Z",
     "start_time": "2025-07-14T10:28:09.810567Z"
    }
   },
   "cell_type": "code",
   "source": "raw_quotes_df[\"quote\"][0]",
   "id": "650611969e06674b",
   "outputs": [
    {
     "data": {
      "text/plain": [
       "'“All that is gold does not glitter,\\nNot all those who wander are lost;\\nThe old that is strong does not wither,\\nDeep roots are not reached by the frost.\\n\\nFrom the ashes a fire shall be woken,\\nA light from the shadows shall spring;\\nRenewed shall be blade that was broken,\\nThe crownless again shall be king.”\\n― J.R.R. Tolkien, The Fellowship of the Ring'"
      ]
     },
     "execution_count": 119,
     "metadata": {},
     "output_type": "execute_result"
    }
   ],
   "execution_count": 119
  },
  {
   "metadata": {
    "ExecuteTime": {
     "end_time": "2025-07-14T10:28:10.528786Z",
     "start_time": "2025-07-14T10:28:10.511069Z"
    }
   },
   "cell_type": "code",
   "source": "cleaned_quotes_df = raw_quotes_df[\"quote\"].str.replace('[“”]', '', regex=True)",
   "id": "bf48e3e64f5522a5",
   "outputs": [],
   "execution_count": 120
  },
  {
   "metadata": {
    "ExecuteTime": {
     "end_time": "2025-07-14T10:28:11.228647Z",
     "start_time": "2025-07-14T10:28:11.219344Z"
    }
   },
   "cell_type": "code",
   "source": "cleaned_quotes_df",
   "id": "a040b9b911873a7c",
   "outputs": [
    {
     "data": {
      "text/plain": [
       "0       All that is gold does not glitter,\\nNot all th...\n",
       "1       Not all those who wander are lost.\\n― J.R.R. T...\n",
       "2       I wish it need not have happened in my time,\" ...\n",
       "3       I don't know half of you half as well as I sho...\n",
       "4       All we have to decide is what to do with the t...\n",
       "                              ...                        \n",
       "3025    Home is behind, the world ahead,\\nAnd there ar...\n",
       "3026    It is not despair, for despair is only for tho...\n",
       "3027    There is more in you of good than you know, ch...\n",
       "3028    Good Morning!\" said Bilbo, and he meant it. Th...\n",
       "3029    In sorrow we must go, but not in despair. Beho...\n",
       "Name: quote, Length: 3030, dtype: object"
      ]
     },
     "execution_count": 121,
     "metadata": {},
     "output_type": "execute_result"
    }
   ],
   "execution_count": 121
  },
  {
   "metadata": {
    "ExecuteTime": {
     "end_time": "2025-07-14T10:28:11.991981Z",
     "start_time": "2025-07-14T10:28:11.975458Z"
    }
   },
   "cell_type": "code",
   "source": [
    "# split the rows by \"―\" and assign the first partition to cleaned_quotes_df\n",
    "cleaned_quotes_df = cleaned_quotes_df.str.rpartition(\"\\n―\")[0]"
   ],
   "id": "2af004a31037b036",
   "outputs": [],
   "execution_count": 122
  },
  {
   "metadata": {
    "ExecuteTime": {
     "end_time": "2025-07-14T10:28:12.722020Z",
     "start_time": "2025-07-14T10:28:12.713342Z"
    }
   },
   "cell_type": "code",
   "source": "cleaned_quotes_df[10]",
   "id": "65f6d6267ef0f8f9",
   "outputs": [
    {
     "data": {
      "text/plain": [
       "\"It's a dangerous business, Frodo, going out your door. You step onto the road, and if you don't keep your feet, there's no knowing where you might be swept off to.\""
      ]
     },
     "execution_count": 123,
     "metadata": {},
     "output_type": "execute_result"
    }
   ],
   "execution_count": 123
  },
  {
   "metadata": {
    "ExecuteTime": {
     "end_time": "2025-07-14T10:28:13.550251Z",
     "start_time": "2025-07-14T10:28:13.542908Z"
    }
   },
   "cell_type": "code",
   "source": "type(cleaned_quotes_df)",
   "id": "ceff70f23c5f7a20",
   "outputs": [
    {
     "data": {
      "text/plain": [
       "pandas.core.series.Series"
      ]
     },
     "execution_count": 124,
     "metadata": {},
     "output_type": "execute_result"
    }
   ],
   "execution_count": 124
  },
  {
   "metadata": {
    "ExecuteTime": {
     "end_time": "2025-07-14T10:28:14.319639Z",
     "start_time": "2025-07-14T10:28:14.309693Z"
    }
   },
   "cell_type": "code",
   "source": "cleaned_quotes_df",
   "id": "405ac30d39872c30",
   "outputs": [
    {
     "data": {
      "text/plain": [
       "0       All that is gold does not glitter,\\nNot all th...\n",
       "1                      Not all those who wander are lost.\n",
       "2       I wish it need not have happened in my time,\" ...\n",
       "3       I don't know half of you half as well as I sho...\n",
       "4       All we have to decide is what to do with the t...\n",
       "                              ...                        \n",
       "3025    Home is behind, the world ahead,\\nAnd there ar...\n",
       "3026    It is not despair, for despair is only for tho...\n",
       "3027    There is more in you of good than you know, ch...\n",
       "3028    Good Morning!\" said Bilbo, and he meant it. Th...\n",
       "3029    In sorrow we must go, but not in despair. Beho...\n",
       "Name: 0, Length: 3030, dtype: object"
      ]
     },
     "execution_count": 125,
     "metadata": {},
     "output_type": "execute_result"
    }
   ],
   "execution_count": 125
  },
  {
   "metadata": {
    "ExecuteTime": {
     "end_time": "2025-07-14T10:28:15.237684Z",
     "start_time": "2025-07-14T10:28:15.231225Z"
    }
   },
   "cell_type": "code",
   "source": [
    "# remove empty rows\n",
    "cleaned_quotes_df.drop(cleaned_quotes_df.index[31:60], axis=0, inplace=True)"
   ],
   "id": "8a7abddc43908cf3",
   "outputs": [],
   "execution_count": 126
  },
  {
   "metadata": {
    "ExecuteTime": {
     "end_time": "2025-07-14T10:28:16.099876Z",
     "start_time": "2025-07-14T10:28:16.090121Z"
    }
   },
   "cell_type": "code",
   "source": [
    "# reset index\n",
    "cleaned_quotes_df = cleaned_quotes_df.reset_index(drop=True).squeeze()\n",
    "cleaned_quotes_df"
   ],
   "id": "78a6db1760513e47",
   "outputs": [
    {
     "data": {
      "text/plain": [
       "0       All that is gold does not glitter,\\nNot all th...\n",
       "1                      Not all those who wander are lost.\n",
       "2       I wish it need not have happened in my time,\" ...\n",
       "3       I don't know half of you half as well as I sho...\n",
       "4       All we have to decide is what to do with the t...\n",
       "                              ...                        \n",
       "2996    Home is behind, the world ahead,\\nAnd there ar...\n",
       "2997    It is not despair, for despair is only for tho...\n",
       "2998    There is more in you of good than you know, ch...\n",
       "2999    Good Morning!\" said Bilbo, and he meant it. Th...\n",
       "3000    In sorrow we must go, but not in despair. Beho...\n",
       "Name: 0, Length: 3001, dtype: object"
      ]
     },
     "execution_count": 127,
     "metadata": {},
     "output_type": "execute_result"
    }
   ],
   "execution_count": 127
  },
  {
   "metadata": {
    "ExecuteTime": {
     "end_time": "2025-07-14T10:28:17.986046Z",
     "start_time": "2025-07-14T10:28:17.974543Z"
    }
   },
   "cell_type": "code",
   "source": [
    "# remove duplicates\n",
    "cleaned_quotes_df.drop_duplicates(inplace=True, ignore_index=True)\n",
    "cleaned_quotes_df"
   ],
   "id": "95ec55e2398c5f4d",
   "outputs": [
    {
     "data": {
      "text/plain": [
       "0       All that is gold does not glitter,\\nNot all th...\n",
       "1                      Not all those who wander are lost.\n",
       "2       I wish it need not have happened in my time,\" ...\n",
       "3       I don't know half of you half as well as I sho...\n",
       "4       All we have to decide is what to do with the t...\n",
       "                              ...                        \n",
       "2992    Home is behind, the world ahead,\\nAnd there ar...\n",
       "2993    It is not despair, for despair is only for tho...\n",
       "2994    There is more in you of good than you know, ch...\n",
       "2995    Good Morning!\" said Bilbo, and he meant it. Th...\n",
       "2996    In sorrow we must go, but not in despair. Beho...\n",
       "Name: 0, Length: 2997, dtype: object"
      ]
     },
     "execution_count": 128,
     "metadata": {},
     "output_type": "execute_result"
    }
   ],
   "execution_count": 128
  },
  {
   "metadata": {
    "ExecuteTime": {
     "end_time": "2025-07-14T10:28:22.146777Z",
     "start_time": "2025-07-14T10:28:22.135500Z"
    }
   },
   "cell_type": "code",
   "source": [
    "# add new line at the end\n",
    "cleaned_quotes_df = cleaned_quotes_df + \"\\n\""
   ],
   "id": "899606d09f581e71",
   "outputs": [],
   "execution_count": 129
  },
  {
   "metadata": {
    "ExecuteTime": {
     "end_time": "2025-07-14T10:28:22.966179Z",
     "start_time": "2025-07-14T10:28:22.935101Z"
    }
   },
   "cell_type": "code",
   "source": "cleaned_quotes_df.to_csv(\"quotes.txt\", index=False, header=False, encoding=\"utf-8\", lineterminator=\"\\n\")",
   "id": "ede57ac5904fa60e",
   "outputs": [],
   "execution_count": 130
  }
 ],
 "metadata": {
  "kernelspec": {
   "display_name": "Python 3",
   "language": "python",
   "name": "python3"
  },
  "language_info": {
   "codemirror_mode": {
    "name": "ipython",
    "version": 2
   },
   "file_extension": ".py",
   "mimetype": "text/x-python",
   "name": "python",
   "nbconvert_exporter": "python",
   "pygments_lexer": "ipython2",
   "version": "2.7.6"
  }
 },
 "nbformat": 4,
 "nbformat_minor": 5
}
