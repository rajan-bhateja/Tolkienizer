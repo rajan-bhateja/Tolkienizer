{
 "cells": [
  {
   "metadata": {
    "ExecuteTime": {
     "end_time": "2025-07-12T17:35:00.241442Z",
     "start_time": "2025-07-12T17:35:00.232115Z"
    }
   },
   "cell_type": "code",
   "source": [
    "import time\n",
    "\n",
    "from selenium import webdriver\n",
    "from selenium.webdriver.common.by import By\n",
    "\n",
    "from tqdm import tqdm\n",
    "\n",
    "import pandas as pd"
   ],
   "id": "d5e33258d4a16fc9",
   "outputs": [],
   "execution_count": 76
  },
  {
   "metadata": {
    "ExecuteTime": {
     "end_time": "2025-07-12T17:28:26.268127Z",
     "start_time": "2025-07-12T17:28:26.263013Z"
    }
   },
   "cell_type": "code",
   "source": "all_quotes = []",
   "id": "9591481e6fa1c620",
   "outputs": [],
   "execution_count": 67
  },
  {
   "metadata": {
    "ExecuteTime": {
     "end_time": "2025-07-12T17:34:07.470553Z",
     "start_time": "2025-07-12T17:28:26.292914Z"
    }
   },
   "cell_type": "code",
   "source": [
    "driver = webdriver.Chrome()\n",
    "\n",
    "for i in tqdm(range(100)):\n",
    "    url = f\"https://www.goodreads.com/author/quotes/656983.J_R_R_Tolkien?page={i+1}\"\n",
    "    driver.get(url)\n",
    "\n",
    "    # Store quotes on a page in `quotes_per_page` list\n",
    "    quotes_per_page = driver.find_elements(By.CLASS_NAME, \"quoteText\")\n",
    "    quotes_per_page = [quote.text for quote in quotes_per_page]\n",
    "\n",
    "    # Those quotes are then stored in the `all_quotes` list\n",
    "    all_quotes.extend(quotes_per_page)\n",
    "\n",
    "    # The `quotes_per_page` list is cleared for the next page\n",
    "    quotes_per_page.clear()\n",
    "\n",
    "    # Driver goes to next page after 0.2 seconds\n",
    "    time.sleep(0.2)\n",
    "\n",
    "# Close Chrome\n",
    "driver.quit()"
   ],
   "id": "e804440de4073445",
   "outputs": [
    {
     "name": "stderr",
     "output_type": "stream",
     "text": [
      "100%|██████████| 100/100 [05:37<00:00,  3.37s/it]\n"
     ]
    }
   ],
   "execution_count": 68
  },
  {
   "metadata": {
    "ExecuteTime": {
     "end_time": "2025-07-12T17:34:07.555646Z",
     "start_time": "2025-07-12T17:34:07.545323Z"
    }
   },
   "cell_type": "code",
   "source": "print(len(all_quotes))",
   "id": "324e5b22ff35ebbf",
   "outputs": [
    {
     "name": "stdout",
     "output_type": "stream",
     "text": [
      "3000\n"
     ]
    }
   ],
   "execution_count": 69
  },
  {
   "metadata": {
    "ExecuteTime": {
     "end_time": "2025-07-12T17:34:28.260037Z",
     "start_time": "2025-07-12T17:34:28.254252Z"
    }
   },
   "cell_type": "code",
   "source": [
    "# Checking page 2 as the login popup appeared here\n",
    "print(all_quotes[30])"
   ],
   "id": "d2331802aa51e71d",
   "outputs": [
    {
     "name": "stdout",
     "output_type": "stream",
     "text": [
      "“Far over the misty mountains cold\n",
      "To dungeons deep and caverns old\n",
      "We must away ere break of day\n",
      "To seek the pale enchanted gold.\n",
      "\n",
      "The dwarves of yore made mighty spells,\n",
      "While hammers fell like ringing bells\n",
      "In places deep, where dark things sleep,\n",
      "In hollow halls beneath the fells.\n",
      "\n",
      "For ancient king and elvish lord\n",
      "There many a gleaming golden hoard\n",
      "They shaped and wrought, and light they caught\n",
      "To hide in gems on hilt of sword.\n",
      "\n",
      "On silver necklaces they strung\n",
      "The flowering stars, on crowns they hung\n",
      "The dragon-fire, in twisted wire\n",
      "They meshed the light of moon and sun.\n",
      "\n",
      "Far over the misty mountains cold\n",
      "To dungeons deep and caverns old\n",
      "We must away, ere break of day,\n",
      "To claim our long-forgotten gold.\n",
      "\n",
      "Goblets they carved there for themselves\n",
      "And harps of gold; where no man delves\n",
      "There lay they long, and many a song\n",
      "Was sung unheard by men or elves.\n",
      "\n",
      "The pines were roaring on the height,\n",
      "The wind was moaning in the night.\n",
      "The fire was red, it flaming spread;\n",
      "The trees like torches blazed with light.\n",
      "\n",
      "The bells were ringing in the dale\n",
      "And men looked up with faces pale;\n",
      "The dragon's ire more fierce than fire\n",
      "Laid low their towers and houses frail.\n",
      "\n",
      "The mountain smoked beneath the moon;\n",
      "The dwarves, they heard the tramp of doom.\n",
      "They fled their hall to dying fall\n",
      "Beneath his feet, beneath the moon.\n",
      "\n",
      "Far over the misty mountains grim\n",
      "To dungeons deep and caverns dim\n",
      "We must away, ere break of day,\n",
      "To win our harps and gold from him!”\n",
      "―\n"
     ]
    }
   ],
   "execution_count": 75
  },
  {
   "metadata": {
    "ExecuteTime": {
     "end_time": "2025-07-12T17:34:07.646821Z",
     "start_time": "2025-07-12T17:34:07.636530Z"
    }
   },
   "cell_type": "code",
   "source": "print(all_quotes[0])",
   "id": "40d3ef76f46005d9",
   "outputs": [
    {
     "name": "stdout",
     "output_type": "stream",
     "text": [
      "“All that is gold does not glitter,\n",
      "Not all those who wander are lost;\n",
      "The old that is strong does not wither,\n",
      "Deep roots are not reached by the frost.\n",
      "\n",
      "From the ashes a fire shall be woken,\n",
      "A light from the shadows shall spring;\n",
      "Renewed shall be blade that was broken,\n",
      "The crownless again shall be king.”\n",
      "― J.R.R. Tolkien, The Fellowship of the Ring\n"
     ]
    }
   ],
   "execution_count": 71
  },
  {
   "metadata": {
    "ExecuteTime": {
     "end_time": "2025-07-12T17:34:07.688637Z",
     "start_time": "2025-07-12T17:34:07.683143Z"
    }
   },
   "cell_type": "code",
   "source": "print(all_quotes[-1])",
   "id": "f9b50f31bbbd2e74",
   "outputs": [
    {
     "name": "stdout",
     "output_type": "stream",
     "text": [
      "“There lie the woods of Lothlórien!’ said Legolas. ‘That is the fairest of all the dwellings of my people. There are no trees like the trees of that land. For in the autumn their leaves fall not, but turn to gold. Not till the spring comes and the new green opens do they fall, and then the boughs are laden with yellow flowers; and the floor of the wood is golden, and golden is the roof, and its pillars are of silver, for the bark of the trees is smooth and grey. So still our songs in Mirkwood say. My heart would be glad if I were beneath the eaves of that wood, and it were springtime!”\n",
      "― J.R.R. Tolkien, The Fellowship of the Ring\n"
     ]
    }
   ],
   "execution_count": 72
  },
  {
   "metadata": {},
   "cell_type": "code",
   "outputs": [],
   "execution_count": null,
   "source": "",
   "id": "5d4853b8d48bc230"
  }
 ],
 "metadata": {
  "kernelspec": {
   "display_name": "Python 3",
   "language": "python",
   "name": "python3"
  },
  "language_info": {
   "codemirror_mode": {
    "name": "ipython",
    "version": 2
   },
   "file_extension": ".py",
   "mimetype": "text/x-python",
   "name": "python",
   "nbconvert_exporter": "python",
   "pygments_lexer": "ipython2",
   "version": "2.7.6"
  }
 },
 "nbformat": 4,
 "nbformat_minor": 5
}
