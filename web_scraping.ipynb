{
 "cells": [
  {
   "metadata": {
    "ExecuteTime": {
     "end_time": "2025-07-14T10:45:37.468050Z",
     "start_time": "2025-07-14T10:45:37.144426Z"
    }
   },
   "cell_type": "code",
   "source": [
    "from selenium import webdriver\n",
    "from selenium.webdriver.common.by import By\n",
    "\n",
    "from tqdm import tqdm\n",
    "\n",
    "import time"
   ],
   "id": "d1d376d5bdba1d60",
   "outputs": [],
   "execution_count": 8
  },
  {
   "metadata": {
    "ExecuteTime": {
     "end_time": "2025-07-14T10:45:42.610513Z",
     "start_time": "2025-07-14T10:45:37.479487Z"
    }
   },
   "cell_type": "code",
   "source": "driver = webdriver.Chrome()",
   "id": "670a9389f2262909",
   "outputs": [],
   "execution_count": 9
  },
  {
   "metadata": {
    "ExecuteTime": {
     "end_time": "2025-07-14T10:45:42.648586Z",
     "start_time": "2025-07-14T10:45:42.639965Z"
    }
   },
   "cell_type": "code",
   "source": "all_quotes = []",
   "id": "5e39e86998d4efaa",
   "outputs": [],
   "execution_count": 10
  },
  {
   "metadata": {
    "ExecuteTime": {
     "end_time": "2025-07-14T10:48:53.478378Z",
     "start_time": "2025-07-14T10:45:42.745520Z"
    }
   },
   "cell_type": "code",
   "source": [
    "for i in tqdm(range(1, 101)):\n",
    "    url = f\"https://www.goodreads.com/author/quotes/656983.J_R_R_Tolkien?page={i}\"\n",
    "\n",
    "    driver.get(url)\n",
    "\n",
    "    time.sleep(0.1)\n",
    "\n",
    "    quotes_per_page = driver.find_elements(By.CLASS_NAME, \"quoteText\")\n",
    "    all_quotes.extend([quote.text for quote in quotes_per_page])\n",
    "    # print(quotes_per_page[-1].text)\n",
    "    quotes_per_page.clear()\n",
    "\n",
    "\n",
    "# scrape page 2 manually\n",
    "url = \"https://www.goodreads.com/author/quotes/656983.J_R_R_Tolkien?page=2\"\n",
    "driver.get(url)\n",
    "\n",
    "time.sleep(0.1)\n",
    "\n",
    "quotes_per_page = driver.find_elements(By.CLASS_NAME, \"quoteText\")\n",
    "all_quotes.extend([quote.text for quote in quotes_per_page])\n",
    "quotes_per_page.clear()\n",
    "\n",
    "driver.quit()"
   ],
   "id": "85b08687af3a8446",
   "outputs": [
    {
     "name": "stderr",
     "output_type": "stream",
     "text": [
      "100%|██████████| 100/100 [03:06<00:00,  1.87s/it]\n"
     ]
    }
   ],
   "execution_count": 11
  },
  {
   "metadata": {
    "ExecuteTime": {
     "end_time": "2025-07-14T10:48:53.658081Z",
     "start_time": "2025-07-14T10:48:53.648956Z"
    }
   },
   "cell_type": "code",
   "source": "print(len(all_quotes))",
   "id": "840ceb3d3c460361",
   "outputs": [
    {
     "name": "stdout",
     "output_type": "stream",
     "text": [
      "3030\n"
     ]
    }
   ],
   "execution_count": 12
  },
  {
   "metadata": {
    "ExecuteTime": {
     "end_time": "2025-07-14T10:48:53.722279Z",
     "start_time": "2025-07-14T10:48:53.716720Z"
    }
   },
   "cell_type": "code",
   "source": "print(all_quotes[0])",
   "id": "198d53e22da4b7de",
   "outputs": [
    {
     "name": "stdout",
     "output_type": "stream",
     "text": [
      "“All that is gold does not glitter,\n",
      "Not all those who wander are lost;\n",
      "The old that is strong does not wither,\n",
      "Deep roots are not reached by the frost.\n",
      "\n",
      "From the ashes a fire shall be woken,\n",
      "A light from the shadows shall spring;\n",
      "Renewed shall be blade that was broken,\n",
      "The crownless again shall be king.”\n",
      "― J.R.R. Tolkien, The Fellowship of the Ring\n"
     ]
    }
   ],
   "execution_count": 13
  },
  {
   "metadata": {},
   "cell_type": "markdown",
   "source": "#### Manually extracting data from page 2",
   "id": "f6d6cde045db945f"
  },
  {
   "metadata": {
    "ExecuteTime": {
     "end_time": "2025-07-14T10:48:53.821485Z",
     "start_time": "2025-07-14T10:48:53.811099Z"
    }
   },
   "cell_type": "code",
   "source": [
    "for i in all_quotes[31:60]:\n",
    "    print(i)\n",
    "    print(\"*\"*50)"
   ],
   "id": "8fd4141898c524ab",
   "outputs": [
    {
     "name": "stdout",
     "output_type": "stream",
     "text": [
      "“A man that flies from his fear may find that he has only taken a short cut to meet it.”\n",
      "― J.R.R. Tolkien, The Children of Húrin\n",
      "**************************************************\n",
      "“Many that live deserve death. And some that die deserve life. Can you give it to them? Then do not be too eager to deal out death in judgement.”\n",
      "― J.R.R. Tolkien, The Fellowship of the Ring\n",
      "**************************************************\n",
      "“So comes snow after fire, and even dragons have their endings.”\n",
      "― J.R.R. Tolkien, The Hobbit, or There and Back Again\n",
      "**************************************************\n",
      "“May the wind under your wings bear you where the sun sails and the moon walks.”\n",
      "― J.R.R. Tolkien, The Hobbit, or There and Back Again\n",
      "**************************************************\n",
      "“Where there's life there's hope.”\n",
      "― J.R.R. Tolkien, The Hobbit, or There and Back Again\n",
      "**************************************************\n",
      "“It does not do to leave a live dragon out of your calculations, if you live near him.”\n",
      "― J.R.R. Tolkien, The Hobbit, or There and Back Again\n",
      "**************************************************\n",
      "“It's like in the great stories, Mr. Frodo. The ones that really mattered. Full of darkness and danger they were. And sometimes you didn't want to know the end… because how could the end be happy? How could the world go back to the way it was when so much bad had happened? But in the end, it’s only a passing thing… this shadow. Even darkness must pass.”\n",
      "― J.R.R. Tolkien, The Two Towers\n",
      "**************************************************\n",
      "“For like a shaft, clear and cold, the thought pierced him that in the end the Shadow was only a small and passing thing: there was light and high beauty for ever beyond its reach.”\n",
      "― J.R.R. Tolkien, The Return of the King\n",
      "**************************************************\n",
      "“PIPPIN: I didn't think it would end this way.\n",
      "\n",
      "GANDALF: End? No, the journey doesn't end here. Death is just another path, one that we all must take. The grey rain-curtain of this world rolls back, and all turns to silver glass, and then you see it.\n",
      "\n",
      "PIPPIN: What? Gandalf? See what?\n",
      "\n",
      "GANDALF: White shores, and beyond, a far green country under a swift sunrise.\n",
      "\n",
      "PIPPIN: Well, that isn't so bad.\n",
      "\n",
      "GANDALF: No. No, it isn't.”\n",
      "― J.R.R. Tolkien, The Lord of the Rings\n",
      "**************************************************\n",
      "“I have claimed that Escape is one of the main functions of fairy-stories, and since I do not disapprove of them, it is plain that I do not accept the tone of scorn or pity with which 'Escape' is now so often used. Why should a man be scorned if, finding himself in prison, he tries to get out and go home? Or if he cannot do so, he thinks and talks about other topics than jailers and prison-walls?”\n",
      "― J.R.R. Tolkien\n",
      "**************************************************\n",
      "“I warn you, if you bore me, I shall take my revenge.”\n",
      "― J.R.R. Tolkien\n",
      "**************************************************\n",
      "“We have come from God, and inevitably the myths woven by us, though they contain error, will also reflect a splintered fragment of the true light, the eternal truth that is with God. Indeed only by myth-making, only by becoming 'sub-creator' and inventing stories, can Man aspire to the state of perfection that he knew before the Fall. Our myths may be misguided, but they steer however shakily towards the true harbour, while materialistic 'progress' leads only to a yawning abyss and the Iron Crown of the power of evil.”\n",
      "― J.R.R. Tolkien\n",
      "**************************************************\n",
      "“Roads Go Ever On\n",
      "\n",
      "Roads go ever ever on,\n",
      "Over rock and under tree,\n",
      "By caves where never sun has shone,\n",
      "By streams that never find the sea;\n",
      "Over snow by winter sown,\n",
      "And through the merry flowers of June,\n",
      "Over grass and over stone,\n",
      "And under mountains in the moon.\n",
      "\n",
      "Roads go ever ever on,\n",
      "Under cloud and under star.\n",
      "Yet feet that wandering have gone\n",
      "Turn at last to home afar.\n",
      "Eyes that fire and sword have seen,\n",
      "And horror in the halls of stone\n",
      "Look at last on meadows green,\n",
      "And trees and hills they long have known.\n",
      "\n",
      "The Road goes ever on and on\n",
      "Down from the door where it began.\n",
      "Now far ahead the Road has gone,\n",
      "And I must follow, if I can,\n",
      "Pursuing it with eager feet,\n",
      "Until it joins some larger way,\n",
      "Where many paths and errands meet.\n",
      "\n",
      "The Road goes ever on and on\n",
      "Down from the door where it began.\n",
      "Now far ahead the Road has gone,\n",
      "And I must follow, if I can,\n",
      "Pursuing it with weary feet,\n",
      "Until it joins some larger way,\n",
      "Where many paths and errands meet.\n",
      "And whither then? I cannot say.\n",
      "\n",
      "The Road goes ever on and on\n",
      "Out from the door where it began.\n",
      "Now far ahead the Road has gone.\n",
      "Let others follow, if they can!\n",
      "Let them a journey new begin.\n",
      "But I at last with weary feet\n",
      "Will turn towards the lighted inn,\n",
      "My evening-rest and sleep to meet.”\n",
      "― J.R.R. Tolkien, The Lord of the Rings\n",
      "**************************************************\n",
      "“You can only come to the morning through the shadows.”\n",
      "― J.R.R. Tolkien\n",
      "**************************************************\n",
      "“Short cuts make long delays.”\n",
      "― J.R.R. Tolkien, The Fellowship of the Ring\n",
      "**************************************************\n",
      "\n",
      "**************************************************\n",
      "\n",
      "**************************************************\n",
      "\n",
      "**************************************************\n",
      "\n",
      "**************************************************\n",
      "\n",
      "**************************************************\n",
      "\n",
      "**************************************************\n",
      "\n",
      "**************************************************\n",
      "\n",
      "**************************************************\n",
      "\n",
      "**************************************************\n",
      "\n",
      "**************************************************\n",
      "\n",
      "**************************************************\n",
      "\n",
      "**************************************************\n",
      "\n",
      "**************************************************\n",
      "\n",
      "**************************************************\n"
     ]
    }
   ],
   "execution_count": 14
  },
  {
   "metadata": {
    "ExecuteTime": {
     "end_time": "2025-07-14T10:54:55.541949Z",
     "start_time": "2025-07-14T10:54:55.529037Z"
    }
   },
   "cell_type": "code",
   "source": [
    "import pandas as pd\n",
    "\n",
    "raw_quotes_df = pd.DataFrame(all_quotes, columns=['quote'])\n",
    "raw_quotes_df"
   ],
   "id": "526555218319527e",
   "outputs": [
    {
     "data": {
      "text/plain": [
       "                                                  quote\n",
       "0     “All that is gold does not glitter,\\nNot all t...\n",
       "1     “Not all those who wander are lost.”\\n― J.R.R....\n",
       "2     “I wish it need not have happened in my time,\"...\n",
       "3     “I don't know half of you half as well as I sh...\n",
       "4     “All we have to decide is what to do with the ...\n",
       "...                                                 ...\n",
       "3025  “Home is behind, the world ahead,\\nAnd there a...\n",
       "3026  “It is not despair, for despair is only for th...\n",
       "3027  “There is more in you of good than you know, c...\n",
       "3028  “Good Morning!\" said Bilbo, and he meant it. T...\n",
       "3029  “In sorrow we must go, but not in despair. Beh...\n",
       "\n",
       "[3030 rows x 1 columns]"
      ],
      "text/html": [
       "<div>\n",
       "<style scoped>\n",
       "    .dataframe tbody tr th:only-of-type {\n",
       "        vertical-align: middle;\n",
       "    }\n",
       "\n",
       "    .dataframe tbody tr th {\n",
       "        vertical-align: top;\n",
       "    }\n",
       "\n",
       "    .dataframe thead th {\n",
       "        text-align: right;\n",
       "    }\n",
       "</style>\n",
       "<table border=\"1\" class=\"dataframe\">\n",
       "  <thead>\n",
       "    <tr style=\"text-align: right;\">\n",
       "      <th></th>\n",
       "      <th>quote</th>\n",
       "    </tr>\n",
       "  </thead>\n",
       "  <tbody>\n",
       "    <tr>\n",
       "      <th>0</th>\n",
       "      <td>“All that is gold does not glitter,\\nNot all t...</td>\n",
       "    </tr>\n",
       "    <tr>\n",
       "      <th>1</th>\n",
       "      <td>“Not all those who wander are lost.”\\n― J.R.R....</td>\n",
       "    </tr>\n",
       "    <tr>\n",
       "      <th>2</th>\n",
       "      <td>“I wish it need not have happened in my time,\"...</td>\n",
       "    </tr>\n",
       "    <tr>\n",
       "      <th>3</th>\n",
       "      <td>“I don't know half of you half as well as I sh...</td>\n",
       "    </tr>\n",
       "    <tr>\n",
       "      <th>4</th>\n",
       "      <td>“All we have to decide is what to do with the ...</td>\n",
       "    </tr>\n",
       "    <tr>\n",
       "      <th>...</th>\n",
       "      <td>...</td>\n",
       "    </tr>\n",
       "    <tr>\n",
       "      <th>3025</th>\n",
       "      <td>“Home is behind, the world ahead,\\nAnd there a...</td>\n",
       "    </tr>\n",
       "    <tr>\n",
       "      <th>3026</th>\n",
       "      <td>“It is not despair, for despair is only for th...</td>\n",
       "    </tr>\n",
       "    <tr>\n",
       "      <th>3027</th>\n",
       "      <td>“There is more in you of good than you know, c...</td>\n",
       "    </tr>\n",
       "    <tr>\n",
       "      <th>3028</th>\n",
       "      <td>“Good Morning!\" said Bilbo, and he meant it. T...</td>\n",
       "    </tr>\n",
       "    <tr>\n",
       "      <th>3029</th>\n",
       "      <td>“In sorrow we must go, but not in despair. Beh...</td>\n",
       "    </tr>\n",
       "  </tbody>\n",
       "</table>\n",
       "<p>3030 rows × 1 columns</p>\n",
       "</div>"
      ]
     },
     "execution_count": 54,
     "metadata": {},
     "output_type": "execute_result"
    }
   ],
   "execution_count": 54
  },
  {
   "metadata": {
    "ExecuteTime": {
     "end_time": "2025-07-14T10:54:56.334626Z",
     "start_time": "2025-07-14T10:54:56.325681Z"
    }
   },
   "cell_type": "code",
   "source": "raw_quotes_df[\"quote\"][0]",
   "id": "650611969e06674b",
   "outputs": [
    {
     "data": {
      "text/plain": [
       "'“All that is gold does not glitter,\\nNot all those who wander are lost;\\nThe old that is strong does not wither,\\nDeep roots are not reached by the frost.\\n\\nFrom the ashes a fire shall be woken,\\nA light from the shadows shall spring;\\nRenewed shall be blade that was broken,\\nThe crownless again shall be king.”\\n― J.R.R. Tolkien, The Fellowship of the Ring'"
      ]
     },
     "execution_count": 55,
     "metadata": {},
     "output_type": "execute_result"
    }
   ],
   "execution_count": 55
  },
  {
   "metadata": {
    "ExecuteTime": {
     "end_time": "2025-07-14T10:54:56.965484Z",
     "start_time": "2025-07-14T10:54:56.948217Z"
    }
   },
   "cell_type": "code",
   "source": "cleaned_quotes_df = raw_quotes_df[\"quote\"].str.replace('[“”]', '', regex=True)",
   "id": "bf48e3e64f5522a5",
   "outputs": [],
   "execution_count": 56
  },
  {
   "metadata": {
    "ExecuteTime": {
     "end_time": "2025-07-14T10:54:57.528632Z",
     "start_time": "2025-07-14T10:54:57.521039Z"
    }
   },
   "cell_type": "code",
   "source": "cleaned_quotes_df",
   "id": "a040b9b911873a7c",
   "outputs": [
    {
     "data": {
      "text/plain": [
       "0       All that is gold does not glitter,\\nNot all th...\n",
       "1       Not all those who wander are lost.\\n― J.R.R. T...\n",
       "2       I wish it need not have happened in my time,\" ...\n",
       "3       I don't know half of you half as well as I sho...\n",
       "4       All we have to decide is what to do with the t...\n",
       "                              ...                        \n",
       "3025    Home is behind, the world ahead,\\nAnd there ar...\n",
       "3026    It is not despair, for despair is only for tho...\n",
       "3027    There is more in you of good than you know, ch...\n",
       "3028    Good Morning!\" said Bilbo, and he meant it. Th...\n",
       "3029    In sorrow we must go, but not in despair. Beho...\n",
       "Name: quote, Length: 3030, dtype: object"
      ]
     },
     "execution_count": 57,
     "metadata": {},
     "output_type": "execute_result"
    }
   ],
   "execution_count": 57
  },
  {
   "metadata": {
    "ExecuteTime": {
     "end_time": "2025-07-14T10:54:58.272177Z",
     "start_time": "2025-07-14T10:54:58.259909Z"
    }
   },
   "cell_type": "code",
   "source": [
    "# split the rows by \"―\" and assign the first partition to cleaned_quotes_df\n",
    "cleaned_quotes_df = cleaned_quotes_df.str.rpartition(\"\\n―\")[0]"
   ],
   "id": "2af004a31037b036",
   "outputs": [],
   "execution_count": 58
  },
  {
   "metadata": {
    "ExecuteTime": {
     "end_time": "2025-07-14T10:54:58.960632Z",
     "start_time": "2025-07-14T10:54:58.953043Z"
    }
   },
   "cell_type": "code",
   "source": "cleaned_quotes_df[10]",
   "id": "65f6d6267ef0f8f9",
   "outputs": [
    {
     "data": {
      "text/plain": [
       "\"It's a dangerous business, Frodo, going out your door. You step onto the road, and if you don't keep your feet, there's no knowing where you might be swept off to.\""
      ]
     },
     "execution_count": 59,
     "metadata": {},
     "output_type": "execute_result"
    }
   ],
   "execution_count": 59
  },
  {
   "metadata": {
    "ExecuteTime": {
     "end_time": "2025-07-14T10:55:00.945301Z",
     "start_time": "2025-07-14T10:55:00.937141Z"
    }
   },
   "cell_type": "code",
   "source": "type(cleaned_quotes_df)",
   "id": "ceff70f23c5f7a20",
   "outputs": [
    {
     "data": {
      "text/plain": [
       "pandas.core.series.Series"
      ]
     },
     "execution_count": 60,
     "metadata": {},
     "output_type": "execute_result"
    }
   ],
   "execution_count": 60
  },
  {
   "metadata": {
    "ExecuteTime": {
     "end_time": "2025-07-14T10:55:01.773011Z",
     "start_time": "2025-07-14T10:55:01.764063Z"
    }
   },
   "cell_type": "code",
   "source": "cleaned_quotes_df",
   "id": "405ac30d39872c30",
   "outputs": [
    {
     "data": {
      "text/plain": [
       "0       All that is gold does not glitter,\\nNot all th...\n",
       "1                      Not all those who wander are lost.\n",
       "2       I wish it need not have happened in my time,\" ...\n",
       "3       I don't know half of you half as well as I sho...\n",
       "4       All we have to decide is what to do with the t...\n",
       "                              ...                        \n",
       "3025    Home is behind, the world ahead,\\nAnd there ar...\n",
       "3026    It is not despair, for despair is only for tho...\n",
       "3027    There is more in you of good than you know, ch...\n",
       "3028    Good Morning!\" said Bilbo, and he meant it. Th...\n",
       "3029    In sorrow we must go, but not in despair. Beho...\n",
       "Name: 0, Length: 3030, dtype: object"
      ]
     },
     "execution_count": 61,
     "metadata": {},
     "output_type": "execute_result"
    }
   ],
   "execution_count": 61
  },
  {
   "metadata": {
    "ExecuteTime": {
     "end_time": "2025-07-14T10:55:02.646572Z",
     "start_time": "2025-07-14T10:55:02.634232Z"
    }
   },
   "cell_type": "code",
   "source": [
    "# remove empty rows\n",
    "cleaned_quotes_df.drop(cleaned_quotes_df.index[31:60], axis=0, inplace=True)"
   ],
   "id": "8a7abddc43908cf3",
   "outputs": [],
   "execution_count": 62
  },
  {
   "metadata": {
    "ExecuteTime": {
     "end_time": "2025-07-14T10:55:03.647942Z",
     "start_time": "2025-07-14T10:55:03.635171Z"
    }
   },
   "cell_type": "code",
   "source": [
    "# reset index\n",
    "cleaned_quotes_df = cleaned_quotes_df.reset_index(drop=True).squeeze()\n",
    "cleaned_quotes_df"
   ],
   "id": "78a6db1760513e47",
   "outputs": [
    {
     "data": {
      "text/plain": [
       "0       All that is gold does not glitter,\\nNot all th...\n",
       "1                      Not all those who wander are lost.\n",
       "2       I wish it need not have happened in my time,\" ...\n",
       "3       I don't know half of you half as well as I sho...\n",
       "4       All we have to decide is what to do with the t...\n",
       "                              ...                        \n",
       "2996    Home is behind, the world ahead,\\nAnd there ar...\n",
       "2997    It is not despair, for despair is only for tho...\n",
       "2998    There is more in you of good than you know, ch...\n",
       "2999    Good Morning!\" said Bilbo, and he meant it. Th...\n",
       "3000    In sorrow we must go, but not in despair. Beho...\n",
       "Name: 0, Length: 3001, dtype: object"
      ]
     },
     "execution_count": 63,
     "metadata": {},
     "output_type": "execute_result"
    }
   ],
   "execution_count": 63
  },
  {
   "metadata": {
    "ExecuteTime": {
     "end_time": "2025-07-14T10:55:04.614373Z",
     "start_time": "2025-07-14T10:55:04.603815Z"
    }
   },
   "cell_type": "code",
   "source": [
    "# remove duplicates\n",
    "cleaned_quotes_df.drop_duplicates(inplace=True, ignore_index=True)\n",
    "cleaned_quotes_df"
   ],
   "id": "95ec55e2398c5f4d",
   "outputs": [
    {
     "data": {
      "text/plain": [
       "0       All that is gold does not glitter,\\nNot all th...\n",
       "1                      Not all those who wander are lost.\n",
       "2       I wish it need not have happened in my time,\" ...\n",
       "3       I don't know half of you half as well as I sho...\n",
       "4       All we have to decide is what to do with the t...\n",
       "                              ...                        \n",
       "2992    Home is behind, the world ahead,\\nAnd there ar...\n",
       "2993    It is not despair, for despair is only for tho...\n",
       "2994    There is more in you of good than you know, ch...\n",
       "2995    Good Morning!\" said Bilbo, and he meant it. Th...\n",
       "2996    In sorrow we must go, but not in despair. Beho...\n",
       "Name: 0, Length: 2997, dtype: object"
      ]
     },
     "execution_count": 64,
     "metadata": {},
     "output_type": "execute_result"
    }
   ],
   "execution_count": 64
  },
  {
   "metadata": {
    "ExecuteTime": {
     "end_time": "2025-07-14T10:55:06.218666Z",
     "start_time": "2025-07-14T10:55:06.212497Z"
    }
   },
   "cell_type": "code",
   "source": [
    "# add a new line at the end\n",
    "cleaned_quotes_df = cleaned_quotes_df + '\\n'"
   ],
   "id": "899606d09f581e71",
   "outputs": [],
   "execution_count": 65
  },
  {
   "metadata": {
    "ExecuteTime": {
     "end_time": "2025-07-14T10:55:06.938934Z",
     "start_time": "2025-07-14T10:55:06.902166Z"
    }
   },
   "cell_type": "code",
   "source": "cleaned_quotes_df.to_csv(\"quotes.txt\", index=False, header=False, encoding=\"utf-8\", lineterminator=\"\\n\")",
   "id": "ede57ac5904fa60e",
   "outputs": [],
   "execution_count": 66
  }
 ],
 "metadata": {
  "kernelspec": {
   "display_name": "Python 3",
   "language": "python",
   "name": "python3"
  },
  "language_info": {
   "codemirror_mode": {
    "name": "ipython",
    "version": 2
   },
   "file_extension": ".py",
   "mimetype": "text/x-python",
   "name": "python",
   "nbconvert_exporter": "python",
   "pygments_lexer": "ipython2",
   "version": "2.7.6"
  }
 },
 "nbformat": 4,
 "nbformat_minor": 5
}
