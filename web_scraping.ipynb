{
 "cells": [
  {
   "metadata": {},
   "cell_type": "markdown",
   "source": "### Imports",
   "id": "57bf270b005500ac"
  },
  {
   "cell_type": "code",
   "id": "initial_id",
   "metadata": {
    "collapsed": true,
    "ExecuteTime": {
     "end_time": "2025-07-12T11:51:56.691727Z",
     "start_time": "2025-07-12T11:51:56.674529Z"
    }
   },
   "source": [
    "import time\n",
    "\n",
    "from selenium import webdriver\n",
    "from selenium.webdriver.common.by import By\n",
    "from selenium.webdriver.common.keys import Keys\n",
    "from selenium.webdriver.support.ui import WebDriverWait\n",
    "from selenium.webdriver.support import expected_conditions as EC\n",
    "\n",
    "from tqdm import tqdm"
   ],
   "outputs": [],
   "execution_count": 149
  },
  {
   "metadata": {
    "ExecuteTime": {
     "end_time": "2025-07-12T11:51:59.096893Z",
     "start_time": "2025-07-12T11:51:56.725996Z"
    }
   },
   "cell_type": "code",
   "source": [
    "url = r\"https://www.goodreads.com/author/quotes/656983.J_R_R_Tolkien?page=1\"\n",
    "\n",
    "driver = webdriver.Chrome()\n",
    "driver.get(url)"
   ],
   "id": "ef4edbf58c7a6bee",
   "outputs": [],
   "execution_count": 150
  },
  {
   "metadata": {
    "ExecuteTime": {
     "end_time": "2025-07-12T11:51:59.161830Z",
     "start_time": "2025-07-12T11:51:59.157289Z"
    }
   },
   "cell_type": "code",
   "source": "all_quotes = []",
   "id": "f1eedd4244dd1d1e",
   "outputs": [],
   "execution_count": 151
  },
  {
   "metadata": {
    "ExecuteTime": {
     "end_time": "2025-07-12T11:52:00.486224Z",
     "start_time": "2025-07-12T11:51:59.180840Z"
    }
   },
   "cell_type": "code",
   "source": [
    "quotes_per_page = driver.find_elements(By.CLASS_NAME, \"quoteText\")\n",
    "quotes_per_page = [quote.text for quote in quotes_per_page]\n",
    "all_quotes.extend(quotes_per_page)\n",
    "quotes_per_page.clear()\n",
    "print(all_quotes)"
   ],
   "id": "a3bba943d6aa197",
   "outputs": [
    {
     "name": "stdout",
     "output_type": "stream",
     "text": [
      "['“All that is gold does not glitter,\\nNot all those who wander are lost;\\nThe old that is strong does not wither,\\nDeep roots are not reached by the frost.\\n\\nFrom the ashes a fire shall be woken,\\nA light from the shadows shall spring;\\nRenewed shall be blade that was broken,\\nThe crownless again shall be king.”\\n― J.R.R. Tolkien, The Fellowship of the Ring', '“Not all those who wander are lost.”\\n― J.R.R. Tolkien, The Fellowship of the Ring', '“I wish it need not have happened in my time,\" said Frodo.\\n\"So do I,\" said Gandalf, \"and so do all who live to see such times. But that is not for them to decide. All we have to decide is what to do with the time that is given us.”\\n― J.R.R. Tolkien, The Fellowship of the Ring', \"“I don't know half of you half as well as I should like; and I like less than half of you half as well as you deserve.”\\n― J.R.R. Tolkien, The Fellowship of the Ring\", '“All we have to decide is what to do with the time that is given us.”\\n― J.R.R. Tolkien, The Fellowship of the Ring', '“If more of us valued food and cheer and song above hoarded gold, it would be a merrier world.”\\n― J.R.R. Tolkien', '“Never laugh at live dragons.”\\n― J.R.R. Tolkien', '“Faithless is he that says farewell when the road darkens.”\\n― J.R.R. Tolkien, The Fellowship of the Ring', '“The world is indeed full of peril, and in it there are many dark places; but still there is much that is fair, and though in all lands love is now mingled with grief, it grows perhaps the greater.”\\n― J.R.R. Tolkien, The Fellowship of the Ring', '“Deserves it! I daresay he does. Many that live deserve death. And some that die deserve life. Can you give it to them? Then do not be too eager to deal out death in judgement. For even the very wise cannot see all ends.”\\n― J.R.R. Tolkien, The Fellowship of the Ring', \"“It's a dangerous business, Frodo, going out your door. You step onto the road, and if you don't keep your feet, there's no knowing where you might be swept off to.”\\n― J.R.R. Tolkien, The Lord of the Rings\", '“I will not say: do not weep; for not all tears are an evil.”\\n― J.R.R. Tolkien, The Return of the King', \"“Fantasy is escapist, and that is its glory. If a soldier is imprisioned by the enemy, don't we consider it his duty to escape?. . .If we value the freedom of mind and soul, if we're partisans of liberty, then it's our plain duty to escape, and to take as many people with us as we can!”\\n― J.R.R. Tolkien\", '“Do you wish me a good morning, or mean that it is a good morning whether I want it or not; or that you feel good this morning; or that it is a morning to be good on?”\\n― J.R.R. Tolkien, The Hobbit, or There and Back Again', '“War must be, while we defend our lives against a destroyer who would devour all; but I do not love the bright sword for its sharpness, nor the arrow for its swiftness, nor the warrior for his glory. I love only that which they defend.”\\n― J.R.R. Tolkien, The Two Towers', '“The Road goes ever on and on\\nDown from the door where it began.\\nNow far ahead the Road has gone,\\nAnd I must follow, if I can,\\nPursuing it with eager feet,\\nUntil it joins some larger way\\nWhere many paths and errands meet.\\nAnd whither then? I cannot say”\\n― J.R.R. Tolkien, The Fellowship of the Ring', '“Three Rings for the Elven-kings under the sky,\\nSeven for the Dwarf-lords in their halls of stone,\\nNine for Mortal Men, doomed to die,\\nOne for the Dark Lord on his dark throne\\nIn the Land of Mordor where the Shadows lie.\\nOne Ring to rule them all, One Ring to find them,\\nOne Ring to bring them all and in the darkness bind them.\\nIn the Land of Mordor where the Shadows lie.”\\n― J.R.R. Tolkien', '“Still round the corner there may wait\\nA new road or a secret gate\\nAnd though I oft have passed them by\\nA day will come at last when I\\nShall take the hidden paths that run\\nWest of the Moon, East of the Sun.”\\n― J.R.R. Tolkien', '“And he took her in his arms and kissed her under the sunlit sky, and he cared not that they stood high upon the walls in the sight of many.”\\n― J.R.R. Tolkien', '“I am glad you are here with me. Here at the end of all things, Sam.”\\n― J.R.R. Tolkien, The Return of the King', '“Courage is found in unlikely places.”\\n― J.R.R. Tolkien', '“May it be a light to you in dark places, when all other lights go out.”\\n― J.R.R. Tolkien, The Fellowship of the Ring', \"“It's the job that's never started as takes longest to finish.”\\n― J.R.R. Tolkien, The Lord of the Rings\", '“I sit beside the fire and think\\nOf all that I have seen\\nOf meadow flowers and butterflies\\nIn summers that have been\\n\\nOf yellow leaves and gossamer\\nIn autumns that there were\\nWith morning mist and silver sun\\nAnd wind upon my hair\\n\\nI sit beside the fire and think\\nOf how the world will be\\nWhen winter comes without a spring\\nThat I shall ever see\\n\\nFor still there are so many things\\nThat I have never seen\\nIn every wood in every spring\\nThere is a different green\\n\\nI sit beside the fire and think\\nOf people long ago\\nAnd people that will see a world\\nThat I shall never know\\n\\nBut all the while I sit and think\\nOf times there were before\\nI listen for returning feet\\nAnd voices at the door”\\n― J.R.R. Tolkien', '“There is nothing like looking, if you want to find something. You certainly usually find something, if you look, but it is not always quite the something you were after.”\\n― J.R.R. Tolkien, The Hobbit, or There and Back Again', '“What do you fear, lady?\" [Aragorn] asked.\\n\"A cage,\" [Éowyn] said. \"To stay behind bars, until use and old age accept them, and all chance of doing great deeds is gone beyond recall or desire.”\\n― J.R.R. Tolkien, The Return of the King', '“Moonlight drowns out all but the brightest stars.”\\n― J.R.R. Tolkien, The Lord of the Rings', '“In a hole in the ground there lived a hobbit.”\\n― J.R.R. Tolkien, The Hobbit, or There and Back Again', '“Ho! Ho! Ho! To the bottle I go\\nTo heal my heart and drown my woe\\nRain may fall, and wind may blow\\nAnd many miles be still to go\\nBut under a tall tree will I lie\\nAnd let the clouds go sailing by”\\n― J.R.R. Tolkien', '“Do not meddle in the affairs of wizards, for they are subtle and quick to anger.”\\n― J.R.R. Tolkien, The Fellowship of the Ring']\n"
     ]
    }
   ],
   "execution_count": 152
  },
  {
   "metadata": {
    "ExecuteTime": {
     "end_time": "2025-07-12T11:52:01.918581Z",
     "start_time": "2025-07-12T11:52:00.491610Z"
    }
   },
   "cell_type": "code",
   "source": "next_page_button = driver.find_element(By.CLASS_NAME, \"next_page\").click()",
   "id": "9745bf3e2c203943",
   "outputs": [],
   "execution_count": 153
  },
  {
   "metadata": {
    "ExecuteTime": {
     "end_time": "2025-07-12T11:52:14.047053Z",
     "start_time": "2025-07-12T11:52:01.948844Z"
    }
   },
   "cell_type": "code",
   "source": [
    "from selenium.common import TimeoutException\n",
    "\n",
    "try:\n",
    "    time.sleep(2)\n",
    "    login_popup = WebDriverWait(driver, 10).until(\n",
    "    EC.presence_of_element_located((By.CLASS_NAME, \"gr-h3 gr-h3--serif gr-h3--noMargin\"))\n",
    "    )\n",
    "    login_popup.send_keys(Keys.ESCAPE)\n",
    "\n",
    "except TimeoutException as e:\n",
    "    print(\"Error occurred:\", e.msg)"
   ],
   "id": "608b395d3e34aae",
   "outputs": [
    {
     "name": "stdout",
     "output_type": "stream",
     "text": [
      "Error occurred: \n"
     ]
    }
   ],
   "execution_count": 154
  }
 ],
 "metadata": {
  "kernelspec": {
   "display_name": "Python 3",
   "language": "python",
   "name": "python3"
  },
  "language_info": {
   "codemirror_mode": {
    "name": "ipython",
    "version": 2
   },
   "file_extension": ".py",
   "mimetype": "text/x-python",
   "name": "python",
   "nbconvert_exporter": "python",
   "pygments_lexer": "ipython2",
   "version": "2.7.6"
  }
 },
 "nbformat": 4,
 "nbformat_minor": 5
}
