{
 "cells": [
  {
   "cell_type": "code",
   "id": "initial_id",
   "metadata": {
    "collapsed": true,
    "ExecuteTime": {
     "end_time": "2025-07-11T17:13:16.583143Z",
     "start_time": "2025-07-11T17:13:16.548660Z"
    }
   },
   "source": [
    "from selenium import webdriver\n",
    "from selenium.webdriver.common.by import By\n",
    "from tqdm import tqdm"
   ],
   "outputs": [],
   "execution_count": 45
  },
  {
   "metadata": {
    "ExecuteTime": {
     "end_time": "2025-07-11T16:51:21.351738Z",
     "start_time": "2025-07-11T16:51:15.682202Z"
    }
   },
   "cell_type": "code",
   "source": [
    "url = r\"https://www.goodreads.com/author/quotes/656983.J_R_R_Tolkien?page=1\"\n",
    "\n",
    "driver = webdriver.Chrome()\n",
    "driver.get(url)"
   ],
   "id": "ef4edbf58c7a6bee",
   "outputs": [],
   "execution_count": 2
  },
  {
   "metadata": {
    "ExecuteTime": {
     "end_time": "2025-07-11T17:19:36.933872Z",
     "start_time": "2025-07-11T17:19:36.097407Z"
    }
   },
   "cell_type": "code",
   "source": [
    "quotes = driver.find_elements(By.CLASS_NAME, \"quoteText\")\n",
    "quotes = [quote.text for quote in quotes]"
   ],
   "id": "3521d6c56ca30f80",
   "outputs": [],
   "execution_count": 58
  },
  {
   "metadata": {
    "ExecuteTime": {
     "end_time": "2025-07-11T17:19:45.444793Z",
     "start_time": "2025-07-11T17:19:45.437208Z"
    }
   },
   "cell_type": "code",
   "source": "print(quotes[0])",
   "id": "16eb111d2d53d21f",
   "outputs": [
    {
     "name": "stdout",
     "output_type": "stream",
     "text": [
      "“All that is gold does not glitter,\n",
      "Not all those who wander are lost;\n",
      "The old that is strong does not wither,\n",
      "Deep roots are not reached by the frost.\n",
      "\n",
      "From the ashes a fire shall be woken,\n",
      "A light from the shadows shall spring;\n",
      "Renewed shall be blade that was broken,\n",
      "The crownless again shall be king.”\n",
      "― J.R.R. Tolkien, The Fellowship of the Ring\n"
     ]
    }
   ],
   "execution_count": 59
  },
  {
   "metadata": {
    "ExecuteTime": {
     "end_time": "2025-07-11T17:19:56.906249Z",
     "start_time": "2025-07-11T17:19:56.900452Z"
    }
   },
   "cell_type": "code",
   "source": "print(quotes[-1])",
   "id": "1bf6e10ce4ca7a64",
   "outputs": [
    {
     "name": "stdout",
     "output_type": "stream",
     "text": [
      "“Do not meddle in the affairs of wizards, for they are subtle and quick to anger.”\n",
      "― J.R.R. Tolkien, The Fellowship of the Ring\n"
     ]
    }
   ],
   "execution_count": 60
  },
  {
   "metadata": {},
   "cell_type": "code",
   "outputs": [],
   "execution_count": null,
   "source": "",
   "id": "3ff7fc1021ea85a8"
  }
 ],
 "metadata": {
  "kernelspec": {
   "display_name": "Python 3",
   "language": "python",
   "name": "python3"
  },
  "language_info": {
   "codemirror_mode": {
    "name": "ipython",
    "version": 2
   },
   "file_extension": ".py",
   "mimetype": "text/x-python",
   "name": "python",
   "nbconvert_exporter": "python",
   "pygments_lexer": "ipython2",
   "version": "2.7.6"
  }
 },
 "nbformat": 4,
 "nbformat_minor": 5
}
