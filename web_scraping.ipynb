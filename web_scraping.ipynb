{
 "cells": [
  {
   "metadata": {
    "ExecuteTime": {
     "end_time": "2025-07-13T14:14:58.773766Z",
     "start_time": "2025-07-13T14:14:58.765477Z"
    }
   },
   "cell_type": "code",
   "source": [
    "from selenium import webdriver\n",
    "from selenium.webdriver.common.by import By\n",
    "\n",
    "from tqdm import tqdm\n",
    "\n",
    "import time"
   ],
   "id": "d1d376d5bdba1d60",
   "outputs": [],
   "execution_count": 9
  },
  {
   "metadata": {
    "ExecuteTime": {
     "end_time": "2025-07-13T14:15:00.322606Z",
     "start_time": "2025-07-13T14:14:58.796079Z"
    }
   },
   "cell_type": "code",
   "source": "driver = webdriver.Chrome()",
   "id": "670a9389f2262909",
   "outputs": [],
   "execution_count": 10
  },
  {
   "metadata": {
    "ExecuteTime": {
     "end_time": "2025-07-13T14:15:00.347524Z",
     "start_time": "2025-07-13T14:15:00.341807Z"
    }
   },
   "cell_type": "code",
   "source": "all_quotes = []",
   "id": "5e39e86998d4efaa",
   "outputs": [],
   "execution_count": 11
  },
  {
   "metadata": {
    "ExecuteTime": {
     "end_time": "2025-07-13T14:19:19.738522Z",
     "start_time": "2025-07-13T14:15:00.391883Z"
    }
   },
   "cell_type": "code",
   "source": [
    "for i in tqdm(range(1, 101)):\n",
    "    url = f\"https://www.goodreads.com/author/quotes/656983.J_R_R_Tolkien?page={i}\"\n",
    "\n",
    "    driver.get(url)\n",
    "\n",
    "    time.sleep(0.1)\n",
    "\n",
    "    quotes_per_page = driver.find_elements(By.CLASS_NAME, \"quoteText\")\n",
    "    all_quotes.extend([quote.text for quote in quotes_per_page])\n",
    "    # print(quotes_per_page[-1].text)\n",
    "    quotes_per_page.clear()\n",
    "\n",
    "driver.quit()"
   ],
   "id": "85b08687af3a8446",
   "outputs": [
    {
     "name": "stderr",
     "output_type": "stream",
     "text": [
      "100%|██████████| 100/100 [04:19<00:00,  2.59s/it]\n"
     ]
    }
   ],
   "execution_count": 12
  },
  {
   "metadata": {
    "ExecuteTime": {
     "end_time": "2025-07-13T14:19:19.867725Z",
     "start_time": "2025-07-13T14:19:19.854392Z"
    }
   },
   "cell_type": "code",
   "source": "print(len(all_quotes))",
   "id": "e82b9d46ef680e8a",
   "outputs": [
    {
     "name": "stdout",
     "output_type": "stream",
     "text": [
      "3000\n"
     ]
    }
   ],
   "execution_count": 13
  },
  {
   "metadata": {
    "ExecuteTime": {
     "end_time": "2025-07-13T14:19:19.939215Z",
     "start_time": "2025-07-13T14:19:19.928332Z"
    }
   },
   "cell_type": "code",
   "source": "print(all_quotes[0])",
   "id": "1c6d9725474f3e0",
   "outputs": [
    {
     "name": "stdout",
     "output_type": "stream",
     "text": [
      "“All that is gold does not glitter,\n",
      "Not all those who wander are lost;\n",
      "The old that is strong does not wither,\n",
      "Deep roots are not reached by the frost.\n",
      "\n",
      "From the ashes a fire shall be woken,\n",
      "A light from the shadows shall spring;\n",
      "Renewed shall be blade that was broken,\n",
      "The crownless again shall be king.”\n",
      "― J.R.R. Tolkien, The Fellowship of the Ring\n"
     ]
    }
   ],
   "execution_count": 14
  },
  {
   "metadata": {
    "ExecuteTime": {
     "end_time": "2025-07-13T14:19:20.017120Z",
     "start_time": "2025-07-13T14:19:20.010267Z"
    }
   },
   "cell_type": "code",
   "source": [
    "for i in all_quotes[30:65]:\n",
    "    print(i)"
   ],
   "id": "c55cac3d36389a40",
   "outputs": [
    {
     "name": "stdout",
     "output_type": "stream",
     "text": [
      "“Far over the misty mountains cold\n",
      "To dungeons deep and caverns old\n",
      "We must away ere break of day\n",
      "To seek the pale enchanted gold.\n",
      "\n",
      "The dwarves of yore made mighty spells,\n",
      "While hammers fell like ringing bells\n",
      "In places deep, where dark things sleep,\n",
      "In hollow halls beneath the fells.\n",
      "\n",
      "For ancient king and elvish lord\n",
      "There many a gleaming golden hoard\n",
      "They shaped and wrought, and light they caught\n",
      "To hide in gems on hilt of sword.\n",
      "\n",
      "On silver necklaces they strung\n",
      "The flowering stars, on crowns they hung\n",
      "The dragon-fire, in twisted wire\n",
      "They meshed the light of moon and sun.\n",
      "\n",
      "Far over the misty mountains cold\n",
      "To dungeons deep and caverns old\n",
      "We must away, ere break of day,\n",
      "To claim our long-forgotten gold.\n",
      "\n",
      "Goblets they carved there for themselves\n",
      "And harps of gold; where no man delves\n",
      "There lay they long, and many a song\n",
      "Was sung unheard by men or elves.\n",
      "\n",
      "The pines were roaring on the height,\n",
      "The wind was moaning in the night.\n",
      "The fire was red, it flaming spread;\n",
      "The trees like torches blazed with light.\n",
      "\n",
      "The bells were ringing in the dale\n",
      "And men looked up with faces pale;\n",
      "The dragon's ire more fierce than fire\n",
      "Laid low their towers and houses frail.\n",
      "\n",
      "The mountain smoked beneath the moon;\n",
      "The dwarves, they heard the tramp of doom.\n",
      "They fled their hall to dying fall\n",
      "Beneath his feet, beneath the moon.\n",
      "\n",
      "Far over the misty mountains grim\n",
      "To dungeons deep and caverns dim\n",
      "We must away, ere break of day,\n",
      "To win our harps and gold from him!”\n",
      "― J.R.R. Tolkien, The Hobbit, or There and Back Again\n",
      "“A man that flies from his fear may find that he has only taken a short cut to meet it.”\n",
      "― J.R.R. Tolkien, The Children of Húrin\n",
      "“Many that live deserve death. And some that die deserve life. Can you give it to them? Then do not be too eager to deal out death in judgement.”\n",
      "― J.R.R. Tolkien, The Fellowship of the Ring\n",
      "“So comes snow after fire, and even dragons have their endings.”\n",
      "― J.R.R. Tolkien, The Hobbit, or There and Back Again\n",
      "“May the wind under your wings bear you where the sun sails and the moon walks.”\n",
      "― J.R.R. Tolkien, The Hobbit, or There and Back Again\n",
      "“Where there's life there's hope.”\n",
      "― J.R.R. Tolkien, The Hobbit, or There and Back Again\n",
      "“It does not do to leave a live dragon out of your calculations, if you live near him.”\n",
      "― J.R.R. Tolkien, The Hobbit, or There and Back Again\n",
      "“It's like in the great stories, Mr. Frodo. The ones that really mattered. Full of darkness and danger they were. And sometimes you didn't want to know the end… because how could the end be happy? How could the world go back to the way it was when so much bad had happened? But in the end, it’s only a passing thing… this shadow. Even darkness must pass.”\n",
      "― J.R.R. Tolkien, The Two Towers\n",
      "“For like a shaft, clear and cold, the thought pierced him that in the end the Shadow was only a small and passing thing: there was light and high beauty for ever beyond its reach.”\n",
      "― J.R.R. Tolkien, The Return of the King\n",
      "“PIPPIN: I didn't think it would end this way.\n",
      "\n",
      "GANDALF: End? No, the journey doesn't end here. Death is just another path, one that we all must take. The grey rain-curtain of this world rolls back, and all turns to silver glass, and then you see it.\n",
      "\n",
      "PIPPIN: What? Gandalf? See what?\n",
      "\n",
      "GANDALF: White shores, and beyond, a far green country under a swift sunrise.\n",
      "\n",
      "PIPPIN: Well, that isn't so bad.\n",
      "\n",
      "GANDALF: No. No, it isn't.”\n",
      "― J.R.R. Tolkien, The Lord of the Rings\n",
      "“I have claimed that Escape is one of the main functions of fairy-stories, and since I do not disapprove of them, it is plain that I do not accept the tone of scorn or pity with which 'Escape' is now so often used. Why should a man be scorned if, finding himself in prison, he tries to get out and go home? Or if he cannot do so, he thinks and talks about other topics than jailers and prison-walls?”\n",
      "― J.R.R. Tolkien\n",
      "“I warn you, if you bore me, I shall take my revenge.”\n",
      "― J.R.R. Tolkien\n",
      "“We have come from God, and inevitably the myths woven by us, though they contain error, will also reflect a splintered fragment of the true light, the eternal truth that is with God. Indeed only by myth-making, only by becoming 'sub-creator' and inventing stories, can Man aspire to the state of perfection that he knew before the Fall. Our myths may be misguided, but they steer however shakily towards the true harbour, while materialistic 'progress' leads only to a yawning abyss and the Iron Crown of the power of evil.”\n",
      "― J.R.R. Tolkien\n",
      "“Roads Go Ever On\n",
      "\n",
      "Roads go ever ever on,\n",
      "Over rock and under tree,\n",
      "By caves where never sun has shone,\n",
      "By streams that never find the sea;\n",
      "Over snow by winter sown,\n",
      "And through the merry flowers of June,\n",
      "Over grass and over stone,\n",
      "And under mountains in the moon.\n",
      "\n",
      "Roads go ever ever on,\n",
      "Under cloud and under star.\n",
      "Yet feet that wandering have gone\n",
      "Turn at last to home afar.\n",
      "Eyes that fire and sword have seen,\n",
      "And horror in the halls of stone\n",
      "Look at last on meadows green,\n",
      "And trees and hills they long have known.\n",
      "\n",
      "The Road goes ever on and on\n",
      "Down from the door where it began.\n",
      "Now far ahead the Road has gone,\n",
      "And I must follow, if I can,\n",
      "Pursuing it with eager feet,\n",
      "Until it joins some larger way,\n",
      "Where many paths and errands meet.\n",
      "\n",
      "The Road goes ever on and on\n",
      "Down from the door where it began.\n",
      "Now far ahead the Road has gone,\n",
      "And I must follow, if I can,\n",
      "Pursuing it with weary feet,\n",
      "Until it joins some larger way,\n",
      "Where many paths and errands meet.\n",
      "And whither then? I cannot say.\n",
      "\n",
      "The Road goes ever on and on\n",
      "Out from the door where it began.\n",
      "Now far ahead the Road has gone.\n",
      "Let others follow, if they can!\n",
      "Let them a journey new begin.\n",
      "But I at last with weary feet\n",
      "Will turn towards the lighted inn,\n",
      "My evening-rest and sleep to meet.”\n",
      "― J.R.R. Tolkien, The Lord of the Rings\n",
      "“You can only come to the morning through the shadows.”\n",
      "― J.R.R. Tolkien\n",
      "“Short cuts make long delays.”\n",
      "― J.R.R. Tolkien, The Fellowship of the Ring\n",
      "“All that is gold does not glitter,\n",
      "Not all those who wander are lost.”\n",
      "― J.R.R. Tolkien, The Fellowship of the Ring\n",
      "“But I have been too deeply hurt, Sam. I tried to save the Shire, and it has been saved, but not for me. It must often be so, Sam, when things are in danger: some one has to give them up, lose them, so that others may keep them.”\n",
      "― J.R.R. Tolkien, The Return of the King\n",
      "“It cannot be seen, cannot be felt,\n",
      "Cannot be heard, cannot be smelt,\n",
      "It lies behind stars and under hills,\n",
      "And empty holes it fills,\n",
      "It comes first and follows after,\n",
      "Ends life, kills laughter.”\n",
      "― J.R.R. Tolkien, The Hobbit, or There and Back Again\n",
      "“Where did you go to, if I may ask?' said Thorin to Gandalf as they rode along.\n",
      "To look ahead,' said he.\n",
      "And what brought you back in the nick of time?'\n",
      "Looking behind,' said he.”\n",
      "― J.R.R. Tolkien, The Hobbit, or There and Back Again\n",
      "“In this hour, I do not believe that any darkness will endure.”\n",
      "― J.R.R. Tolkien, The Return of the King\n",
      "“Oft hope is born when all is forlorn.”\n",
      "― J.R.R. Tolkien, The Return of the King\n",
      "“The wide world is all about you: you can fence yourselves in, but you cannot for ever fence it out.”\n",
      "― J.R.R. Tolkien, The Fellowship of the Ring\n",
      "\n",
      "\n",
      "\n",
      "\n",
      "\n",
      "\n",
      "\n",
      "“It is not the strength of the body that counts, but the strength of the spirit.”\n",
      "― J.R.R. Tolkien\n",
      "“I feel thin, sort of stretched, like butter scraped over too much bread.”\n",
      "― J.R.R. Tolkien, The Fellowship of the Ring\n",
      "“If by my life or death I can protect you, I will. ”\n",
      "― J.R.R. Tolkien, The Fellowship of the Ring\n",
      "“The world is full enough of hurts and mischances without wars to multiply them.”\n",
      "― J.R.R. Tolkien, The Return of the King\n",
      "“I am looking for someone to share in an adventure that I am arranging, and it's very difficult to find anyone.'\n",
      "I should think so — in these parts! We are plain quiet folk and have no use for adventures. Nasty disturbing uncomfortable things! Make you late for dinner!”\n",
      "― J.R.R. Tolkien, The Hobbit, or There and Back Again\n"
     ]
    }
   ],
   "execution_count": 15
  },
  {
   "metadata": {
    "ExecuteTime": {
     "end_time": "2025-07-13T14:19:20.089258Z",
     "start_time": "2025-07-13T14:19:20.083585Z"
    }
   },
   "cell_type": "code",
   "source": "print(all_quotes[-1])",
   "id": "198d53e22da4b7de",
   "outputs": [
    {
     "name": "stdout",
     "output_type": "stream",
     "text": [
      "“For Morgoth had long prepared his force in secret, while ever the malice of his heart grew greater, and his hatred of the Noldor more bitter; and he desired not only to end his foes but to destroy also and defile the lands that they had taken and made fair.”\n",
      "― J.R.R. Tolkien, The Silmarillion\n"
     ]
    }
   ],
   "execution_count": 16
  },
  {
   "metadata": {},
   "cell_type": "markdown",
   "source": "#### Manually extracting data from page 2",
   "id": "f6d6cde045db945f"
  },
  {
   "metadata": {
    "ExecuteTime": {
     "end_time": "2025-07-13T14:19:26.940278Z",
     "start_time": "2025-07-13T14:19:20.126697Z"
    }
   },
   "cell_type": "code",
   "source": [
    "url = f\"https://www.goodreads.com/author/quotes/656983.J_R_R_Tolkien?page=2\"\n",
    "\n",
    "driver = webdriver.Chrome()\n",
    "\n",
    "driver.get(url)\n",
    "\n",
    "quotes_per_page = driver.find_elements(By.CLASS_NAME, \"quoteText\")\n",
    "all_quotes.extend([quote.text for quote in quotes_per_page])\n",
    "\n",
    "driver.quit()"
   ],
   "id": "55cc66a6536d376a",
   "outputs": [],
   "execution_count": 17
  },
  {
   "metadata": {
    "ExecuteTime": {
     "end_time": "2025-07-13T14:22:18.021890Z",
     "start_time": "2025-07-13T14:22:18.015941Z"
    }
   },
   "cell_type": "code",
   "source": "len(all_quotes)",
   "id": "c88b4522a5ecf28b",
   "outputs": [
    {
     "data": {
      "text/plain": [
       "3030"
      ]
     },
     "execution_count": 24,
     "metadata": {},
     "output_type": "execute_result"
    }
   ],
   "execution_count": 24
  },
  {
   "metadata": {
    "ExecuteTime": {
     "end_time": "2025-07-13T14:21:35.145491Z",
     "start_time": "2025-07-13T14:21:35.136652Z"
    }
   },
   "cell_type": "code",
   "source": [
    "for i in all_quotes[3000:]:\n",
    "    print(i)\n",
    "    print(\"*\"*50)"
   ],
   "id": "526555218319527e",
   "outputs": [
    {
     "name": "stdout",
     "output_type": "stream",
     "text": [
      "“Far over the misty mountains cold\n",
      "To dungeons deep and caverns old\n",
      "We must away ere break of day\n",
      "To seek the pale enchanted gold.\n",
      "\n",
      "The dwarves of yore made mighty spells,\n",
      "While hammers fell like ringing bells\n",
      "In places deep, where dark things sleep,\n",
      "In hollow halls beneath the fells.\n",
      "\n",
      "For ancient king and elvish lord\n",
      "There many a gleaming golden hoard\n",
      "They shaped and wrought, and light they caught\n",
      "To hide in gems on hilt of sword.\n",
      "\n",
      "On silver necklaces they strung\n",
      "The flowering stars, on crowns they hung\n",
      "The dragon-fire, in twisted wire\n",
      "They meshed the light of moon and sun.\n",
      "\n",
      "Far over the misty mountains cold\n",
      "To dungeons deep and caverns old\n",
      "We must away, ere break of day,\n",
      "To claim our long-forgotten gold.\n",
      "\n",
      "Goblets they carved there for themselves\n",
      "And harps of gold; where no man delves\n",
      "There lay they long, and many a song\n",
      "Was sung unheard by men or elves.\n",
      "\n",
      "The pines were roaring on the height,\n",
      "The wind was moaning in the night.\n",
      "The fire was red, it flaming spread;\n",
      "The trees like torches blazed with light.\n",
      "\n",
      "The bells were ringing in the dale\n",
      "And men looked up with faces pale;\n",
      "The dragon's ire more fierce than fire\n",
      "Laid low their towers and houses frail.\n",
      "\n",
      "The mountain smoked beneath the moon;\n",
      "The dwarves, they heard the tramp of doom.\n",
      "They fled their hall to dying fall\n",
      "Beneath his feet, beneath the moon.\n",
      "\n",
      "Far over the misty mountains grim\n",
      "To dungeons deep and caverns dim\n",
      "We must away, ere break of day,\n",
      "To win our harps and gold from him!”\n",
      "― J.R.R. Tolkien, The Hobbit, or There and Back Again\n",
      "**************************************************\n",
      "“A man that flies from his fear may find that he has only taken a short cut to meet it.”\n",
      "― J.R.R. Tolkien, The Children of Húrin\n",
      "**************************************************\n",
      "“Many that live deserve death. And some that die deserve life. Can you give it to them? Then do not be too eager to deal out death in judgement.”\n",
      "― J.R.R. Tolkien, The Fellowship of the Ring\n",
      "**************************************************\n",
      "“So comes snow after fire, and even dragons have their endings.”\n",
      "― J.R.R. Tolkien, The Hobbit, or There and Back Again\n",
      "**************************************************\n",
      "“May the wind under your wings bear you where the sun sails and the moon walks.”\n",
      "― J.R.R. Tolkien, The Hobbit, or There and Back Again\n",
      "**************************************************\n",
      "“Where there's life there's hope.”\n",
      "― J.R.R. Tolkien, The Hobbit, or There and Back Again\n",
      "**************************************************\n",
      "“It does not do to leave a live dragon out of your calculations, if you live near him.”\n",
      "― J.R.R. Tolkien, The Hobbit, or There and Back Again\n",
      "**************************************************\n",
      "“It's like in the great stories, Mr. Frodo. The ones that really mattered. Full of darkness and danger they were. And sometimes you didn't want to know the end… because how could the end be happy? How could the world go back to the way it was when so much bad had happened? But in the end, it’s only a passing thing… this shadow. Even darkness must pass.”\n",
      "― J.R.R. Tolkien, The Two Towers\n",
      "**************************************************\n",
      "“For like a shaft, clear and cold, the thought pierced him that in the end the Shadow was only a small and passing thing: there was light and high beauty for ever beyond its reach.”\n",
      "― J.R.R. Tolkien, The Return of the King\n",
      "**************************************************\n",
      "“PIPPIN: I didn't think it would end this way.\n",
      "\n",
      "GANDALF: End? No, the journey doesn't end here. Death is just another path, one that we all must take. The grey rain-curtain of this world rolls back, and all turns to silver glass, and then you see it.\n",
      "\n",
      "PIPPIN: What? Gandalf? See what?\n",
      "\n",
      "GANDALF: White shores, and beyond, a far green country under a swift sunrise.\n",
      "\n",
      "PIPPIN: Well, that isn't so bad.\n",
      "\n",
      "GANDALF: No. No, it isn't.”\n",
      "― J.R.R. Tolkien, The Lord of the Rings\n",
      "**************************************************\n",
      "“I have claimed that Escape is one of the main functions of fairy-stories, and since I do not disapprove of them, it is plain that I do not accept the tone of scorn or pity with which 'Escape' is now so often used. Why should a man be scorned if, finding himself in prison, he tries to get out and go home? Or if he cannot do so, he thinks and talks about other topics than jailers and prison-walls?”\n",
      "― J.R.R. Tolkien\n",
      "**************************************************\n",
      "“I warn you, if you bore me, I shall take my revenge.”\n",
      "― J.R.R. Tolkien\n",
      "**************************************************\n",
      "“We have come from God, and inevitably the myths woven by us, though they contain error, will also reflect a splintered fragment of the true light, the eternal truth that is with God. Indeed only by myth-making, only by becoming 'sub-creator' and inventing stories, can Man aspire to the state of perfection that he knew before the Fall. Our myths may be misguided, but they steer however shakily towards the true harbour, while materialistic 'progress' leads only to a yawning abyss and the Iron Crown of the power of evil.”\n",
      "― J.R.R. Tolkien\n",
      "**************************************************\n",
      "“Roads Go Ever On\n",
      "\n",
      "Roads go ever ever on,\n",
      "Over rock and under tree,\n",
      "By caves where never sun has shone,\n",
      "By streams that never find the sea;\n",
      "Over snow by winter sown,\n",
      "And through the merry flowers of June,\n",
      "Over grass and over stone,\n",
      "And under mountains in the moon.\n",
      "\n",
      "Roads go ever ever on,\n",
      "Under cloud and under star.\n",
      "Yet feet that wandering have gone\n",
      "Turn at last to home afar.\n",
      "Eyes that fire and sword have seen,\n",
      "And horror in the halls of stone\n",
      "Look at last on meadows green,\n",
      "And trees and hills they long have known.\n",
      "\n",
      "The Road goes ever on and on\n",
      "Down from the door where it began.\n",
      "Now far ahead the Road has gone,\n",
      "And I must follow, if I can,\n",
      "Pursuing it with eager feet,\n",
      "Until it joins some larger way,\n",
      "Where many paths and errands meet.\n",
      "\n",
      "The Road goes ever on and on\n",
      "Down from the door where it began.\n",
      "Now far ahead the Road has gone,\n",
      "And I must follow, if I can,\n",
      "Pursuing it with weary feet,\n",
      "Until it joins some larger way,\n",
      "Where many paths and errands meet.\n",
      "And whither then? I cannot say.\n",
      "\n",
      "The Road goes ever on and on\n",
      "Out from the door where it began.\n",
      "Now far ahead the Road has gone.\n",
      "Let others follow, if they can!\n",
      "Let them a journey new begin.\n",
      "But I at last with weary feet\n",
      "Will turn towards the lighted inn,\n",
      "My evening-rest and sleep to meet.”\n",
      "― J.R.R. Tolkien, The Lord of the Rings\n",
      "**************************************************\n",
      "“You can only come to the morning through the shadows.”\n",
      "― J.R.R. Tolkien\n",
      "**************************************************\n",
      "“Short cuts make long delays.”\n",
      "― J.R.R. Tolkien, The Fellowship of the Ring\n",
      "**************************************************\n",
      "“All that is gold does not glitter,\n",
      "Not all those who wander are lost.”\n",
      "― J.R.R. Tolkien, The Fellowship of the Ring\n",
      "**************************************************\n",
      "“But I have been too deeply hurt, Sam. I tried to save the Shire, and it has been saved, but not for me. It must often be so, Sam, when things are in danger: some one has to give them up, lose them, so that others may keep them.”\n",
      "― J.R.R. Tolkien, The Return of the King\n",
      "**************************************************\n",
      "“It cannot be seen, cannot be felt,\n",
      "Cannot be heard, cannot be smelt,\n",
      "It lies behind stars and under hills,\n",
      "And empty holes it fills,\n",
      "It comes first and follows after,\n",
      "Ends life, kills laughter.”\n",
      "― J.R.R. Tolkien, The Hobbit, or There and Back Again\n",
      "**************************************************\n",
      "“Where did you go to, if I may ask?' said Thorin to Gandalf as they rode along.\n",
      "To look ahead,' said he.\n",
      "And what brought you back in the nick of time?'\n",
      "Looking behind,' said he.”\n",
      "― J.R.R. Tolkien, The Hobbit, or There and Back Again\n",
      "**************************************************\n",
      "“In this hour, I do not believe that any darkness will endure.”\n",
      "― J.R.R. Tolkien, The Return of the King\n",
      "**************************************************\n",
      "“Oft hope is born when all is forlorn.”\n",
      "― J.R.R. Tolkien, The Return of the King\n",
      "**************************************************\n",
      "“The wide world is all about you: you can fence yourselves in, but you cannot for ever fence it out.”\n",
      "― J.R.R. Tolkien, The Fellowship of the Ring\n",
      "**************************************************\n",
      "“I do not love the bright sword for its sharpness, nor the arrow for its swiftness, nor the warrior for his glory. I love only that which they defend.”\n",
      "― J.R.R. Tolkien, The Two Towers\n",
      "**************************************************\n",
      "“He that breaks a thing to find out what it is has left the path of wisdom.”\n",
      "― J.R.R. Tolkien, The Fellowship of the Ring\n",
      "**************************************************\n",
      "“Home is behind, the world ahead,\n",
      "And there are many paths to tread\n",
      "Through shadows to the edge of night,\n",
      "Until the stars are all alight.\n",
      "Then world behind and home ahead,\n",
      "We'll wander back and home to bed.\n",
      "Mist and twilight, cloud and shade,\n",
      "Away shall fade! Away shall fade!”\n",
      "― J.R.R. Tolkien, The Fellowship of the Ring\n",
      "**************************************************\n",
      "“It is not despair, for despair is only for those who see the end beyond all doubt. We do not.”\n",
      "― J.R.R. Tolkien, The Fellowship of the Ring\n",
      "**************************************************\n",
      "“There is more in you of good than you know, child of the kindly West. Some courage and some wisdom, blended in measure. If more of us valued food and cheer and song above hoarded gold, it would be a merrier world.”\n",
      "― J.R.R. Tolkien, The Hobbit, or There and Back Again\n",
      "**************************************************\n",
      "“Good Morning!\" said Bilbo, and he meant it. The sun was shining, and the grass was very green. But Gandalf looked at him from under long bushy eyebrows that stuck out further than the brim of his shady hat.\n",
      "\n",
      "\"What do you mean?\" he said. \"Do you wish me a good morning, or mean that it is a good morning whether I want it or not; or that you feel good this morning; or that it is a morning to be good on?\"\n",
      "\n",
      "\"All of them at once,\" said Bilbo. \"And a very fine morning for a pipe of tobacco out of doors, into the bargain.\n",
      "\n",
      "...\n",
      "\n",
      "\"Good morning!\" he said at last. \"We don't want any adventures here, thank you! You might try over The Hill or across The Water.\" By this he meant that the conversation was at an end.\n",
      "\"What a lot of things you do use Good morning for!\" said Gandalf. \"Now you mean that you want to get rid of me, and that it won't be good till I move off.”\n",
      "― J.R.R. Tolkien, The Hobbit, or There and Back Again\n",
      "**************************************************\n",
      "“In sorrow we must go, but not in despair. Behold! we are not bound for ever to the circles of the world, and beyond them is more than memory.”\n",
      "― J.R.R. Tolkien\n",
      "**************************************************\n"
     ]
    }
   ],
   "execution_count": 23
  },
  {
   "metadata": {
    "ExecuteTime": {
     "end_time": "2025-07-13T14:23:53.393886Z",
     "start_time": "2025-07-13T14:23:53.361454Z"
    }
   },
   "cell_type": "code",
   "source": [
    "import pandas as pd\n",
    "\n",
    "raw_quotes_df = pd.DataFrame(all_quotes, columns=['quote'])\n",
    "raw_quotes_df"
   ],
   "id": "650611969e06674b",
   "outputs": [
    {
     "data": {
      "text/plain": [
       "                                                  quote\n",
       "0     “All that is gold does not glitter,\\nNot all t...\n",
       "1     “Not all those who wander are lost.”\\n― J.R.R....\n",
       "2     “I wish it need not have happened in my time,\"...\n",
       "3     “I don't know half of you half as well as I sh...\n",
       "4     “All we have to decide is what to do with the ...\n",
       "...                                                 ...\n",
       "3025  “Home is behind, the world ahead,\\nAnd there a...\n",
       "3026  “It is not despair, for despair is only for th...\n",
       "3027  “There is more in you of good than you know, c...\n",
       "3028  “Good Morning!\" said Bilbo, and he meant it. T...\n",
       "3029  “In sorrow we must go, but not in despair. Beh...\n",
       "\n",
       "[3030 rows x 1 columns]"
      ],
      "text/html": [
       "<div>\n",
       "<style scoped>\n",
       "    .dataframe tbody tr th:only-of-type {\n",
       "        vertical-align: middle;\n",
       "    }\n",
       "\n",
       "    .dataframe tbody tr th {\n",
       "        vertical-align: top;\n",
       "    }\n",
       "\n",
       "    .dataframe thead th {\n",
       "        text-align: right;\n",
       "    }\n",
       "</style>\n",
       "<table border=\"1\" class=\"dataframe\">\n",
       "  <thead>\n",
       "    <tr style=\"text-align: right;\">\n",
       "      <th></th>\n",
       "      <th>quote</th>\n",
       "    </tr>\n",
       "  </thead>\n",
       "  <tbody>\n",
       "    <tr>\n",
       "      <th>0</th>\n",
       "      <td>“All that is gold does not glitter,\\nNot all t...</td>\n",
       "    </tr>\n",
       "    <tr>\n",
       "      <th>1</th>\n",
       "      <td>“Not all those who wander are lost.”\\n― J.R.R....</td>\n",
       "    </tr>\n",
       "    <tr>\n",
       "      <th>2</th>\n",
       "      <td>“I wish it need not have happened in my time,\"...</td>\n",
       "    </tr>\n",
       "    <tr>\n",
       "      <th>3</th>\n",
       "      <td>“I don't know half of you half as well as I sh...</td>\n",
       "    </tr>\n",
       "    <tr>\n",
       "      <th>4</th>\n",
       "      <td>“All we have to decide is what to do with the ...</td>\n",
       "    </tr>\n",
       "    <tr>\n",
       "      <th>...</th>\n",
       "      <td>...</td>\n",
       "    </tr>\n",
       "    <tr>\n",
       "      <th>3025</th>\n",
       "      <td>“Home is behind, the world ahead,\\nAnd there a...</td>\n",
       "    </tr>\n",
       "    <tr>\n",
       "      <th>3026</th>\n",
       "      <td>“It is not despair, for despair is only for th...</td>\n",
       "    </tr>\n",
       "    <tr>\n",
       "      <th>3027</th>\n",
       "      <td>“There is more in you of good than you know, c...</td>\n",
       "    </tr>\n",
       "    <tr>\n",
       "      <th>3028</th>\n",
       "      <td>“Good Morning!\" said Bilbo, and he meant it. T...</td>\n",
       "    </tr>\n",
       "    <tr>\n",
       "      <th>3029</th>\n",
       "      <td>“In sorrow we must go, but not in despair. Beh...</td>\n",
       "    </tr>\n",
       "  </tbody>\n",
       "</table>\n",
       "<p>3030 rows × 1 columns</p>\n",
       "</div>"
      ]
     },
     "execution_count": 27,
     "metadata": {},
     "output_type": "execute_result"
    }
   ],
   "execution_count": 27
  },
  {
   "metadata": {
    "ExecuteTime": {
     "end_time": "2025-07-13T16:03:32.581933Z",
     "start_time": "2025-07-13T16:03:32.576762Z"
    }
   },
   "cell_type": "code",
   "source": "raw_quotes_df[\"quote\"][0]",
   "id": "a8106c25f442d81e",
   "outputs": [
    {
     "data": {
      "text/plain": [
       "'“All that is gold does not glitter,\\nNot all those who wander are lost;\\nThe old that is strong does not wither,\\nDeep roots are not reached by the frost.\\n\\nFrom the ashes a fire shall be woken,\\nA light from the shadows shall spring;\\nRenewed shall be blade that was broken,\\nThe crownless again shall be king.”\\n― J.R.R. Tolkien, The Fellowship of the Ring'"
      ]
     },
     "execution_count": 49,
     "metadata": {},
     "output_type": "execute_result"
    }
   ],
   "execution_count": 49
  },
  {
   "metadata": {
    "ExecuteTime": {
     "end_time": "2025-07-13T16:04:39.749068Z",
     "start_time": "2025-07-13T16:04:39.733398Z"
    }
   },
   "cell_type": "code",
   "source": "quotes_df = raw_quotes_df[\"quote\"].str.rpartition(\"―\")[0]",
   "id": "2af004a31037b036",
   "outputs": [],
   "execution_count": 55
  },
  {
   "metadata": {
    "ExecuteTime": {
     "end_time": "2025-07-13T16:04:47.791990Z",
     "start_time": "2025-07-13T16:04:47.784833Z"
    }
   },
   "cell_type": "code",
   "source": "quotes_df",
   "id": "65f6d6267ef0f8f9",
   "outputs": [
    {
     "data": {
      "text/plain": [
       "0       “All that is gold does not glitter,\\nNot all t...\n",
       "1                  “Not all those who wander are lost.”\\n\n",
       "2       “I wish it need not have happened in my time,\"...\n",
       "3       “I don't know half of you half as well as I sh...\n",
       "4       “All we have to decide is what to do with the ...\n",
       "                              ...                        \n",
       "3025    “Home is behind, the world ahead,\\nAnd there a...\n",
       "3026    “It is not despair, for despair is only for th...\n",
       "3027    “There is more in you of good than you know, c...\n",
       "3028    “Good Morning!\" said Bilbo, and he meant it. T...\n",
       "3029    “In sorrow we must go, but not in despair. Beh...\n",
       "Name: 0, Length: 3030, dtype: object"
      ]
     },
     "execution_count": 56,
     "metadata": {},
     "output_type": "execute_result"
    }
   ],
   "execution_count": 56
  },
  {
   "metadata": {
    "ExecuteTime": {
     "end_time": "2025-07-13T16:35:15.784742Z",
     "start_time": "2025-07-13T16:35:15.774959Z"
    }
   },
   "cell_type": "code",
   "source": "type(quotes_df)",
   "id": "ceff70f23c5f7a20",
   "outputs": [
    {
     "data": {
      "text/plain": [
       "pandas.core.series.Series"
      ]
     },
     "execution_count": 98,
     "metadata": {},
     "output_type": "execute_result"
    }
   ],
   "execution_count": 98
  },
  {
   "metadata": {
    "ExecuteTime": {
     "end_time": "2025-07-13T16:35:16.294662Z",
     "start_time": "2025-07-13T16:35:16.281535Z"
    }
   },
   "cell_type": "code",
   "source": [
    "# remove empty quotes\n",
    "quotes_df.drop(quotes_df.index[53:60], axis=0, inplace=True)"
   ],
   "id": "8a7abddc43908cf3",
   "outputs": [],
   "execution_count": 99
  },
  {
   "metadata": {
    "ExecuteTime": {
     "end_time": "2025-07-13T16:35:17.378512Z",
     "start_time": "2025-07-13T16:35:17.365754Z"
    }
   },
   "cell_type": "code",
   "source": [
    "quotes_df = quotes_df.reset_index(drop=True).squeeze()\n",
    "quotes_df"
   ],
   "id": "78a6db1760513e47",
   "outputs": [
    {
     "data": {
      "text/plain": [
       "0       All that is gold does not glitter,\\nNot all th...\n",
       "1                    Not all those who wander are lost.\\n\n",
       "2       I wish it need not have happened in my time,\" ...\n",
       "3       I don't know half of you half as well as I sho...\n",
       "4       All we have to decide is what to do with the t...\n",
       "                              ...                        \n",
       "3004    “Home is behind, the world ahead,\\nAnd there a...\n",
       "3005    “It is not despair, for despair is only for th...\n",
       "3006    “There is more in you of good than you know, c...\n",
       "3007    “Good Morning!\" said Bilbo, and he meant it. T...\n",
       "3008    “In sorrow we must go, but not in despair. Beh...\n",
       "Name: 0, Length: 3009, dtype: object"
      ]
     },
     "execution_count": 100,
     "metadata": {},
     "output_type": "execute_result"
    }
   ],
   "execution_count": 100
  },
  {
   "metadata": {
    "ExecuteTime": {
     "end_time": "2025-07-13T16:47:19.650561Z",
     "start_time": "2025-07-13T16:47:19.635560Z"
    }
   },
   "cell_type": "code",
   "source": "quotes_df = quotes_df.str.replace('[“”]', '', regex=True)",
   "id": "95ec55e2398c5f4d",
   "outputs": [],
   "execution_count": 129
  },
  {
   "metadata": {
    "ExecuteTime": {
     "end_time": "2025-07-13T16:47:20.246028Z",
     "start_time": "2025-07-13T16:47:20.237139Z"
    }
   },
   "cell_type": "code",
   "source": "print(quotes_df[2458])",
   "id": "e3e708d80984e777",
   "outputs": [
    {
     "name": "stdout",
     "output_type": "stream",
     "text": [
      "If I choose to send thee, Tuor son of Huor, then believe not that thy one sword is not worth the sending. For the valour of the Edain the Elves shall ever remember as the ages lengthen, marvelling that they gave life so freely of which they had on earth so little. But it is not for thy valour only that I send thee, but to bring into the world a hope beyond thy sight, and a light that shall pierce the darkness.\n",
      "\n"
     ]
    }
   ],
   "execution_count": 130
  },
  {
   "metadata": {
    "ExecuteTime": {
     "end_time": "2025-07-13T16:47:23.873980Z",
     "start_time": "2025-07-13T16:47:23.842050Z"
    }
   },
   "cell_type": "code",
   "source": "quotes_df.to_csv(\"quotes_df.txt\", index=False, header=False, encoding=\"utf-8\")",
   "id": "ede57ac5904fa60e",
   "outputs": [],
   "execution_count": 131
  }
 ],
 "metadata": {
  "kernelspec": {
   "display_name": "Python 3",
   "language": "python",
   "name": "python3"
  },
  "language_info": {
   "codemirror_mode": {
    "name": "ipython",
    "version": 2
   },
   "file_extension": ".py",
   "mimetype": "text/x-python",
   "name": "python",
   "nbconvert_exporter": "python",
   "pygments_lexer": "ipython2",
   "version": "2.7.6"
  }
 },
 "nbformat": 4,
 "nbformat_minor": 5
}
