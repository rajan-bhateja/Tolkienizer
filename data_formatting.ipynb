{
 "cells": [
  {
   "metadata": {},
   "cell_type": "markdown",
   "source": "### Formatting the quotes and generated summary into suitable format",
   "id": "d9510aeb6d789c53"
  },
  {
   "metadata": {},
   "cell_type": "markdown",
   "source": [
    "#### QA Format:\n",
    "\n",
    "```\n",
    "Instruct: {{prompt}}\n",
    "Output:\n",
    "```"
   ],
   "id": "ae0edd6e37abf506"
  },
  {
   "metadata": {
    "ExecuteTime": {
     "end_time": "2025-08-06T14:39:35.650017Z",
     "start_time": "2025-08-06T14:39:35.640830Z"
    }
   },
   "cell_type": "code",
   "source": "import json",
   "id": "1ee9b4d3c381d294",
   "outputs": [],
   "execution_count": 39
  },
  {
   "metadata": {
    "ExecuteTime": {
     "end_time": "2025-08-06T14:39:35.686247Z",
     "start_time": "2025-08-06T14:39:35.656412Z"
    }
   },
   "cell_type": "code",
   "source": [
    "with open(\"quotes_with_summary.json\", \"r\", encoding=\"utf-8\") as f:\n",
    "    quotes = json.load(f)"
   ],
   "id": "3585cbbe4cf6711e",
   "outputs": [],
   "execution_count": 40
  },
  {
   "metadata": {
    "ExecuteTime": {
     "end_time": "2025-08-06T14:39:35.709412Z",
     "start_time": "2025-08-06T14:39:35.696205Z"
    }
   },
   "cell_type": "code",
   "source": "type(quotes), len(quotes)",
   "id": "6ab759b0b9e8d3a4",
   "outputs": [
    {
     "data": {
      "text/plain": [
       "(list, 2994)"
      ]
     },
     "execution_count": 41,
     "metadata": {},
     "output_type": "execute_result"
    }
   ],
   "execution_count": 41
  },
  {
   "metadata": {
    "ExecuteTime": {
     "end_time": "2025-08-06T14:39:35.730737Z",
     "start_time": "2025-08-06T14:39:35.722438Z"
    }
   },
   "cell_type": "code",
   "source": "quotes[0][\"quote\"]",
   "id": "3e87598b402d15ed",
   "outputs": [
    {
     "data": {
      "text/plain": [
       "'All that is gold does not glitter,\\nNot all those who wander are lost;\\nThe old that is strong does not wither,\\nDeep roots are not reached by the frost.\\n\\nFrom the ashes a fire shall be woken,\\nA light from the shadows shall spring;\\nRenewed shall be blade that was broken,\\nThe crownless again shall be king.\\n'"
      ]
     },
     "execution_count": 42,
     "metadata": {},
     "output_type": "execute_result"
    }
   ],
   "execution_count": 42
  },
  {
   "metadata": {
    "ExecuteTime": {
     "end_time": "2025-08-06T14:39:35.750592Z",
     "start_time": "2025-08-06T14:39:35.745178Z"
    }
   },
   "cell_type": "code",
   "source": "quotes[0][\"summary\"]",
   "id": "257f7e308b6cd69f",
   "outputs": [
    {
     "data": {
      "text/plain": [
       "\"This quote teaches us that true value and strength often aren't obvious. Something precious might not look flashy, and someone who seems to be aimlessly wandering might actually be on a meaningful path. It also emphasizes that things with deep, strong foundations will endure difficult times, just as deep roots are protected from the cold. Furthermore, it offers a hopeful message: even after destruction or despair, new life and light will emerge, what was broken will be restored, and those who lost their power or rightful place will eventually reclaim it.\""
      ]
     },
     "execution_count": 43,
     "metadata": {},
     "output_type": "execute_result"
    }
   ],
   "execution_count": 43
  },
  {
   "metadata": {
    "ExecuteTime": {
     "end_time": "2025-08-06T14:39:35.773205Z",
     "start_time": "2025-08-06T14:39:35.764626Z"
    }
   },
   "cell_type": "code",
   "source": "qa_format_quotes = []",
   "id": "d15f0faab54780aa",
   "outputs": [],
   "execution_count": 44
  },
  {
   "metadata": {
    "ExecuteTime": {
     "end_time": "2025-08-06T14:39:35.790552Z",
     "start_time": "2025-08-06T14:39:35.779543Z"
    }
   },
   "cell_type": "code",
   "source": [
    "for quote in quotes:\n",
    "    quote['quote'] = quote['quote'].rstrip()        # Remove trailing newlines\n",
    "    quote['summary'] = quote['summary'].rstrip()    # Remove trailing newlines\n",
    "    qa_format_quotes.append({\n",
    "        \"prompt\": f\"Instruct: You are a helpful English assistant proficient in converting simple English sentences into Tolkien quotes. The sentence: {quote['summary']}\",\n",
    "        \"completion\": f\"{quote['quote']}\"\n",
    "    })"
   ],
   "id": "e5403b09b1fc7268",
   "outputs": [],
   "execution_count": 45
  },
  {
   "metadata": {
    "ExecuteTime": {
     "end_time": "2025-08-06T14:39:35.805523Z",
     "start_time": "2025-08-06T14:39:35.798075Z"
    }
   },
   "cell_type": "code",
   "source": "print(qa_format_quotes[0])",
   "id": "16aadb322b9bb12d",
   "outputs": [
    {
     "name": "stdout",
     "output_type": "stream",
     "text": [
      "{'prompt': \"Instruct: You are a helpful English assistant proficient in converting simple English sentences into Tolkien quotes. The sentence: This quote teaches us that true value and strength often aren't obvious. Something precious might not look flashy, and someone who seems to be aimlessly wandering might actually be on a meaningful path. It also emphasizes that things with deep, strong foundations will endure difficult times, just as deep roots are protected from the cold. Furthermore, it offers a hopeful message: even after destruction or despair, new life and light will emerge, what was broken will be restored, and those who lost their power or rightful place will eventually reclaim it.\", 'completion': 'All that is gold does not glitter,\\nNot all those who wander are lost;\\nThe old that is strong does not wither,\\nDeep roots are not reached by the frost.\\n\\nFrom the ashes a fire shall be woken,\\nA light from the shadows shall spring;\\nRenewed shall be blade that was broken,\\nThe crownless again shall be king.'}\n"
     ]
    }
   ],
   "execution_count": 46
  },
  {
   "metadata": {
    "ExecuteTime": {
     "end_time": "2025-08-06T14:39:35.854441Z",
     "start_time": "2025-08-06T14:39:35.815722Z"
    }
   },
   "cell_type": "code",
   "source": [
    "with open(\"qa_format_quotes.jsonl\", \"w\", encoding=\"utf-8\") as f:\n",
    "    for item in qa_format_quotes:\n",
    "        f.write(json.dumps(item, ensure_ascii=False) + \"\\n\")"
   ],
   "id": "b98a72d428a03fc9",
   "outputs": [],
   "execution_count": 47
  }
 ],
 "metadata": {
  "kernelspec": {
   "display_name": "Python 3",
   "language": "python",
   "name": "python3"
  },
  "language_info": {
   "codemirror_mode": {
    "name": "ipython",
    "version": 2
   },
   "file_extension": ".py",
   "mimetype": "text/x-python",
   "name": "python",
   "nbconvert_exporter": "python",
   "pygments_lexer": "ipython2",
   "version": "2.7.6"
  }
 },
 "nbformat": 4,
 "nbformat_minor": 5
}
