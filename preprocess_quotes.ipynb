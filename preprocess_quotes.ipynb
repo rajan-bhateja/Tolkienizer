{
 "cells": [
  {
   "metadata": {
    "ExecuteTime": {
     "end_time": "2025-07-16T11:25:28.757959Z",
     "start_time": "2025-07-16T11:25:28.748618Z"
    }
   },
   "cell_type": "code",
   "source": [
    "import time\n",
    "\n",
    "from langchain_google_genai.llms import GoogleGenerativeAI\n",
    "from langchain_core.prompts import PromptTemplate\n",
    "\n",
    "import pandas as pd\n",
    "\n",
    "from dotenv import load_dotenv\n",
    "\n",
    "import os\n",
    "\n",
    "from tqdm import tqdm\n",
    "\n",
    "from IPython.display import display, Markdown"
   ],
   "id": "2a73604b5551486b",
   "outputs": [],
   "execution_count": 32
  },
  {
   "metadata": {
    "ExecuteTime": {
     "end_time": "2025-07-16T10:28:43.472069Z",
     "start_time": "2025-07-16T10:28:43.455267Z"
    }
   },
   "cell_type": "code",
   "source": "load_dotenv()",
   "id": "8e910493812fee9",
   "outputs": [
    {
     "data": {
      "text/plain": [
       "True"
      ]
     },
     "execution_count": 13,
     "metadata": {},
     "output_type": "execute_result"
    }
   ],
   "execution_count": 13
  },
  {
   "metadata": {
    "ExecuteTime": {
     "end_time": "2025-07-15T18:17:47.769711Z",
     "start_time": "2025-07-15T18:17:47.036766Z"
    }
   },
   "cell_type": "code",
   "source": [
    "quotes = pd.read_json(\"cleaned_quotes.json\", lines=True)\n",
    "quotes"
   ],
   "id": "ed2965183dfa6f55",
   "outputs": [
    {
     "data": {
      "text/plain": [
       "                                                0     \\\n",
       "0  All that is gold does not glitter,\\nNot all th...   \n",
       "\n",
       "                                   1     \\\n",
       "0  Not all those who wander are lost.\\n   \n",
       "\n",
       "                                                2     \\\n",
       "0  I wish it need not have happened in my time,\" ...   \n",
       "\n",
       "                                                3     \\\n",
       "0  I don't know half of you half as well as I sho...   \n",
       "\n",
       "                                                4     \\\n",
       "0  All we have to decide is what to do with the t...   \n",
       "\n",
       "                                                5     \\\n",
       "0  If more of us valued food and cheer and song a...   \n",
       "\n",
       "                             6     \\\n",
       "0  Never laugh at live dragons.\\n   \n",
       "\n",
       "                                                7     \\\n",
       "0  Faithless is he that says farewell when the ro...   \n",
       "\n",
       "                                                8     \\\n",
       "0  The world is indeed full of peril, and in it t...   \n",
       "\n",
       "                                                9     ...  \\\n",
       "0  Deserves it! I daresay he does. Many that live...  ...   \n",
       "\n",
       "                                                2984  \\\n",
       "0  Where did you go to, if I may ask?' said Thori...   \n",
       "\n",
       "                                                2985  \\\n",
       "0  In this hour, I do not believe that any darkne...   \n",
       "\n",
       "                                      2986  \\\n",
       "0  Oft hope is born when all is forlorn.\\n   \n",
       "\n",
       "                                                2987  \\\n",
       "0  The wide world is all about you: you can fence...   \n",
       "\n",
       "                                                2988  \\\n",
       "0  I do not love the bright sword for its sharpne...   \n",
       "\n",
       "                                                2989  \\\n",
       "0  He that breaks a thing to find out what it is ...   \n",
       "\n",
       "                                                2990  \\\n",
       "0  Home is behind, the world ahead,\\nAnd there ar...   \n",
       "\n",
       "                                                2991  \\\n",
       "0  There is more in you of good than you know, ch...   \n",
       "\n",
       "                                                2992  \\\n",
       "0  Good Morning!\" said Bilbo, and he meant it. Th...   \n",
       "\n",
       "                                                2993  \n",
       "0  In sorrow we must go, but not in despair. Beho...  \n",
       "\n",
       "[1 rows x 2994 columns]"
      ],
      "text/html": [
       "<div>\n",
       "<style scoped>\n",
       "    .dataframe tbody tr th:only-of-type {\n",
       "        vertical-align: middle;\n",
       "    }\n",
       "\n",
       "    .dataframe tbody tr th {\n",
       "        vertical-align: top;\n",
       "    }\n",
       "\n",
       "    .dataframe thead th {\n",
       "        text-align: right;\n",
       "    }\n",
       "</style>\n",
       "<table border=\"1\" class=\"dataframe\">\n",
       "  <thead>\n",
       "    <tr style=\"text-align: right;\">\n",
       "      <th></th>\n",
       "      <th>0</th>\n",
       "      <th>1</th>\n",
       "      <th>2</th>\n",
       "      <th>3</th>\n",
       "      <th>4</th>\n",
       "      <th>5</th>\n",
       "      <th>6</th>\n",
       "      <th>7</th>\n",
       "      <th>8</th>\n",
       "      <th>9</th>\n",
       "      <th>...</th>\n",
       "      <th>2984</th>\n",
       "      <th>2985</th>\n",
       "      <th>2986</th>\n",
       "      <th>2987</th>\n",
       "      <th>2988</th>\n",
       "      <th>2989</th>\n",
       "      <th>2990</th>\n",
       "      <th>2991</th>\n",
       "      <th>2992</th>\n",
       "      <th>2993</th>\n",
       "    </tr>\n",
       "  </thead>\n",
       "  <tbody>\n",
       "    <tr>\n",
       "      <th>0</th>\n",
       "      <td>All that is gold does not glitter,\\nNot all th...</td>\n",
       "      <td>Not all those who wander are lost.\\n</td>\n",
       "      <td>I wish it need not have happened in my time,\" ...</td>\n",
       "      <td>I don't know half of you half as well as I sho...</td>\n",
       "      <td>All we have to decide is what to do with the t...</td>\n",
       "      <td>If more of us valued food and cheer and song a...</td>\n",
       "      <td>Never laugh at live dragons.\\n</td>\n",
       "      <td>Faithless is he that says farewell when the ro...</td>\n",
       "      <td>The world is indeed full of peril, and in it t...</td>\n",
       "      <td>Deserves it! I daresay he does. Many that live...</td>\n",
       "      <td>...</td>\n",
       "      <td>Where did you go to, if I may ask?' said Thori...</td>\n",
       "      <td>In this hour, I do not believe that any darkne...</td>\n",
       "      <td>Oft hope is born when all is forlorn.\\n</td>\n",
       "      <td>The wide world is all about you: you can fence...</td>\n",
       "      <td>I do not love the bright sword for its sharpne...</td>\n",
       "      <td>He that breaks a thing to find out what it is ...</td>\n",
       "      <td>Home is behind, the world ahead,\\nAnd there ar...</td>\n",
       "      <td>There is more in you of good than you know, ch...</td>\n",
       "      <td>Good Morning!\" said Bilbo, and he meant it. Th...</td>\n",
       "      <td>In sorrow we must go, but not in despair. Beho...</td>\n",
       "    </tr>\n",
       "  </tbody>\n",
       "</table>\n",
       "<p>1 rows × 2994 columns</p>\n",
       "</div>"
      ]
     },
     "execution_count": 5,
     "metadata": {},
     "output_type": "execute_result"
    }
   ],
   "execution_count": 5
  },
  {
   "metadata": {
    "ExecuteTime": {
     "end_time": "2025-07-15T18:17:48.153306Z",
     "start_time": "2025-07-15T18:17:48.143432Z"
    }
   },
   "cell_type": "code",
   "source": "len(quotes), len(quotes.columns), type(quotes)",
   "id": "192dcd85523ef8f5",
   "outputs": [
    {
     "data": {
      "text/plain": [
       "(1, 2994, pandas.core.frame.DataFrame)"
      ]
     },
     "execution_count": 6,
     "metadata": {},
     "output_type": "execute_result"
    }
   ],
   "execution_count": 6
  },
  {
   "metadata": {
    "ExecuteTime": {
     "end_time": "2025-07-15T18:17:48.393838Z",
     "start_time": "2025-07-15T18:17:48.377452Z"
    }
   },
   "cell_type": "code",
   "source": [
    "# transpose the columns\n",
    "quotes = quotes.T\n",
    "quotes"
   ],
   "id": "3bdc7fba40a66d35",
   "outputs": [
    {
     "data": {
      "text/plain": [
       "                                                      0\n",
       "0     All that is gold does not glitter,\\nNot all th...\n",
       "1                  Not all those who wander are lost.\\n\n",
       "2     I wish it need not have happened in my time,\" ...\n",
       "3     I don't know half of you half as well as I sho...\n",
       "4     All we have to decide is what to do with the t...\n",
       "...                                                 ...\n",
       "2989  He that breaks a thing to find out what it is ...\n",
       "2990  Home is behind, the world ahead,\\nAnd there ar...\n",
       "2991  There is more in you of good than you know, ch...\n",
       "2992  Good Morning!\" said Bilbo, and he meant it. Th...\n",
       "2993  In sorrow we must go, but not in despair. Beho...\n",
       "\n",
       "[2994 rows x 1 columns]"
      ],
      "text/html": [
       "<div>\n",
       "<style scoped>\n",
       "    .dataframe tbody tr th:only-of-type {\n",
       "        vertical-align: middle;\n",
       "    }\n",
       "\n",
       "    .dataframe tbody tr th {\n",
       "        vertical-align: top;\n",
       "    }\n",
       "\n",
       "    .dataframe thead th {\n",
       "        text-align: right;\n",
       "    }\n",
       "</style>\n",
       "<table border=\"1\" class=\"dataframe\">\n",
       "  <thead>\n",
       "    <tr style=\"text-align: right;\">\n",
       "      <th></th>\n",
       "      <th>0</th>\n",
       "    </tr>\n",
       "  </thead>\n",
       "  <tbody>\n",
       "    <tr>\n",
       "      <th>0</th>\n",
       "      <td>All that is gold does not glitter,\\nNot all th...</td>\n",
       "    </tr>\n",
       "    <tr>\n",
       "      <th>1</th>\n",
       "      <td>Not all those who wander are lost.\\n</td>\n",
       "    </tr>\n",
       "    <tr>\n",
       "      <th>2</th>\n",
       "      <td>I wish it need not have happened in my time,\" ...</td>\n",
       "    </tr>\n",
       "    <tr>\n",
       "      <th>3</th>\n",
       "      <td>I don't know half of you half as well as I sho...</td>\n",
       "    </tr>\n",
       "    <tr>\n",
       "      <th>4</th>\n",
       "      <td>All we have to decide is what to do with the t...</td>\n",
       "    </tr>\n",
       "    <tr>\n",
       "      <th>...</th>\n",
       "      <td>...</td>\n",
       "    </tr>\n",
       "    <tr>\n",
       "      <th>2989</th>\n",
       "      <td>He that breaks a thing to find out what it is ...</td>\n",
       "    </tr>\n",
       "    <tr>\n",
       "      <th>2990</th>\n",
       "      <td>Home is behind, the world ahead,\\nAnd there ar...</td>\n",
       "    </tr>\n",
       "    <tr>\n",
       "      <th>2991</th>\n",
       "      <td>There is more in you of good than you know, ch...</td>\n",
       "    </tr>\n",
       "    <tr>\n",
       "      <th>2992</th>\n",
       "      <td>Good Morning!\" said Bilbo, and he meant it. Th...</td>\n",
       "    </tr>\n",
       "    <tr>\n",
       "      <th>2993</th>\n",
       "      <td>In sorrow we must go, but not in despair. Beho...</td>\n",
       "    </tr>\n",
       "  </tbody>\n",
       "</table>\n",
       "<p>2994 rows × 1 columns</p>\n",
       "</div>"
      ]
     },
     "execution_count": 7,
     "metadata": {},
     "output_type": "execute_result"
    }
   ],
   "execution_count": 7
  },
  {
   "metadata": {
    "ExecuteTime": {
     "end_time": "2025-07-15T18:17:49.125235Z",
     "start_time": "2025-07-15T18:17:49.111953Z"
    }
   },
   "cell_type": "code",
   "source": "len(quotes), len(quotes.columns), type(quotes)",
   "id": "5a0b6e70a8818698",
   "outputs": [
    {
     "data": {
      "text/plain": [
       "(2994, 1, pandas.core.frame.DataFrame)"
      ]
     },
     "execution_count": 8,
     "metadata": {},
     "output_type": "execute_result"
    }
   ],
   "execution_count": 8
  },
  {
   "metadata": {
    "ExecuteTime": {
     "end_time": "2025-07-15T18:17:49.287712Z",
     "start_time": "2025-07-15T18:17:49.278001Z"
    }
   },
   "cell_type": "code",
   "source": [
    "prompt_template = PromptTemplate.from_template(\n",
    "    \"Summarize the following quote in simple English in a paragraph: '{quote}'\")"
   ],
   "id": "604abe8bf4eba0ad",
   "outputs": [],
   "execution_count": 9
  },
  {
   "metadata": {
    "ExecuteTime": {
     "end_time": "2025-07-15T18:27:09.769294Z",
     "start_time": "2025-07-15T18:27:09.758815Z"
    }
   },
   "cell_type": "code",
   "source": [
    "# indexing in [column][row] format\n",
    "prompt_template.invoke(quotes[0][0])"
   ],
   "id": "4b3fc95456b9addc",
   "outputs": [
    {
     "data": {
      "text/plain": [
       "StringPromptValue(text=\"Summarize the following quote in simple English in a paragraph: 'All that is gold does not glitter,\\nNot all those who wander are lost;\\nThe old that is strong does not wither,\\nDeep roots are not reached by the frost.\\n\\nFrom the ashes a fire shall be woken,\\nA light from the shadows shall spring;\\nRenewed shall be blade that was broken,\\nThe crownless again shall be king.\\n'\")"
      ]
     },
     "execution_count": 35,
     "metadata": {},
     "output_type": "execute_result"
    }
   ],
   "execution_count": 35
  },
  {
   "metadata": {
    "ExecuteTime": {
     "end_time": "2025-07-15T18:17:51.881396Z",
     "start_time": "2025-07-15T18:17:51.875536Z"
    }
   },
   "cell_type": "code",
   "source": "prompt_template_list = []",
   "id": "e60e30fadc12be37",
   "outputs": [],
   "execution_count": 11
  },
  {
   "metadata": {
    "ExecuteTime": {
     "end_time": "2025-07-15T18:17:54.216236Z",
     "start_time": "2025-07-15T18:17:51.909184Z"
    }
   },
   "cell_type": "code",
   "source": [
    "for i in range(len(quotes)):\n",
    "    prompt_template_list.extend(prompt_template.invoke(quotes[0][i]))"
   ],
   "id": "78f3f93bed269dde",
   "outputs": [],
   "execution_count": 12
  },
  {
   "metadata": {
    "ExecuteTime": {
     "end_time": "2025-07-15T18:17:54.257724Z",
     "start_time": "2025-07-15T18:17:54.246281Z"
    }
   },
   "cell_type": "code",
   "source": "prompt_template_list[0][1]",
   "id": "fd40c4e92dfba510",
   "outputs": [
    {
     "data": {
      "text/plain": [
       "\"Summarize the following quote in simple English in a paragraph: 'All that is gold does not glitter,\\nNot all those who wander are lost;\\nThe old that is strong does not wither,\\nDeep roots are not reached by the frost.\\n\\nFrom the ashes a fire shall be woken,\\nA light from the shadows shall spring;\\nRenewed shall be blade that was broken,\\nThe crownless again shall be king.\\n'\""
      ]
     },
     "execution_count": 13,
     "metadata": {},
     "output_type": "execute_result"
    }
   ],
   "execution_count": 13
  },
  {
   "metadata": {},
   "cell_type": "markdown",
   "source": [
    "### Confusion over iterating in `prompt_template_list`:\n",
    "\n",
    "* [0][0]: 'text'\n",
    "* [0][1]: 'The actual quote'\n",
    "* [1][0]: 'type'\n",
    "* [1][1]: 'StringPromptValue'"
   ],
   "id": "1dabd66b8329ad40"
  },
  {
   "metadata": {},
   "cell_type": "markdown",
   "source": "#### Trying a different approach: Appending the prompt individually to the quote using `quotes`",
   "id": "e454d899620875f5"
  },
  {
   "metadata": {
    "ExecuteTime": {
     "end_time": "2025-07-15T18:31:40.171213Z",
     "start_time": "2025-07-15T18:31:40.166697Z"
    }
   },
   "cell_type": "code",
   "outputs": [],
   "execution_count": 44,
   "source": "prompt_template_text = []",
   "id": "8e05cb7cf765fd92"
  },
  {
   "metadata": {
    "ExecuteTime": {
     "end_time": "2025-07-15T18:31:40.548333Z",
     "start_time": "2025-07-15T18:31:40.467541Z"
    }
   },
   "cell_type": "code",
   "source": [
    "for i in range(len(quotes)):\n",
    "    prompt_template_text.append(f\"Summarize the following quote in simple English in a paragraph: {quotes[0][i]}\")"
   ],
   "id": "2f6819b6a069cf18",
   "outputs": [],
   "execution_count": 45
  },
  {
   "metadata": {
    "ExecuteTime": {
     "end_time": "2025-07-15T18:32:56.053187Z",
     "start_time": "2025-07-15T18:32:56.044186Z"
    }
   },
   "cell_type": "code",
   "source": "len(prompt_template_text), type(prompt_template_text)",
   "id": "4a6b39dbd51b9045",
   "outputs": [
    {
     "data": {
      "text/plain": [
       "(2994, list)"
      ]
     },
     "execution_count": 48,
     "metadata": {},
     "output_type": "execute_result"
    }
   ],
   "execution_count": 48
  },
  {
   "metadata": {
    "ExecuteTime": {
     "end_time": "2025-07-15T18:36:12.721909Z",
     "start_time": "2025-07-15T18:36:12.714272Z"
    }
   },
   "cell_type": "code",
   "source": "type(quotes)",
   "id": "8f8b365dd23f2358",
   "outputs": [
    {
     "data": {
      "text/plain": [
       "pandas.core.frame.DataFrame"
      ]
     },
     "execution_count": 55,
     "metadata": {},
     "output_type": "execute_result"
    }
   ],
   "execution_count": 55
  },
  {
   "metadata": {
    "ExecuteTime": {
     "end_time": "2025-07-15T18:38:16.218112Z",
     "start_time": "2025-07-15T18:38:16.199345Z"
    }
   },
   "cell_type": "code",
   "source": [
    "quotes[\"prompt_template\"] = prompt_template_text\n",
    "quotes.rename(columns={0:\"quote\"}, inplace=True)\n",
    "quotes"
   ],
   "id": "2f11b397f8e866a4",
   "outputs": [
    {
     "data": {
      "text/plain": [
       "                                                  quote  \\\n",
       "0     All that is gold does not glitter,\\nNot all th...   \n",
       "1                  Not all those who wander are lost.\\n   \n",
       "2     I wish it need not have happened in my time,\" ...   \n",
       "3     I don't know half of you half as well as I sho...   \n",
       "4     All we have to decide is what to do with the t...   \n",
       "...                                                 ...   \n",
       "2989  He that breaks a thing to find out what it is ...   \n",
       "2990  Home is behind, the world ahead,\\nAnd there ar...   \n",
       "2991  There is more in you of good than you know, ch...   \n",
       "2992  Good Morning!\" said Bilbo, and he meant it. Th...   \n",
       "2993  In sorrow we must go, but not in despair. Beho...   \n",
       "\n",
       "                                        prompt_template  \n",
       "0     Summarize the following quote in simple Englis...  \n",
       "1     Summarize the following quote in simple Englis...  \n",
       "2     Summarize the following quote in simple Englis...  \n",
       "3     Summarize the following quote in simple Englis...  \n",
       "4     Summarize the following quote in simple Englis...  \n",
       "...                                                 ...  \n",
       "2989  Summarize the following quote in simple Englis...  \n",
       "2990  Summarize the following quote in simple Englis...  \n",
       "2991  Summarize the following quote in simple Englis...  \n",
       "2992  Summarize the following quote in simple Englis...  \n",
       "2993  Summarize the following quote in simple Englis...  \n",
       "\n",
       "[2994 rows x 2 columns]"
      ],
      "text/html": [
       "<div>\n",
       "<style scoped>\n",
       "    .dataframe tbody tr th:only-of-type {\n",
       "        vertical-align: middle;\n",
       "    }\n",
       "\n",
       "    .dataframe tbody tr th {\n",
       "        vertical-align: top;\n",
       "    }\n",
       "\n",
       "    .dataframe thead th {\n",
       "        text-align: right;\n",
       "    }\n",
       "</style>\n",
       "<table border=\"1\" class=\"dataframe\">\n",
       "  <thead>\n",
       "    <tr style=\"text-align: right;\">\n",
       "      <th></th>\n",
       "      <th>quote</th>\n",
       "      <th>prompt_template</th>\n",
       "    </tr>\n",
       "  </thead>\n",
       "  <tbody>\n",
       "    <tr>\n",
       "      <th>0</th>\n",
       "      <td>All that is gold does not glitter,\\nNot all th...</td>\n",
       "      <td>Summarize the following quote in simple Englis...</td>\n",
       "    </tr>\n",
       "    <tr>\n",
       "      <th>1</th>\n",
       "      <td>Not all those who wander are lost.\\n</td>\n",
       "      <td>Summarize the following quote in simple Englis...</td>\n",
       "    </tr>\n",
       "    <tr>\n",
       "      <th>2</th>\n",
       "      <td>I wish it need not have happened in my time,\" ...</td>\n",
       "      <td>Summarize the following quote in simple Englis...</td>\n",
       "    </tr>\n",
       "    <tr>\n",
       "      <th>3</th>\n",
       "      <td>I don't know half of you half as well as I sho...</td>\n",
       "      <td>Summarize the following quote in simple Englis...</td>\n",
       "    </tr>\n",
       "    <tr>\n",
       "      <th>4</th>\n",
       "      <td>All we have to decide is what to do with the t...</td>\n",
       "      <td>Summarize the following quote in simple Englis...</td>\n",
       "    </tr>\n",
       "    <tr>\n",
       "      <th>...</th>\n",
       "      <td>...</td>\n",
       "      <td>...</td>\n",
       "    </tr>\n",
       "    <tr>\n",
       "      <th>2989</th>\n",
       "      <td>He that breaks a thing to find out what it is ...</td>\n",
       "      <td>Summarize the following quote in simple Englis...</td>\n",
       "    </tr>\n",
       "    <tr>\n",
       "      <th>2990</th>\n",
       "      <td>Home is behind, the world ahead,\\nAnd there ar...</td>\n",
       "      <td>Summarize the following quote in simple Englis...</td>\n",
       "    </tr>\n",
       "    <tr>\n",
       "      <th>2991</th>\n",
       "      <td>There is more in you of good than you know, ch...</td>\n",
       "      <td>Summarize the following quote in simple Englis...</td>\n",
       "    </tr>\n",
       "    <tr>\n",
       "      <th>2992</th>\n",
       "      <td>Good Morning!\" said Bilbo, and he meant it. Th...</td>\n",
       "      <td>Summarize the following quote in simple Englis...</td>\n",
       "    </tr>\n",
       "    <tr>\n",
       "      <th>2993</th>\n",
       "      <td>In sorrow we must go, but not in despair. Beho...</td>\n",
       "      <td>Summarize the following quote in simple Englis...</td>\n",
       "    </tr>\n",
       "  </tbody>\n",
       "</table>\n",
       "<p>2994 rows × 2 columns</p>\n",
       "</div>"
      ]
     },
     "execution_count": 58,
     "metadata": {},
     "output_type": "execute_result"
    }
   ],
   "execution_count": 58
  },
  {
   "metadata": {
    "ExecuteTime": {
     "end_time": "2025-07-15T18:47:05.366233Z",
     "start_time": "2025-07-15T18:47:05.291209Z"
    }
   },
   "cell_type": "code",
   "source": "quotes.to_json(\"quotes_with_prompt.json\", orient=\"index\")",
   "id": "d4ceb2b1c48208a4",
   "outputs": [],
   "execution_count": 68
  },
  {
   "metadata": {},
   "cell_type": "markdown",
   "source": "### Adding Summaries to `quotes_with_prompt.json` with Gemini",
   "id": "cb91c0eb22564784"
  },
  {
   "metadata": {
    "ExecuteTime": {
     "end_time": "2025-07-16T10:30:15.437322Z",
     "start_time": "2025-07-16T10:30:14.771269Z"
    }
   },
   "cell_type": "code",
   "source": [
    "quotes = pd.read_json(\"quotes_with_prompt.json\", lines=True).T\n",
    "quotes"
   ],
   "id": "e1021b4009ecfb72",
   "outputs": [
    {
     "data": {
      "text/plain": [
       "                                                      0\n",
       "0     {'quote': 'All that is gold does not glitter,\n",
       "...\n",
       "1     {'quote': 'Not all those who wander are lost.\n",
       "...\n",
       "2     {'quote': 'I wish it need not have happened in...\n",
       "3     {'quote': 'I don't know half of you half as we...\n",
       "4     {'quote': 'All we have to decide is what to do...\n",
       "...                                                 ...\n",
       "2989  {'quote': 'He that breaks a thing to find out ...\n",
       "2990  {'quote': 'Home is behind, the world ahead,\n",
       "An...\n",
       "2991  {'quote': 'There is more in you of good than y...\n",
       "2992  {'quote': 'Good Morning!\" said Bilbo, and he m...\n",
       "2993  {'quote': 'In sorrow we must go, but not in de...\n",
       "\n",
       "[2994 rows x 1 columns]"
      ],
      "text/html": [
       "<div>\n",
       "<style scoped>\n",
       "    .dataframe tbody tr th:only-of-type {\n",
       "        vertical-align: middle;\n",
       "    }\n",
       "\n",
       "    .dataframe tbody tr th {\n",
       "        vertical-align: top;\n",
       "    }\n",
       "\n",
       "    .dataframe thead th {\n",
       "        text-align: right;\n",
       "    }\n",
       "</style>\n",
       "<table border=\"1\" class=\"dataframe\">\n",
       "  <thead>\n",
       "    <tr style=\"text-align: right;\">\n",
       "      <th></th>\n",
       "      <th>0</th>\n",
       "    </tr>\n",
       "  </thead>\n",
       "  <tbody>\n",
       "    <tr>\n",
       "      <th>0</th>\n",
       "      <td>{'quote': 'All that is gold does not glitter,\n",
       "...</td>\n",
       "    </tr>\n",
       "    <tr>\n",
       "      <th>1</th>\n",
       "      <td>{'quote': 'Not all those who wander are lost.\n",
       "...</td>\n",
       "    </tr>\n",
       "    <tr>\n",
       "      <th>2</th>\n",
       "      <td>{'quote': 'I wish it need not have happened in...</td>\n",
       "    </tr>\n",
       "    <tr>\n",
       "      <th>3</th>\n",
       "      <td>{'quote': 'I don't know half of you half as we...</td>\n",
       "    </tr>\n",
       "    <tr>\n",
       "      <th>4</th>\n",
       "      <td>{'quote': 'All we have to decide is what to do...</td>\n",
       "    </tr>\n",
       "    <tr>\n",
       "      <th>...</th>\n",
       "      <td>...</td>\n",
       "    </tr>\n",
       "    <tr>\n",
       "      <th>2989</th>\n",
       "      <td>{'quote': 'He that breaks a thing to find out ...</td>\n",
       "    </tr>\n",
       "    <tr>\n",
       "      <th>2990</th>\n",
       "      <td>{'quote': 'Home is behind, the world ahead,\n",
       "An...</td>\n",
       "    </tr>\n",
       "    <tr>\n",
       "      <th>2991</th>\n",
       "      <td>{'quote': 'There is more in you of good than y...</td>\n",
       "    </tr>\n",
       "    <tr>\n",
       "      <th>2992</th>\n",
       "      <td>{'quote': 'Good Morning!\" said Bilbo, and he m...</td>\n",
       "    </tr>\n",
       "    <tr>\n",
       "      <th>2993</th>\n",
       "      <td>{'quote': 'In sorrow we must go, but not in de...</td>\n",
       "    </tr>\n",
       "  </tbody>\n",
       "</table>\n",
       "<p>2994 rows × 1 columns</p>\n",
       "</div>"
      ]
     },
     "execution_count": 16,
     "metadata": {},
     "output_type": "execute_result"
    }
   ],
   "execution_count": 16
  },
  {
   "metadata": {
    "ExecuteTime": {
     "end_time": "2025-07-16T10:28:58.200250Z",
     "start_time": "2025-07-16T10:28:50.069413Z"
    }
   },
   "cell_type": "code",
   "source": [
    "llm = GoogleGenerativeAI(model=\"gemini-2.5-flash\")\n",
    "\n",
    "response = llm.invoke(\"Summarize the gist of the quote in a paragraph in simple English: 'Not all those who wander are lost.'\")"
   ],
   "id": "b908f1e435ca5124",
   "outputs": [],
   "execution_count": 14
  },
  {
   "metadata": {
    "ExecuteTime": {
     "end_time": "2025-07-16T10:28:58.236645Z",
     "start_time": "2025-07-16T10:28:58.222960Z"
    }
   },
   "cell_type": "code",
   "source": "display(Markdown(response))",
   "id": "dae45d733aa4ae9d",
   "outputs": [
    {
     "data": {
      "text/plain": [
       "<IPython.core.display.Markdown object>"
      ],
      "text/markdown": "The quote \"Not all those who wander are lost\" means that someone who appears to be moving without a clear, set path or aimlessly exploring isn't necessarily confused, without purpose, or unable to find their way. Instead, it suggests that sometimes, taking an unconventional route or simply enjoying the journey without a strict destination can be a deliberate and meaningful choice. These individuals might be discovering new things, finding their own unique direction, or intentionally seeking experiences, all while having an internal sense of purpose, even if their path isn't obvious to others."
     },
     "metadata": {},
     "output_type": "display_data"
    }
   ],
   "execution_count": 15
  },
  {
   "metadata": {
    "ExecuteTime": {
     "end_time": "2025-07-16T10:40:32.182631Z",
     "start_time": "2025-07-16T10:40:32.177546Z"
    }
   },
   "cell_type": "code",
   "source": "summaries = []",
   "id": "5b6b7b44c0a7c83",
   "outputs": [],
   "execution_count": 22
  },
  {
   "metadata": {
    "ExecuteTime": {
     "end_time": "2025-07-16T11:04:26.623640Z",
     "start_time": "2025-07-16T10:40:55.451661Z"
    }
   },
   "cell_type": "code",
   "source": [
    "for i in tqdm(range(len(quotes))):\n",
    "    generated_summary = llm.invoke(quotes[0][i][\"prompt_template\"])\n",
    "    summaries.append(generated_summary)\n",
    "    time.sleep(2)"
   ],
   "id": "1889d9914d11625f",
   "outputs": [
    {
     "name": "stderr",
     "output_type": "stream",
     "text": [
      "  7%|▋         | 203/2994 [23:08<5:01:05,  6.47s/it]Retrying langchain_google_genai.chat_models._chat_with_retry.<locals>._chat_with_retry in 2.0 seconds as it raised ResourceExhausted: 429 You exceeded your current quota, please check your plan and billing details. For more information on this error, head to: https://ai.google.dev/gemini-api/docs/rate-limits. [violations {\n",
      "  quota_metric: \"generativelanguage.googleapis.com/generate_content_free_tier_requests\"\n",
      "  quota_id: \"GenerateRequestsPerDayPerProjectPerModel-FreeTier\"\n",
      "  quota_dimensions {\n",
      "    key: \"model\"\n",
      "    value: \"gemini-2.5-flash\"\n",
      "  }\n",
      "  quota_dimensions {\n",
      "    key: \"location\"\n",
      "    value: \"global\"\n",
      "  }\n",
      "  quota_value: 250\n",
      "}\n",
      ", links {\n",
      "  description: \"Learn more about Gemini API quotas\"\n",
      "  url: \"https://ai.google.dev/gemini-api/docs/rate-limits\"\n",
      "}\n",
      ", retry_delay {\n",
      "  seconds: 54\n",
      "}\n",
      "].\n",
      "  7%|▋         | 204/2994 [23:17<5:28:11,  7.06s/it]Retrying langchain_google_genai.chat_models._chat_with_retry.<locals>._chat_with_retry in 2.0 seconds as it raised ResourceExhausted: 429 You exceeded your current quota, please check your plan and billing details. For more information on this error, head to: https://ai.google.dev/gemini-api/docs/rate-limits. [violations {\n",
      "  quota_metric: \"generativelanguage.googleapis.com/generate_content_free_tier_requests\"\n",
      "  quota_id: \"GenerateRequestsPerDayPerProjectPerModel-FreeTier\"\n",
      "  quota_dimensions {\n",
      "    key: \"model\"\n",
      "    value: \"gemini-2.5-flash\"\n",
      "  }\n",
      "  quota_dimensions {\n",
      "    key: \"location\"\n",
      "    value: \"global\"\n",
      "  }\n",
      "  quota_value: 250\n",
      "}\n",
      ", links {\n",
      "  description: \"Learn more about Gemini API quotas\"\n",
      "  url: \"https://ai.google.dev/gemini-api/docs/rate-limits\"\n",
      "}\n",
      ", retry_delay {\n",
      "  seconds: 45\n",
      "}\n",
      "].\n",
      "  7%|▋         | 205/2994 [23:28<6:18:44,  8.15s/it]Retrying langchain_google_genai.chat_models._chat_with_retry.<locals>._chat_with_retry in 2.0 seconds as it raised ResourceExhausted: 429 You exceeded your current quota, please check your plan and billing details. For more information on this error, head to: https://ai.google.dev/gemini-api/docs/rate-limits. [violations {\n",
      "  quota_metric: \"generativelanguage.googleapis.com/generate_content_free_tier_requests\"\n",
      "  quota_id: \"GenerateRequestsPerDayPerProjectPerModel-FreeTier\"\n",
      "  quota_dimensions {\n",
      "    key: \"model\"\n",
      "    value: \"gemini-2.5-flash\"\n",
      "  }\n",
      "  quota_dimensions {\n",
      "    key: \"location\"\n",
      "    value: \"global\"\n",
      "  }\n",
      "  quota_value: 250\n",
      "}\n",
      ", links {\n",
      "  description: \"Learn more about Gemini API quotas\"\n",
      "  url: \"https://ai.google.dev/gemini-api/docs/rate-limits\"\n",
      "}\n",
      ", retry_delay {\n",
      "  seconds: 35\n",
      "}\n",
      "].\n",
      "  7%|▋         | 205/2994 [23:30<5:19:51,  6.88s/it]\n"
     ]
    },
    {
     "ename": "ResourceExhausted",
     "evalue": "429 You exceeded your current quota, please check your plan and billing details. For more information on this error, head to: https://ai.google.dev/gemini-api/docs/rate-limits. [violations {\n  quota_metric: \"generativelanguage.googleapis.com/generate_content_free_tier_requests\"\n  quota_id: \"GenerateRequestsPerDayPerProjectPerModel-FreeTier\"\n  quota_dimensions {\n    key: \"model\"\n    value: \"gemini-2.5-flash\"\n  }\n  quota_dimensions {\n    key: \"location\"\n    value: \"global\"\n  }\n  quota_value: 250\n}\n, links {\n  description: \"Learn more about Gemini API quotas\"\n  url: \"https://ai.google.dev/gemini-api/docs/rate-limits\"\n}\n, retry_delay {\n  seconds: 32\n}\n]",
     "output_type": "error",
     "traceback": [
      "\u001B[31m---------------------------------------------------------------------------\u001B[39m",
      "\u001B[31mResourceExhausted\u001B[39m                         Traceback (most recent call last)",
      "\u001B[36mCell\u001B[39m\u001B[36m \u001B[39m\u001B[32mIn[25]\u001B[39m\u001B[32m, line 2\u001B[39m\n\u001B[32m      1\u001B[39m \u001B[38;5;28;01mfor\u001B[39;00m i \u001B[38;5;129;01min\u001B[39;00m tqdm(\u001B[38;5;28mrange\u001B[39m(\u001B[38;5;28mlen\u001B[39m(quotes))):\n\u001B[32m----> \u001B[39m\u001B[32m2\u001B[39m     generated_summary = \u001B[43mllm\u001B[49m\u001B[43m.\u001B[49m\u001B[43minvoke\u001B[49m\u001B[43m(\u001B[49m\u001B[43mquotes\u001B[49m\u001B[43m[\u001B[49m\u001B[32;43m0\u001B[39;49m\u001B[43m]\u001B[49m\u001B[43m[\u001B[49m\u001B[43mi\u001B[49m\u001B[43m]\u001B[49m\u001B[43m[\u001B[49m\u001B[33;43m\"\u001B[39;49m\u001B[33;43mprompt_template\u001B[39;49m\u001B[33;43m\"\u001B[39;49m\u001B[43m]\u001B[49m\u001B[43m)\u001B[49m\n\u001B[32m      3\u001B[39m     summaries.append(generated_summary)\n\u001B[32m      4\u001B[39m     time.sleep(\u001B[32m1\u001B[39m)\n",
      "\u001B[36mFile \u001B[39m\u001B[32m~\\PycharmProjects\\Tolkienizer\\.venv\\Lib\\site-packages\\langchain_core\\language_models\\llms.py:389\u001B[39m, in \u001B[36mBaseLLM.invoke\u001B[39m\u001B[34m(self, input, config, stop, **kwargs)\u001B[39m\n\u001B[32m    378\u001B[39m \u001B[38;5;129m@override\u001B[39m\n\u001B[32m    379\u001B[39m \u001B[38;5;28;01mdef\u001B[39;00m\u001B[38;5;250m \u001B[39m\u001B[34minvoke\u001B[39m(\n\u001B[32m    380\u001B[39m     \u001B[38;5;28mself\u001B[39m,\n\u001B[32m   (...)\u001B[39m\u001B[32m    385\u001B[39m     **kwargs: Any,\n\u001B[32m    386\u001B[39m ) -> \u001B[38;5;28mstr\u001B[39m:\n\u001B[32m    387\u001B[39m     config = ensure_config(config)\n\u001B[32m    388\u001B[39m     \u001B[38;5;28;01mreturn\u001B[39;00m (\n\u001B[32m--> \u001B[39m\u001B[32m389\u001B[39m         \u001B[38;5;28;43mself\u001B[39;49m\u001B[43m.\u001B[49m\u001B[43mgenerate_prompt\u001B[49m\u001B[43m(\u001B[49m\n\u001B[32m    390\u001B[39m \u001B[43m            \u001B[49m\u001B[43m[\u001B[49m\u001B[38;5;28;43mself\u001B[39;49m\u001B[43m.\u001B[49m\u001B[43m_convert_input\u001B[49m\u001B[43m(\u001B[49m\u001B[38;5;28;43minput\u001B[39;49m\u001B[43m)\u001B[49m\u001B[43m]\u001B[49m\u001B[43m,\u001B[49m\n\u001B[32m    391\u001B[39m \u001B[43m            \u001B[49m\u001B[43mstop\u001B[49m\u001B[43m=\u001B[49m\u001B[43mstop\u001B[49m\u001B[43m,\u001B[49m\n\u001B[32m    392\u001B[39m \u001B[43m            \u001B[49m\u001B[43mcallbacks\u001B[49m\u001B[43m=\u001B[49m\u001B[43mconfig\u001B[49m\u001B[43m.\u001B[49m\u001B[43mget\u001B[49m\u001B[43m(\u001B[49m\u001B[33;43m\"\u001B[39;49m\u001B[33;43mcallbacks\u001B[39;49m\u001B[33;43m\"\u001B[39;49m\u001B[43m)\u001B[49m\u001B[43m,\u001B[49m\n\u001B[32m    393\u001B[39m \u001B[43m            \u001B[49m\u001B[43mtags\u001B[49m\u001B[43m=\u001B[49m\u001B[43mconfig\u001B[49m\u001B[43m.\u001B[49m\u001B[43mget\u001B[49m\u001B[43m(\u001B[49m\u001B[33;43m\"\u001B[39;49m\u001B[33;43mtags\u001B[39;49m\u001B[33;43m\"\u001B[39;49m\u001B[43m)\u001B[49m\u001B[43m,\u001B[49m\n\u001B[32m    394\u001B[39m \u001B[43m            \u001B[49m\u001B[43mmetadata\u001B[49m\u001B[43m=\u001B[49m\u001B[43mconfig\u001B[49m\u001B[43m.\u001B[49m\u001B[43mget\u001B[49m\u001B[43m(\u001B[49m\u001B[33;43m\"\u001B[39;49m\u001B[33;43mmetadata\u001B[39;49m\u001B[33;43m\"\u001B[39;49m\u001B[43m)\u001B[49m\u001B[43m,\u001B[49m\n\u001B[32m    395\u001B[39m \u001B[43m            \u001B[49m\u001B[43mrun_name\u001B[49m\u001B[43m=\u001B[49m\u001B[43mconfig\u001B[49m\u001B[43m.\u001B[49m\u001B[43mget\u001B[49m\u001B[43m(\u001B[49m\u001B[33;43m\"\u001B[39;49m\u001B[33;43mrun_name\u001B[39;49m\u001B[33;43m\"\u001B[39;49m\u001B[43m)\u001B[49m\u001B[43m,\u001B[49m\n\u001B[32m    396\u001B[39m \u001B[43m            \u001B[49m\u001B[43mrun_id\u001B[49m\u001B[43m=\u001B[49m\u001B[43mconfig\u001B[49m\u001B[43m.\u001B[49m\u001B[43mpop\u001B[49m\u001B[43m(\u001B[49m\u001B[33;43m\"\u001B[39;49m\u001B[33;43mrun_id\u001B[39;49m\u001B[33;43m\"\u001B[39;49m\u001B[43m,\u001B[49m\u001B[43m \u001B[49m\u001B[38;5;28;43;01mNone\u001B[39;49;00m\u001B[43m)\u001B[49m\u001B[43m,\u001B[49m\n\u001B[32m    397\u001B[39m \u001B[43m            \u001B[49m\u001B[43m*\u001B[49m\u001B[43m*\u001B[49m\u001B[43mkwargs\u001B[49m\u001B[43m,\u001B[49m\n\u001B[32m    398\u001B[39m \u001B[43m        \u001B[49m\u001B[43m)\u001B[49m\n\u001B[32m    399\u001B[39m         .generations[\u001B[32m0\u001B[39m][\u001B[32m0\u001B[39m]\n\u001B[32m    400\u001B[39m         .text\n\u001B[32m    401\u001B[39m     )\n",
      "\u001B[36mFile \u001B[39m\u001B[32m~\\PycharmProjects\\Tolkienizer\\.venv\\Lib\\site-packages\\langchain_core\\language_models\\llms.py:766\u001B[39m, in \u001B[36mBaseLLM.generate_prompt\u001B[39m\u001B[34m(self, prompts, stop, callbacks, **kwargs)\u001B[39m\n\u001B[32m    757\u001B[39m \u001B[38;5;129m@override\u001B[39m\n\u001B[32m    758\u001B[39m \u001B[38;5;28;01mdef\u001B[39;00m\u001B[38;5;250m \u001B[39m\u001B[34mgenerate_prompt\u001B[39m(\n\u001B[32m    759\u001B[39m     \u001B[38;5;28mself\u001B[39m,\n\u001B[32m   (...)\u001B[39m\u001B[32m    763\u001B[39m     **kwargs: Any,\n\u001B[32m    764\u001B[39m ) -> LLMResult:\n\u001B[32m    765\u001B[39m     prompt_strings = [p.to_string() \u001B[38;5;28;01mfor\u001B[39;00m p \u001B[38;5;129;01min\u001B[39;00m prompts]\n\u001B[32m--> \u001B[39m\u001B[32m766\u001B[39m     \u001B[38;5;28;01mreturn\u001B[39;00m \u001B[38;5;28;43mself\u001B[39;49m\u001B[43m.\u001B[49m\u001B[43mgenerate\u001B[49m\u001B[43m(\u001B[49m\u001B[43mprompt_strings\u001B[49m\u001B[43m,\u001B[49m\u001B[43m \u001B[49m\u001B[43mstop\u001B[49m\u001B[43m=\u001B[49m\u001B[43mstop\u001B[49m\u001B[43m,\u001B[49m\u001B[43m \u001B[49m\u001B[43mcallbacks\u001B[49m\u001B[43m=\u001B[49m\u001B[43mcallbacks\u001B[49m\u001B[43m,\u001B[49m\u001B[43m \u001B[49m\u001B[43m*\u001B[49m\u001B[43m*\u001B[49m\u001B[43mkwargs\u001B[49m\u001B[43m)\u001B[49m\n",
      "\u001B[36mFile \u001B[39m\u001B[32m~\\PycharmProjects\\Tolkienizer\\.venv\\Lib\\site-packages\\langchain_core\\language_models\\llms.py:973\u001B[39m, in \u001B[36mBaseLLM.generate\u001B[39m\u001B[34m(self, prompts, stop, callbacks, tags, metadata, run_name, run_id, **kwargs)\u001B[39m\n\u001B[32m    958\u001B[39m \u001B[38;5;28;01mif\u001B[39;00m (\u001B[38;5;28mself\u001B[39m.cache \u001B[38;5;129;01mis\u001B[39;00m \u001B[38;5;28;01mNone\u001B[39;00m \u001B[38;5;129;01mand\u001B[39;00m get_llm_cache() \u001B[38;5;129;01mis\u001B[39;00m \u001B[38;5;28;01mNone\u001B[39;00m) \u001B[38;5;129;01mor\u001B[39;00m \u001B[38;5;28mself\u001B[39m.cache \u001B[38;5;129;01mis\u001B[39;00m \u001B[38;5;28;01mFalse\u001B[39;00m:\n\u001B[32m    959\u001B[39m     run_managers = [\n\u001B[32m    960\u001B[39m         callback_manager.on_llm_start(\n\u001B[32m    961\u001B[39m             \u001B[38;5;28mself\u001B[39m._serialized,\n\u001B[32m   (...)\u001B[39m\u001B[32m    971\u001B[39m         )\n\u001B[32m    972\u001B[39m     ]\n\u001B[32m--> \u001B[39m\u001B[32m973\u001B[39m     \u001B[38;5;28;01mreturn\u001B[39;00m \u001B[38;5;28;43mself\u001B[39;49m\u001B[43m.\u001B[49m\u001B[43m_generate_helper\u001B[49m\u001B[43m(\u001B[49m\n\u001B[32m    974\u001B[39m \u001B[43m        \u001B[49m\u001B[43mprompts\u001B[49m\u001B[43m,\u001B[49m\n\u001B[32m    975\u001B[39m \u001B[43m        \u001B[49m\u001B[43mstop\u001B[49m\u001B[43m,\u001B[49m\n\u001B[32m    976\u001B[39m \u001B[43m        \u001B[49m\u001B[43mrun_managers\u001B[49m\u001B[43m,\u001B[49m\n\u001B[32m    977\u001B[39m \u001B[43m        \u001B[49m\u001B[43mnew_arg_supported\u001B[49m\u001B[43m=\u001B[49m\u001B[38;5;28;43mbool\u001B[39;49m\u001B[43m(\u001B[49m\u001B[43mnew_arg_supported\u001B[49m\u001B[43m)\u001B[49m\u001B[43m,\u001B[49m\n\u001B[32m    978\u001B[39m \u001B[43m        \u001B[49m\u001B[43m*\u001B[49m\u001B[43m*\u001B[49m\u001B[43mkwargs\u001B[49m\u001B[43m,\u001B[49m\n\u001B[32m    979\u001B[39m \u001B[43m    \u001B[49m\u001B[43m)\u001B[49m\n\u001B[32m    980\u001B[39m \u001B[38;5;28;01mif\u001B[39;00m \u001B[38;5;28mlen\u001B[39m(missing_prompts) > \u001B[32m0\u001B[39m:\n\u001B[32m    981\u001B[39m     run_managers = [\n\u001B[32m    982\u001B[39m         callback_managers[idx].on_llm_start(\n\u001B[32m    983\u001B[39m             \u001B[38;5;28mself\u001B[39m._serialized,\n\u001B[32m   (...)\u001B[39m\u001B[32m    990\u001B[39m         \u001B[38;5;28;01mfor\u001B[39;00m idx \u001B[38;5;129;01min\u001B[39;00m missing_prompt_idxs\n\u001B[32m    991\u001B[39m     ]\n",
      "\u001B[36mFile \u001B[39m\u001B[32m~\\PycharmProjects\\Tolkienizer\\.venv\\Lib\\site-packages\\langchain_core\\language_models\\llms.py:792\u001B[39m, in \u001B[36mBaseLLM._generate_helper\u001B[39m\u001B[34m(self, prompts, stop, run_managers, new_arg_supported, **kwargs)\u001B[39m\n\u001B[32m    781\u001B[39m \u001B[38;5;28;01mdef\u001B[39;00m\u001B[38;5;250m \u001B[39m\u001B[34m_generate_helper\u001B[39m(\n\u001B[32m    782\u001B[39m     \u001B[38;5;28mself\u001B[39m,\n\u001B[32m    783\u001B[39m     prompts: \u001B[38;5;28mlist\u001B[39m[\u001B[38;5;28mstr\u001B[39m],\n\u001B[32m   (...)\u001B[39m\u001B[32m    788\u001B[39m     **kwargs: Any,\n\u001B[32m    789\u001B[39m ) -> LLMResult:\n\u001B[32m    790\u001B[39m     \u001B[38;5;28;01mtry\u001B[39;00m:\n\u001B[32m    791\u001B[39m         output = (\n\u001B[32m--> \u001B[39m\u001B[32m792\u001B[39m             \u001B[38;5;28;43mself\u001B[39;49m\u001B[43m.\u001B[49m\u001B[43m_generate\u001B[49m\u001B[43m(\u001B[49m\n\u001B[32m    793\u001B[39m \u001B[43m                \u001B[49m\u001B[43mprompts\u001B[49m\u001B[43m,\u001B[49m\n\u001B[32m    794\u001B[39m \u001B[43m                \u001B[49m\u001B[43mstop\u001B[49m\u001B[43m=\u001B[49m\u001B[43mstop\u001B[49m\u001B[43m,\u001B[49m\n\u001B[32m    795\u001B[39m \u001B[43m                \u001B[49m\u001B[38;5;66;43;03m# TODO: support multiple run managers\u001B[39;49;00m\n\u001B[32m    796\u001B[39m \u001B[43m                \u001B[49m\u001B[43mrun_manager\u001B[49m\u001B[43m=\u001B[49m\u001B[43mrun_managers\u001B[49m\u001B[43m[\u001B[49m\u001B[32;43m0\u001B[39;49m\u001B[43m]\u001B[49m\u001B[43m \u001B[49m\u001B[38;5;28;43;01mif\u001B[39;49;00m\u001B[43m \u001B[49m\u001B[43mrun_managers\u001B[49m\u001B[43m \u001B[49m\u001B[38;5;28;43;01melse\u001B[39;49;00m\u001B[43m \u001B[49m\u001B[38;5;28;43;01mNone\u001B[39;49;00m\u001B[43m,\u001B[49m\n\u001B[32m    797\u001B[39m \u001B[43m                \u001B[49m\u001B[43m*\u001B[49m\u001B[43m*\u001B[49m\u001B[43mkwargs\u001B[49m\u001B[43m,\u001B[49m\n\u001B[32m    798\u001B[39m \u001B[43m            \u001B[49m\u001B[43m)\u001B[49m\n\u001B[32m    799\u001B[39m             \u001B[38;5;28;01mif\u001B[39;00m new_arg_supported\n\u001B[32m    800\u001B[39m             \u001B[38;5;28;01melse\u001B[39;00m \u001B[38;5;28mself\u001B[39m._generate(prompts, stop=stop)\n\u001B[32m    801\u001B[39m         )\n\u001B[32m    802\u001B[39m     \u001B[38;5;28;01mexcept\u001B[39;00m \u001B[38;5;167;01mBaseException\u001B[39;00m \u001B[38;5;28;01mas\u001B[39;00m e:\n\u001B[32m    803\u001B[39m         \u001B[38;5;28;01mfor\u001B[39;00m run_manager \u001B[38;5;129;01min\u001B[39;00m run_managers:\n",
      "\u001B[36mFile \u001B[39m\u001B[32m~\\PycharmProjects\\Tolkienizer\\.venv\\Lib\\site-packages\\langchain_google_genai\\llms.py:114\u001B[39m, in \u001B[36mGoogleGenerativeAI._generate\u001B[39m\u001B[34m(self, prompts, stop, run_manager, **kwargs)\u001B[39m\n\u001B[32m    112\u001B[39m generations = []\n\u001B[32m    113\u001B[39m \u001B[38;5;28;01mfor\u001B[39;00m prompt \u001B[38;5;129;01min\u001B[39;00m prompts:\n\u001B[32m--> \u001B[39m\u001B[32m114\u001B[39m     chat_result = \u001B[38;5;28;43mself\u001B[39;49m\u001B[43m.\u001B[49m\u001B[43mclient\u001B[49m\u001B[43m.\u001B[49m\u001B[43m_generate\u001B[49m\u001B[43m(\u001B[49m\n\u001B[32m    115\u001B[39m \u001B[43m        \u001B[49m\u001B[43m[\u001B[49m\u001B[43mHumanMessage\u001B[49m\u001B[43m(\u001B[49m\u001B[43mcontent\u001B[49m\u001B[43m=\u001B[49m\u001B[43mprompt\u001B[49m\u001B[43m)\u001B[49m\u001B[43m]\u001B[49m\u001B[43m,\u001B[49m\n\u001B[32m    116\u001B[39m \u001B[43m        \u001B[49m\u001B[43mstop\u001B[49m\u001B[43m=\u001B[49m\u001B[43mstop\u001B[49m\u001B[43m,\u001B[49m\n\u001B[32m    117\u001B[39m \u001B[43m        \u001B[49m\u001B[43mrun_manager\u001B[49m\u001B[43m=\u001B[49m\u001B[43mrun_manager\u001B[49m\u001B[43m,\u001B[49m\n\u001B[32m    118\u001B[39m \u001B[43m        \u001B[49m\u001B[43m*\u001B[49m\u001B[43m*\u001B[49m\u001B[43mkwargs\u001B[49m\u001B[43m,\u001B[49m\n\u001B[32m    119\u001B[39m \u001B[43m    \u001B[49m\u001B[43m)\u001B[49m\n\u001B[32m    120\u001B[39m     generations.append(\n\u001B[32m    121\u001B[39m         [\n\u001B[32m    122\u001B[39m             Generation(\n\u001B[32m   (...)\u001B[39m\u001B[32m    130\u001B[39m         ]\n\u001B[32m    131\u001B[39m     )\n\u001B[32m    132\u001B[39m \u001B[38;5;28;01mreturn\u001B[39;00m LLMResult(generations=generations)\n",
      "\u001B[36mFile \u001B[39m\u001B[32m~\\PycharmProjects\\Tolkienizer\\.venv\\Lib\\site-packages\\langchain_google_genai\\chat_models.py:1441\u001B[39m, in \u001B[36mChatGoogleGenerativeAI._generate\u001B[39m\u001B[34m(self, messages, stop, run_manager, tools, functions, safety_settings, tool_config, generation_config, cached_content, tool_choice, **kwargs)\u001B[39m\n\u001B[32m   1414\u001B[39m \u001B[38;5;28;01mdef\u001B[39;00m\u001B[38;5;250m \u001B[39m\u001B[34m_generate\u001B[39m(\n\u001B[32m   1415\u001B[39m     \u001B[38;5;28mself\u001B[39m,\n\u001B[32m   1416\u001B[39m     messages: List[BaseMessage],\n\u001B[32m   (...)\u001B[39m\u001B[32m   1427\u001B[39m     **kwargs: Any,\n\u001B[32m   1428\u001B[39m ) -> ChatResult:\n\u001B[32m   1429\u001B[39m     request = \u001B[38;5;28mself\u001B[39m._prepare_request(\n\u001B[32m   1430\u001B[39m         messages,\n\u001B[32m   1431\u001B[39m         stop=stop,\n\u001B[32m   (...)\u001B[39m\u001B[32m   1439\u001B[39m         **kwargs,\n\u001B[32m   1440\u001B[39m     )\n\u001B[32m-> \u001B[39m\u001B[32m1441\u001B[39m     response: GenerateContentResponse = \u001B[43m_chat_with_retry\u001B[49m\u001B[43m(\u001B[49m\n\u001B[32m   1442\u001B[39m \u001B[43m        \u001B[49m\u001B[43mrequest\u001B[49m\u001B[43m=\u001B[49m\u001B[43mrequest\u001B[49m\u001B[43m,\u001B[49m\n\u001B[32m   1443\u001B[39m \u001B[43m        \u001B[49m\u001B[43m*\u001B[49m\u001B[43m*\u001B[49m\u001B[43mkwargs\u001B[49m\u001B[43m,\u001B[49m\n\u001B[32m   1444\u001B[39m \u001B[43m        \u001B[49m\u001B[43mgeneration_method\u001B[49m\u001B[43m=\u001B[49m\u001B[38;5;28;43mself\u001B[39;49m\u001B[43m.\u001B[49m\u001B[43mclient\u001B[49m\u001B[43m.\u001B[49m\u001B[43mgenerate_content\u001B[49m\u001B[43m,\u001B[49m\n\u001B[32m   1445\u001B[39m \u001B[43m        \u001B[49m\u001B[43mmetadata\u001B[49m\u001B[43m=\u001B[49m\u001B[38;5;28;43mself\u001B[39;49m\u001B[43m.\u001B[49m\u001B[43mdefault_metadata\u001B[49m\u001B[43m,\u001B[49m\n\u001B[32m   1446\u001B[39m \u001B[43m    \u001B[49m\u001B[43m)\u001B[49m\n\u001B[32m   1447\u001B[39m     \u001B[38;5;28;01mreturn\u001B[39;00m _response_to_result(response)\n",
      "\u001B[36mFile \u001B[39m\u001B[32m~\\PycharmProjects\\Tolkienizer\\.venv\\Lib\\site-packages\\langchain_google_genai\\chat_models.py:231\u001B[39m, in \u001B[36m_chat_with_retry\u001B[39m\u001B[34m(generation_method, **kwargs)\u001B[39m\n\u001B[32m    222\u001B[39m         \u001B[38;5;28;01mraise\u001B[39;00m e\n\u001B[32m    224\u001B[39m params = (\n\u001B[32m    225\u001B[39m     {k: v \u001B[38;5;28;01mfor\u001B[39;00m k, v \u001B[38;5;129;01min\u001B[39;00m kwargs.items() \u001B[38;5;28;01mif\u001B[39;00m k \u001B[38;5;129;01min\u001B[39;00m _allowed_params_prediction_service}\n\u001B[32m    226\u001B[39m     \u001B[38;5;28;01mif\u001B[39;00m (request := kwargs.get(\u001B[33m\"\u001B[39m\u001B[33mrequest\u001B[39m\u001B[33m\"\u001B[39m))\n\u001B[32m   (...)\u001B[39m\u001B[32m    229\u001B[39m     \u001B[38;5;28;01melse\u001B[39;00m kwargs\n\u001B[32m    230\u001B[39m )\n\u001B[32m--> \u001B[39m\u001B[32m231\u001B[39m \u001B[38;5;28;01mreturn\u001B[39;00m \u001B[43m_chat_with_retry\u001B[49m\u001B[43m(\u001B[49m\u001B[43m*\u001B[49m\u001B[43m*\u001B[49m\u001B[43mparams\u001B[49m\u001B[43m)\u001B[49m\n",
      "\u001B[36mFile \u001B[39m\u001B[32m~\\PycharmProjects\\Tolkienizer\\.venv\\Lib\\site-packages\\tenacity\\__init__.py:336\u001B[39m, in \u001B[36mBaseRetrying.wraps.<locals>.wrapped_f\u001B[39m\u001B[34m(*args, **kw)\u001B[39m\n\u001B[32m    334\u001B[39m copy = \u001B[38;5;28mself\u001B[39m.copy()\n\u001B[32m    335\u001B[39m wrapped_f.statistics = copy.statistics  \u001B[38;5;66;03m# type: ignore[attr-defined]\u001B[39;00m\n\u001B[32m--> \u001B[39m\u001B[32m336\u001B[39m \u001B[38;5;28;01mreturn\u001B[39;00m \u001B[43mcopy\u001B[49m\u001B[43m(\u001B[49m\u001B[43mf\u001B[49m\u001B[43m,\u001B[49m\u001B[43m \u001B[49m\u001B[43m*\u001B[49m\u001B[43margs\u001B[49m\u001B[43m,\u001B[49m\u001B[43m \u001B[49m\u001B[43m*\u001B[49m\u001B[43m*\u001B[49m\u001B[43mkw\u001B[49m\u001B[43m)\u001B[49m\n",
      "\u001B[36mFile \u001B[39m\u001B[32m~\\PycharmProjects\\Tolkienizer\\.venv\\Lib\\site-packages\\tenacity\\__init__.py:475\u001B[39m, in \u001B[36mRetrying.__call__\u001B[39m\u001B[34m(self, fn, *args, **kwargs)\u001B[39m\n\u001B[32m    473\u001B[39m retry_state = RetryCallState(retry_object=\u001B[38;5;28mself\u001B[39m, fn=fn, args=args, kwargs=kwargs)\n\u001B[32m    474\u001B[39m \u001B[38;5;28;01mwhile\u001B[39;00m \u001B[38;5;28;01mTrue\u001B[39;00m:\n\u001B[32m--> \u001B[39m\u001B[32m475\u001B[39m     do = \u001B[38;5;28;43mself\u001B[39;49m\u001B[43m.\u001B[49m\u001B[43miter\u001B[49m\u001B[43m(\u001B[49m\u001B[43mretry_state\u001B[49m\u001B[43m=\u001B[49m\u001B[43mretry_state\u001B[49m\u001B[43m)\u001B[49m\n\u001B[32m    476\u001B[39m     \u001B[38;5;28;01mif\u001B[39;00m \u001B[38;5;28misinstance\u001B[39m(do, DoAttempt):\n\u001B[32m    477\u001B[39m         \u001B[38;5;28;01mtry\u001B[39;00m:\n",
      "\u001B[36mFile \u001B[39m\u001B[32m~\\PycharmProjects\\Tolkienizer\\.venv\\Lib\\site-packages\\tenacity\\__init__.py:376\u001B[39m, in \u001B[36mBaseRetrying.iter\u001B[39m\u001B[34m(self, retry_state)\u001B[39m\n\u001B[32m    374\u001B[39m result = \u001B[38;5;28;01mNone\u001B[39;00m\n\u001B[32m    375\u001B[39m \u001B[38;5;28;01mfor\u001B[39;00m action \u001B[38;5;129;01min\u001B[39;00m \u001B[38;5;28mself\u001B[39m.iter_state.actions:\n\u001B[32m--> \u001B[39m\u001B[32m376\u001B[39m     result = \u001B[43maction\u001B[49m\u001B[43m(\u001B[49m\u001B[43mretry_state\u001B[49m\u001B[43m)\u001B[49m\n\u001B[32m    377\u001B[39m \u001B[38;5;28;01mreturn\u001B[39;00m result\n",
      "\u001B[36mFile \u001B[39m\u001B[32m~\\PycharmProjects\\Tolkienizer\\.venv\\Lib\\site-packages\\tenacity\\__init__.py:418\u001B[39m, in \u001B[36mBaseRetrying._post_stop_check_actions.<locals>.exc_check\u001B[39m\u001B[34m(rs)\u001B[39m\n\u001B[32m    416\u001B[39m retry_exc = \u001B[38;5;28mself\u001B[39m.retry_error_cls(fut)\n\u001B[32m    417\u001B[39m \u001B[38;5;28;01mif\u001B[39;00m \u001B[38;5;28mself\u001B[39m.reraise:\n\u001B[32m--> \u001B[39m\u001B[32m418\u001B[39m     \u001B[38;5;28;01mraise\u001B[39;00m \u001B[43mretry_exc\u001B[49m\u001B[43m.\u001B[49m\u001B[43mreraise\u001B[49m\u001B[43m(\u001B[49m\u001B[43m)\u001B[49m\n\u001B[32m    419\u001B[39m \u001B[38;5;28;01mraise\u001B[39;00m retry_exc \u001B[38;5;28;01mfrom\u001B[39;00m\u001B[38;5;250m \u001B[39m\u001B[34;01mfut\u001B[39;00m\u001B[34;01m.\u001B[39;00m\u001B[34;01mexception\u001B[39;00m()\n",
      "\u001B[36mFile \u001B[39m\u001B[32m~\\PycharmProjects\\Tolkienizer\\.venv\\Lib\\site-packages\\tenacity\\__init__.py:185\u001B[39m, in \u001B[36mRetryError.reraise\u001B[39m\u001B[34m(self)\u001B[39m\n\u001B[32m    183\u001B[39m \u001B[38;5;28;01mdef\u001B[39;00m\u001B[38;5;250m \u001B[39m\u001B[34mreraise\u001B[39m(\u001B[38;5;28mself\u001B[39m) -> t.NoReturn:\n\u001B[32m    184\u001B[39m     \u001B[38;5;28;01mif\u001B[39;00m \u001B[38;5;28mself\u001B[39m.last_attempt.failed:\n\u001B[32m--> \u001B[39m\u001B[32m185\u001B[39m         \u001B[38;5;28;01mraise\u001B[39;00m \u001B[38;5;28;43mself\u001B[39;49m\u001B[43m.\u001B[49m\u001B[43mlast_attempt\u001B[49m\u001B[43m.\u001B[49m\u001B[43mresult\u001B[49m\u001B[43m(\u001B[49m\u001B[43m)\u001B[49m\n\u001B[32m    186\u001B[39m     \u001B[38;5;28;01mraise\u001B[39;00m \u001B[38;5;28mself\u001B[39m\n",
      "\u001B[36mFile \u001B[39m\u001B[32m~\\AppData\\Local\\Programs\\Python\\Python311\\Lib\\concurrent\\futures\\_base.py:449\u001B[39m, in \u001B[36mFuture.result\u001B[39m\u001B[34m(self, timeout)\u001B[39m\n\u001B[32m    447\u001B[39m     \u001B[38;5;28;01mraise\u001B[39;00m CancelledError()\n\u001B[32m    448\u001B[39m \u001B[38;5;28;01melif\u001B[39;00m \u001B[38;5;28mself\u001B[39m._state == FINISHED:\n\u001B[32m--> \u001B[39m\u001B[32m449\u001B[39m     \u001B[38;5;28;01mreturn\u001B[39;00m \u001B[38;5;28;43mself\u001B[39;49m\u001B[43m.\u001B[49m\u001B[43m__get_result\u001B[49m\u001B[43m(\u001B[49m\u001B[43m)\u001B[49m\n\u001B[32m    451\u001B[39m \u001B[38;5;28mself\u001B[39m._condition.wait(timeout)\n\u001B[32m    453\u001B[39m \u001B[38;5;28;01mif\u001B[39;00m \u001B[38;5;28mself\u001B[39m._state \u001B[38;5;129;01min\u001B[39;00m [CANCELLED, CANCELLED_AND_NOTIFIED]:\n",
      "\u001B[36mFile \u001B[39m\u001B[32m~\\AppData\\Local\\Programs\\Python\\Python311\\Lib\\concurrent\\futures\\_base.py:401\u001B[39m, in \u001B[36mFuture.__get_result\u001B[39m\u001B[34m(self)\u001B[39m\n\u001B[32m    399\u001B[39m \u001B[38;5;28;01mif\u001B[39;00m \u001B[38;5;28mself\u001B[39m._exception:\n\u001B[32m    400\u001B[39m     \u001B[38;5;28;01mtry\u001B[39;00m:\n\u001B[32m--> \u001B[39m\u001B[32m401\u001B[39m         \u001B[38;5;28;01mraise\u001B[39;00m \u001B[38;5;28mself\u001B[39m._exception\n\u001B[32m    402\u001B[39m     \u001B[38;5;28;01mfinally\u001B[39;00m:\n\u001B[32m    403\u001B[39m         \u001B[38;5;66;03m# Break a reference cycle with the exception in self._exception\u001B[39;00m\n\u001B[32m    404\u001B[39m         \u001B[38;5;28mself\u001B[39m = \u001B[38;5;28;01mNone\u001B[39;00m\n",
      "\u001B[36mFile \u001B[39m\u001B[32m~\\PycharmProjects\\Tolkienizer\\.venv\\Lib\\site-packages\\tenacity\\__init__.py:478\u001B[39m, in \u001B[36mRetrying.__call__\u001B[39m\u001B[34m(self, fn, *args, **kwargs)\u001B[39m\n\u001B[32m    476\u001B[39m \u001B[38;5;28;01mif\u001B[39;00m \u001B[38;5;28misinstance\u001B[39m(do, DoAttempt):\n\u001B[32m    477\u001B[39m     \u001B[38;5;28;01mtry\u001B[39;00m:\n\u001B[32m--> \u001B[39m\u001B[32m478\u001B[39m         result = \u001B[43mfn\u001B[49m\u001B[43m(\u001B[49m\u001B[43m*\u001B[49m\u001B[43margs\u001B[49m\u001B[43m,\u001B[49m\u001B[43m \u001B[49m\u001B[43m*\u001B[49m\u001B[43m*\u001B[49m\u001B[43mkwargs\u001B[49m\u001B[43m)\u001B[49m\n\u001B[32m    479\u001B[39m     \u001B[38;5;28;01mexcept\u001B[39;00m \u001B[38;5;167;01mBaseException\u001B[39;00m:  \u001B[38;5;66;03m# noqa: B902\u001B[39;00m\n\u001B[32m    480\u001B[39m         retry_state.set_exception(sys.exc_info())  \u001B[38;5;66;03m# type: ignore[arg-type]\u001B[39;00m\n",
      "\u001B[36mFile \u001B[39m\u001B[32m~\\PycharmProjects\\Tolkienizer\\.venv\\Lib\\site-packages\\langchain_google_genai\\chat_models.py:222\u001B[39m, in \u001B[36m_chat_with_retry.<locals>._chat_with_retry\u001B[39m\u001B[34m(**kwargs)\u001B[39m\n\u001B[32m    218\u001B[39m     \u001B[38;5;28;01mraise\u001B[39;00m ChatGoogleGenerativeAIError(\n\u001B[32m    219\u001B[39m         \u001B[33mf\u001B[39m\u001B[33m\"\u001B[39m\u001B[33mInvalid argument provided to Gemini: \u001B[39m\u001B[38;5;132;01m{\u001B[39;00me\u001B[38;5;132;01m}\u001B[39;00m\u001B[33m\"\u001B[39m\n\u001B[32m    220\u001B[39m     ) \u001B[38;5;28;01mfrom\u001B[39;00m\u001B[38;5;250m \u001B[39m\u001B[34;01me\u001B[39;00m\n\u001B[32m    221\u001B[39m \u001B[38;5;28;01mexcept\u001B[39;00m \u001B[38;5;167;01mException\u001B[39;00m \u001B[38;5;28;01mas\u001B[39;00m e:\n\u001B[32m--> \u001B[39m\u001B[32m222\u001B[39m     \u001B[38;5;28;01mraise\u001B[39;00m e\n",
      "\u001B[36mFile \u001B[39m\u001B[32m~\\PycharmProjects\\Tolkienizer\\.venv\\Lib\\site-packages\\langchain_google_genai\\chat_models.py:206\u001B[39m, in \u001B[36m_chat_with_retry.<locals>._chat_with_retry\u001B[39m\u001B[34m(**kwargs)\u001B[39m\n\u001B[32m    203\u001B[39m \u001B[38;5;129m@retry_decorator\u001B[39m\n\u001B[32m    204\u001B[39m \u001B[38;5;28;01mdef\u001B[39;00m\u001B[38;5;250m \u001B[39m\u001B[34m_chat_with_retry\u001B[39m(**kwargs: Any) -> Any:\n\u001B[32m    205\u001B[39m     \u001B[38;5;28;01mtry\u001B[39;00m:\n\u001B[32m--> \u001B[39m\u001B[32m206\u001B[39m         \u001B[38;5;28;01mreturn\u001B[39;00m \u001B[43mgeneration_method\u001B[49m\u001B[43m(\u001B[49m\u001B[43m*\u001B[49m\u001B[43m*\u001B[49m\u001B[43mkwargs\u001B[49m\u001B[43m)\u001B[49m\n\u001B[32m    207\u001B[39m     \u001B[38;5;66;03m# Do not retry for these errors.\u001B[39;00m\n\u001B[32m    208\u001B[39m     \u001B[38;5;28;01mexcept\u001B[39;00m google.api_core.exceptions.FailedPrecondition \u001B[38;5;28;01mas\u001B[39;00m exc:\n",
      "\u001B[36mFile \u001B[39m\u001B[32m~\\PycharmProjects\\Tolkienizer\\.venv\\Lib\\site-packages\\google\\ai\\generativelanguage_v1beta\\services\\generative_service\\client.py:868\u001B[39m, in \u001B[36mGenerativeServiceClient.generate_content\u001B[39m\u001B[34m(self, request, model, contents, retry, timeout, metadata)\u001B[39m\n\u001B[32m    865\u001B[39m \u001B[38;5;28mself\u001B[39m._validate_universe_domain()\n\u001B[32m    867\u001B[39m \u001B[38;5;66;03m# Send the request.\u001B[39;00m\n\u001B[32m--> \u001B[39m\u001B[32m868\u001B[39m response = \u001B[43mrpc\u001B[49m\u001B[43m(\u001B[49m\n\u001B[32m    869\u001B[39m \u001B[43m    \u001B[49m\u001B[43mrequest\u001B[49m\u001B[43m,\u001B[49m\n\u001B[32m    870\u001B[39m \u001B[43m    \u001B[49m\u001B[43mretry\u001B[49m\u001B[43m=\u001B[49m\u001B[43mretry\u001B[49m\u001B[43m,\u001B[49m\n\u001B[32m    871\u001B[39m \u001B[43m    \u001B[49m\u001B[43mtimeout\u001B[49m\u001B[43m=\u001B[49m\u001B[43mtimeout\u001B[49m\u001B[43m,\u001B[49m\n\u001B[32m    872\u001B[39m \u001B[43m    \u001B[49m\u001B[43mmetadata\u001B[49m\u001B[43m=\u001B[49m\u001B[43mmetadata\u001B[49m\u001B[43m,\u001B[49m\n\u001B[32m    873\u001B[39m \u001B[43m\u001B[49m\u001B[43m)\u001B[49m\n\u001B[32m    875\u001B[39m \u001B[38;5;66;03m# Done; return the response.\u001B[39;00m\n\u001B[32m    876\u001B[39m \u001B[38;5;28;01mreturn\u001B[39;00m response\n",
      "\u001B[36mFile \u001B[39m\u001B[32m~\\PycharmProjects\\Tolkienizer\\.venv\\Lib\\site-packages\\google\\api_core\\gapic_v1\\method.py:131\u001B[39m, in \u001B[36m_GapicCallable.__call__\u001B[39m\u001B[34m(self, timeout, retry, compression, *args, **kwargs)\u001B[39m\n\u001B[32m    128\u001B[39m \u001B[38;5;28;01mif\u001B[39;00m \u001B[38;5;28mself\u001B[39m._compression \u001B[38;5;129;01mis\u001B[39;00m \u001B[38;5;129;01mnot\u001B[39;00m \u001B[38;5;28;01mNone\u001B[39;00m:\n\u001B[32m    129\u001B[39m     kwargs[\u001B[33m\"\u001B[39m\u001B[33mcompression\u001B[39m\u001B[33m\"\u001B[39m] = compression\n\u001B[32m--> \u001B[39m\u001B[32m131\u001B[39m \u001B[38;5;28;01mreturn\u001B[39;00m \u001B[43mwrapped_func\u001B[49m\u001B[43m(\u001B[49m\u001B[43m*\u001B[49m\u001B[43margs\u001B[49m\u001B[43m,\u001B[49m\u001B[43m \u001B[49m\u001B[43m*\u001B[49m\u001B[43m*\u001B[49m\u001B[43mkwargs\u001B[49m\u001B[43m)\u001B[49m\n",
      "\u001B[36mFile \u001B[39m\u001B[32m~\\PycharmProjects\\Tolkienizer\\.venv\\Lib\\site-packages\\google\\api_core\\retry\\retry_unary.py:294\u001B[39m, in \u001B[36mRetry.__call__.<locals>.retry_wrapped_func\u001B[39m\u001B[34m(*args, **kwargs)\u001B[39m\n\u001B[32m    290\u001B[39m target = functools.partial(func, *args, **kwargs)\n\u001B[32m    291\u001B[39m sleep_generator = exponential_sleep_generator(\n\u001B[32m    292\u001B[39m     \u001B[38;5;28mself\u001B[39m._initial, \u001B[38;5;28mself\u001B[39m._maximum, multiplier=\u001B[38;5;28mself\u001B[39m._multiplier\n\u001B[32m    293\u001B[39m )\n\u001B[32m--> \u001B[39m\u001B[32m294\u001B[39m \u001B[38;5;28;01mreturn\u001B[39;00m \u001B[43mretry_target\u001B[49m\u001B[43m(\u001B[49m\n\u001B[32m    295\u001B[39m \u001B[43m    \u001B[49m\u001B[43mtarget\u001B[49m\u001B[43m,\u001B[49m\n\u001B[32m    296\u001B[39m \u001B[43m    \u001B[49m\u001B[38;5;28;43mself\u001B[39;49m\u001B[43m.\u001B[49m\u001B[43m_predicate\u001B[49m\u001B[43m,\u001B[49m\n\u001B[32m    297\u001B[39m \u001B[43m    \u001B[49m\u001B[43msleep_generator\u001B[49m\u001B[43m,\u001B[49m\n\u001B[32m    298\u001B[39m \u001B[43m    \u001B[49m\u001B[43mtimeout\u001B[49m\u001B[43m=\u001B[49m\u001B[38;5;28;43mself\u001B[39;49m\u001B[43m.\u001B[49m\u001B[43m_timeout\u001B[49m\u001B[43m,\u001B[49m\n\u001B[32m    299\u001B[39m \u001B[43m    \u001B[49m\u001B[43mon_error\u001B[49m\u001B[43m=\u001B[49m\u001B[43mon_error\u001B[49m\u001B[43m,\u001B[49m\n\u001B[32m    300\u001B[39m \u001B[43m\u001B[49m\u001B[43m)\u001B[49m\n",
      "\u001B[36mFile \u001B[39m\u001B[32m~\\PycharmProjects\\Tolkienizer\\.venv\\Lib\\site-packages\\google\\api_core\\retry\\retry_unary.py:156\u001B[39m, in \u001B[36mretry_target\u001B[39m\u001B[34m(target, predicate, sleep_generator, timeout, on_error, exception_factory, **kwargs)\u001B[39m\n\u001B[32m    152\u001B[39m \u001B[38;5;66;03m# pylint: disable=broad-except\u001B[39;00m\n\u001B[32m    153\u001B[39m \u001B[38;5;66;03m# This function explicitly must deal with broad exceptions.\u001B[39;00m\n\u001B[32m    154\u001B[39m \u001B[38;5;28;01mexcept\u001B[39;00m \u001B[38;5;167;01mException\u001B[39;00m \u001B[38;5;28;01mas\u001B[39;00m exc:\n\u001B[32m    155\u001B[39m     \u001B[38;5;66;03m# defer to shared logic for handling errors\u001B[39;00m\n\u001B[32m--> \u001B[39m\u001B[32m156\u001B[39m     next_sleep = \u001B[43m_retry_error_helper\u001B[49m\u001B[43m(\u001B[49m\n\u001B[32m    157\u001B[39m \u001B[43m        \u001B[49m\u001B[43mexc\u001B[49m\u001B[43m,\u001B[49m\n\u001B[32m    158\u001B[39m \u001B[43m        \u001B[49m\u001B[43mdeadline\u001B[49m\u001B[43m,\u001B[49m\n\u001B[32m    159\u001B[39m \u001B[43m        \u001B[49m\u001B[43msleep_iter\u001B[49m\u001B[43m,\u001B[49m\n\u001B[32m    160\u001B[39m \u001B[43m        \u001B[49m\u001B[43merror_list\u001B[49m\u001B[43m,\u001B[49m\n\u001B[32m    161\u001B[39m \u001B[43m        \u001B[49m\u001B[43mpredicate\u001B[49m\u001B[43m,\u001B[49m\n\u001B[32m    162\u001B[39m \u001B[43m        \u001B[49m\u001B[43mon_error\u001B[49m\u001B[43m,\u001B[49m\n\u001B[32m    163\u001B[39m \u001B[43m        \u001B[49m\u001B[43mexception_factory\u001B[49m\u001B[43m,\u001B[49m\n\u001B[32m    164\u001B[39m \u001B[43m        \u001B[49m\u001B[43mtimeout\u001B[49m\u001B[43m,\u001B[49m\n\u001B[32m    165\u001B[39m \u001B[43m    \u001B[49m\u001B[43m)\u001B[49m\n\u001B[32m    166\u001B[39m     \u001B[38;5;66;03m# if exception not raised, sleep before next attempt\u001B[39;00m\n\u001B[32m    167\u001B[39m     time.sleep(next_sleep)\n",
      "\u001B[36mFile \u001B[39m\u001B[32m~\\PycharmProjects\\Tolkienizer\\.venv\\Lib\\site-packages\\google\\api_core\\retry\\retry_base.py:214\u001B[39m, in \u001B[36m_retry_error_helper\u001B[39m\u001B[34m(exc, deadline, sleep_iterator, error_list, predicate_fn, on_error_fn, exc_factory_fn, original_timeout)\u001B[39m\n\u001B[32m    208\u001B[39m \u001B[38;5;28;01mif\u001B[39;00m \u001B[38;5;129;01mnot\u001B[39;00m predicate_fn(exc):\n\u001B[32m    209\u001B[39m     final_exc, source_exc = exc_factory_fn(\n\u001B[32m    210\u001B[39m         error_list,\n\u001B[32m    211\u001B[39m         RetryFailureReason.NON_RETRYABLE_ERROR,\n\u001B[32m    212\u001B[39m         original_timeout,\n\u001B[32m    213\u001B[39m     )\n\u001B[32m--> \u001B[39m\u001B[32m214\u001B[39m     \u001B[38;5;28;01mraise\u001B[39;00m final_exc \u001B[38;5;28;01mfrom\u001B[39;00m\u001B[38;5;250m \u001B[39m\u001B[34;01msource_exc\u001B[39;00m\n\u001B[32m    215\u001B[39m \u001B[38;5;28;01mif\u001B[39;00m on_error_fn \u001B[38;5;129;01mis\u001B[39;00m \u001B[38;5;129;01mnot\u001B[39;00m \u001B[38;5;28;01mNone\u001B[39;00m:\n\u001B[32m    216\u001B[39m     on_error_fn(exc)\n",
      "\u001B[36mFile \u001B[39m\u001B[32m~\\PycharmProjects\\Tolkienizer\\.venv\\Lib\\site-packages\\google\\api_core\\retry\\retry_unary.py:147\u001B[39m, in \u001B[36mretry_target\u001B[39m\u001B[34m(target, predicate, sleep_generator, timeout, on_error, exception_factory, **kwargs)\u001B[39m\n\u001B[32m    145\u001B[39m \u001B[38;5;28;01mwhile\u001B[39;00m \u001B[38;5;28;01mTrue\u001B[39;00m:\n\u001B[32m    146\u001B[39m     \u001B[38;5;28;01mtry\u001B[39;00m:\n\u001B[32m--> \u001B[39m\u001B[32m147\u001B[39m         result = \u001B[43mtarget\u001B[49m\u001B[43m(\u001B[49m\u001B[43m)\u001B[49m\n\u001B[32m    148\u001B[39m         \u001B[38;5;28;01mif\u001B[39;00m inspect.isawaitable(result):\n\u001B[32m    149\u001B[39m             warnings.warn(_ASYNC_RETRY_WARNING)\n",
      "\u001B[36mFile \u001B[39m\u001B[32m~\\PycharmProjects\\Tolkienizer\\.venv\\Lib\\site-packages\\google\\api_core\\timeout.py:130\u001B[39m, in \u001B[36mTimeToDeadlineTimeout.__call__.<locals>.func_with_timeout\u001B[39m\u001B[34m(*args, **kwargs)\u001B[39m\n\u001B[32m    126\u001B[39m         remaining_timeout = \u001B[38;5;28mself\u001B[39m._timeout\n\u001B[32m    128\u001B[39m     kwargs[\u001B[33m\"\u001B[39m\u001B[33mtimeout\u001B[39m\u001B[33m\"\u001B[39m] = remaining_timeout\n\u001B[32m--> \u001B[39m\u001B[32m130\u001B[39m \u001B[38;5;28;01mreturn\u001B[39;00m \u001B[43mfunc\u001B[49m\u001B[43m(\u001B[49m\u001B[43m*\u001B[49m\u001B[43margs\u001B[49m\u001B[43m,\u001B[49m\u001B[43m \u001B[49m\u001B[43m*\u001B[49m\u001B[43m*\u001B[49m\u001B[43mkwargs\u001B[49m\u001B[43m)\u001B[49m\n",
      "\u001B[36mFile \u001B[39m\u001B[32m~\\PycharmProjects\\Tolkienizer\\.venv\\Lib\\site-packages\\google\\api_core\\grpc_helpers.py:78\u001B[39m, in \u001B[36m_wrap_unary_errors.<locals>.error_remapped_callable\u001B[39m\u001B[34m(*args, **kwargs)\u001B[39m\n\u001B[32m     76\u001B[39m     \u001B[38;5;28;01mreturn\u001B[39;00m callable_(*args, **kwargs)\n\u001B[32m     77\u001B[39m \u001B[38;5;28;01mexcept\u001B[39;00m grpc.RpcError \u001B[38;5;28;01mas\u001B[39;00m exc:\n\u001B[32m---> \u001B[39m\u001B[32m78\u001B[39m     \u001B[38;5;28;01mraise\u001B[39;00m exceptions.from_grpc_error(exc) \u001B[38;5;28;01mfrom\u001B[39;00m\u001B[38;5;250m \u001B[39m\u001B[34;01mexc\u001B[39;00m\n",
      "\u001B[31mResourceExhausted\u001B[39m: 429 You exceeded your current quota, please check your plan and billing details. For more information on this error, head to: https://ai.google.dev/gemini-api/docs/rate-limits. [violations {\n  quota_metric: \"generativelanguage.googleapis.com/generate_content_free_tier_requests\"\n  quota_id: \"GenerateRequestsPerDayPerProjectPerModel-FreeTier\"\n  quota_dimensions {\n    key: \"model\"\n    value: \"gemini-2.5-flash\"\n  }\n  quota_dimensions {\n    key: \"location\"\n    value: \"global\"\n  }\n  quota_value: 250\n}\n, links {\n  description: \"Learn more about Gemini API quotas\"\n  url: \"https://ai.google.dev/gemini-api/docs/rate-limits\"\n}\n, retry_delay {\n  seconds: 32\n}\n]"
     ]
    }
   ],
   "execution_count": 25
  },
  {
   "metadata": {
    "ExecuteTime": {
     "end_time": "2025-07-16T11:49:27.325934Z",
     "start_time": "2025-07-16T11:49:27.309377Z"
    }
   },
   "cell_type": "code",
   "source": [
    "# deal with first 200 summaries at the moment\n",
    "summaries = summaries[:200]\n",
    "summaries"
   ],
   "id": "2a13b14094dcd955",
   "outputs": [
    {
     "data": {
      "text/plain": [
       "[\"The speaker is telling a group of people that he hasn't gotten to know many of them as well as he would have liked. He then adds, somewhat humbly, that there are others in the group whom he doesn't appreciate or like as much as they genuinely deserve, suggesting that his own feelings fall short of their actual good qualities.\",\n",
       " \"This quote means that the most important choice we have to make in life isn't about external events or what happens *to* us, but rather the fundamental decision of how we use the time we are given. It highlights that our lives are ultimately shaped by the conscious choices we make every day about how to spend our moments, hours, and years. Essentially, it boils down to recognizing that our main task is to decide what we do with our limited time, as this defines our path and experiences.\",\n",
       " 'This quote means that if we prioritized simple joys and shared experiences, like enjoying good food, laughter, and music together, more than we value accumulating money and possessions, the world would be a much happier place. It suggests that focusing on human connection and happiness, rather than just material wealth, would lead to a more joyful and pleasant world for everyone.',\n",
       " 'The quote \"Never laugh at live dragons\" is a warning to always take serious threats or powerful, dangerous things seriously. It means you should never underestimate or make fun of something that has the potential to harm you. Instead, you should treat such situations or entities with respect and caution, because failing to do so could lead to unpleasant or even disastrous consequences.',\n",
       " \"This quote means that someone who abandons others or a cause when difficulties arise is considered disloyal and untrustworthy. It suggests that true commitment and faithfulness are shown not when things are easy, but when challenges emerge and the situation becomes tough. Essentially, it's about sticking with something or someone through adversity, rather than giving up when the going gets hard.\",\n",
       " 'This quote suggests that while the world is indeed full of dangers and difficult situations, it also contains a lot of beauty and good things. It acknowledges that love, no matter where you are, is now often mixed with sadness and grief. However, the remarkable idea is that this very combination of love and sorrow might actually make love grow deeper and become even more powerful.',\n",
       " \"The quote advises great caution when judging others, especially when it comes to matters of life and death. It points out that while some people who are alive might truly deserve to die, many who have already died actually deserved to live. Since we humans lack the power to reverse death or grant life, we should not be quick or eager to condemn someone to death. The core message is that even the wisest among us cannot fully see all the long-term consequences or truly understand a person's ultimate worth, making it dangerous to make such final judgments.\",\n",
       " \"This quote suggests that stepping out into the world and embarking on any journey, big or small, is inherently risky. Once you start down a path, you must be careful and maintain your focus. If you lose your sense of direction or aren't deliberate in your actions, the unpredictable nature of life can easily sweep you away to unknown destinations, far from where you ever intended to go.\",\n",
       " \"The speaker believes it's okay to cry and won't tell anyone to stop. This is because they understand that tears are not always a bad thing or a sign of weakness. Instead, they suggest that tears can be a natural and healthy way to express a range of emotions, not just sorrow. So, it's perfectly acceptable to shed tears.\",\n",
       " 'The quote argues that the best thing about fantasy is its ability to let us escape from reality. It compares this act of escaping to a soldier\\'s duty to break free from enemy capture. Essentially, if we truly value the freedom of our minds and souls, then it\\'s our clear responsibility to use fantasy as a way to \"escape\" any mental or spiritual confinement. Furthermore, we should also help as many other people as possible find this same kind of mental liberation.',\n",
       " 'This quote explores the many possible meanings behind the simple greeting \"good morning.\" The speaker is questioning if the person saying it genuinely wishes them a good day, or if they are simply stating that the morning itself is good regardless of anyone\\'s feelings. It could also mean that the person saying it feels good themselves, or that they believe it\\'s a morning where one should behave well or do good things. Essentially, the speaker wants to understand the true intention and specific kind of \"goodness\" being expressed.',\n",
       " \"This quote explains that war is sometimes a grim necessity, only to be waged when people must defend their lives against an overwhelming threat that seeks to destroy everything. However, the speaker emphasizes that they don't love the act of fighting itself, the weapons used, or the fame that warriors might gain. Their love is reserved solely for the precious things—such as life, freedom, or home—that war is fought to protect.\",\n",
       " 'This quote describes life as a long, continuous journey, like a road that keeps going on and on from its very beginning. The speaker feels compelled to follow this path, even though it has already progressed far ahead, pursuing it with eagerness. Their hope is to continue until this personal journey merges with a larger, more significant path where many different experiences and directions converge. However, the speaker admits they have no idea what lies beyond that point.',\n",
       " \"This quote describes the distribution of powerful rings among different races: three for the Elves, seven for the Dwarves, and nine for mortal Men. However, there is one supreme Ring, created by the Dark Lord in his evil land of Mordor. This single Ring was made to control all the other rings and their wearers, bringing everyone under the Dark Lord's absolute power and binding them in darkness.\",\n",
       " 'The speaker believes that even in familiar surroundings, there are always new opportunities or hidden paths waiting to be discovered. Although they admit to having overlooked these chances many times before, they are confident that one day they will finally embark on those extraordinary, almost magical journeys that represent their ultimate adventure or destiny.',\n",
       " \"The man held the woman close and kissed her passionately under the bright, sunny sky. Even though they were high up on a wall, clearly visible to many people watching, he didn't care at all about being seen or judged. His love for her was so strong that nothing else mattered in that moment.\",\n",
       " 'The speaker is expressing how deeply glad they are that Sam is with them. They are facing a momentous and possibly dire situation, described as \"the end of all things,\" and Sam\\'s presence offers great comfort and companionship during this final and significant moment.',\n",
       " \"This quote means that bravery isn't always found in the obvious heroes or grand, dramatic moments. Instead, it highlights that courage often emerges from unexpected individuals or in ordinary, everyday situations where you might least anticipate it. It reminds us that anyone, regardless of their background or perceived strength, has the capacity to show remarkable bravery when faced with challenges.\",\n",
       " 'This quote expresses a wish that a particular thing—be it a belief, a principle, or a source of strength—will serve as a guiding light and source of hope for you during your most difficult and despairing times. It suggests that this \"light\" will remain steadfast, offering comfort and direction even when you feel completely lost and every other source of help, comfort, or solution has disappeared.',\n",
       " \"This quote means that any task or project you put off and never actually begin is the one that will take the absolute longest to complete. If you haven't even started something, you can't make any progress, meaning it will never be finished. The longest a job can take is when it remains untouched, because until you take that first step, its completion is infinitely far away.\",\n",
       " \"The speaker sits by a warm fire, lost in thought. They reflect on beautiful past seasons, recalling the vibrant flowers of summer and the misty, golden days of autumn. Their mind then shifts to the future, contemplating their own mortality and how the world will continue long after they are gone, filled with sights and experiences they will never witness. They ponder the people of generations past and those who will live in a world they'll never know. Throughout these deep reflections, a sense of longing emerges as the speaker listens intently, hoping for the return of familiar footsteps and voices at their door.\",\n",
       " 'The quote suggests that if you want to discover something, you absolutely must actively look for it. While you will almost always find *something* when you search, what you discover might not be exactly what you were hoping to find. It highlights that effort usually yields results, even if those results are unexpected or different from your original goal.',\n",
       " 'When Aragorn asks Éowyn what she fears, she replies that her greatest dread is a \"cage.\" She explains this means being trapped and confined, like behind bars. Her fear is not just the physical restriction, but slowly becoming accustomed to this limited life as she ages, losing all opportunity to achieve great things. Even more, she fears that she would eventually lose the very desire or memory of wanting to do such deeds.',\n",
       " 'This quote means that a very strong or dominant presence can overshadow and make less noticeable many other things that might otherwise be significant. Only the most exceptional or outstanding among them will still manage to stand out and be recognized. It suggests that in the presence of something overwhelmingly prominent, most others fade into the background, leaving visibility only for the truly brilliant.',\n",
       " 'This quote, the very first line of *The Hobbit*, simply introduces the main character: a hobbit. It immediately tells us where this hobbit lives, stating that his home is a humble hole in the ground. Essentially, it sets the scene by presenting the central figure and their unique, down-to-earth dwelling right from the start.',\n",
       " \"Despite a forced attempt at cheerfulness, the speaker reveals they are turning to alcohol to deal with their deep sadness and problems. They acknowledge that life will continue to bring difficulties and that their journey is far from over. However, instead of confronting these challenges, they choose to retreat, wishing to lie down in a peaceful spot and let the world's troubles simply pass them by. It's a sentiment of resignation, seeking a temporary escape and quiet solace from ongoing struggles.\",\n",
       " 'This quote warns people not to interfere with the business or activities of wizards. It emphasizes two main reasons for this caution: firstly, wizards are described as \"subtle,\" meaning they are clever, cunning, and their actions or intentions might not be obvious; and secondly, they are \"quick to anger,\" implying they have short tempers and can react powerfully and dangerously when provoked. Therefore, the advice is to leave them alone to avoid unpredictable and potentially harmful consequences.',\n",
       " \"This poem describes an urgent journey over misty mountains to ancient dungeons and caverns. It tells of the dwarves' glorious past, how they were master craftsmen who made magnificent golden objects, jewels, and musical instruments deep within the earth. However, a fierce dragon attacked, bringing destruction and forcing the dwarves to flee their homes and leave their treasures behind. Now, before dawn, they must return to these grim, deep places to reclaim their long-forgotten gold and harps from the dragon.\",\n",
       " \"This quote means that physical power or how strong your body is isn't the most important thing in life. Instead, what truly matters is your inner strength – things like your willpower, determination, courage, and the ability to keep going even when facing difficulties. It suggests that mental and emotional resilience are more valuable and impactful than just being physically capable.\",\n",
       " \"This quote means the speaker feels completely overwhelmed and depleted. They feel as though their personal resources, like their energy, time, or even their very self, are stretched incredibly thin across too many demands or responsibilities. Just like a small amount of butter spread over a huge slice of bread wouldn't be enough to cover it richly, the speaker feels they don't have enough of themselves to adequately handle everything they're facing, leaving them feeling insubstantial and worn out.\",\n",
       " \"This quote means that the speaker is making a profound promise to protect someone. They are completely dedicated to ensuring that person's safety, no matter what challenges arise. This commitment is so strong that they are willing to do anything necessary, even sacrificing their own life, to keep the other person safe from harm. It's a powerful declaration of unwavering loyalty and ultimate devotion.\",\n",
       " \"This quote means that life already comes with a lot of natural suffering, pain, accidents, and unfortunate events. We face enough challenges and hardships just by living. Therefore, there's absolutely no need for wars, which only serve to drastically increase and multiply these existing difficulties, adding immense and unnecessary pain and destruction to what is already a challenging world.\",\n",
       " 'An adventurer is struggling to find someone to join them on a planned journey. A local, however, explains that this is entirely expected in their area, as the people there are quiet, simple folk who have no interest in such things. They see adventures as nasty, disturbing, and uncomfortable, even complaining that they would make one late for dinner.',\n",
       " 'This quote advises that we shouldn\\'t try to control *all* the world\\'s vast problems or forces. Instead, our true purpose is to focus on what we *can* do in our own time: to help those around us and actively fix the problems we are familiar with, within our own communities or areas of influence. By \"uprooting the evil\" we know, we aim to leave a better, \"cleaner\" world for future generations to live in. We can\\'t control every challenge or circumstance they will face, but we can ensure they have a solid foundation to start from.',\n",
       " 'The character found himself in a situation where going back or trying to go sideways were impossible or useless options. He realized that the only thing he could do was to keep moving forward. So, despite feeling very nervous and his heart pounding, he bravely got up and continued on his journey, cautiously feeling his way and holding his small sword ready.',\n",
       " 'The character suddenly felt a strong urge for adventure, as if an exciting, daring part of him had awakened. He longed to leave his ordinary life behind and explore the vast, wild world, wishing to see towering mountains, hear the sounds of nature like pine trees and waterfalls, and discover hidden caves. Most importantly, he wanted to trade his simple walking stick for a sword, symbolizing a desire to become a brave, active participant in an exciting journey rather than a quiet observer.',\n",
       " 'This quote is a heartfelt plea for someone not to leave the speaker behind. It means, \"Please don\\'t go to places, or make decisions, where I won\\'t be able to join you or keep up.\" Essentially, the person speaking wants to maintain their connection and fears being separated, excluded, or unable to follow the other person\\'s path, whether literally or figuratively in life.',\n",
       " 'This quote suggests that life is a long journey that begins when you leave the familiar comfort of home behind. As you move forward, there are countless different paths to choose from, and this journey will involve difficult times and challenges, represented by \"shadows\" and \"the edge of night.\" However, the journey continues through these trials until you reach a point of clarity, guidance, or fulfillment, symbolized by \"the stars are all alight.\"',\n",
       " \"This quote from the dragon highlights a surprising contrast: someone who is known to be dishonest and untrustworthy (a thief and a liar) is also unexpectedly polite and well-behaved. The dragon is essentially expressing a sarcastic or ironic observation, finding it odd that a person with such a morally corrupt character would display good manners. It's a backhanded compliment, pointing out the unusual combination of good behavior from someone considered bad.\",\n",
       " \"This quote means that even the most intelligent and knowledgeable people cannot fully foresee everything that will happen. No matter how wise someone is, they can't predict all the future outcomes, consequences, or the complete results of actions and events. There will always be unforeseen developments or details that even the sharpest minds cannot anticipate.\",\n",
       " \"This quote marks the emotional conclusion of a long journey for a close group of friends, as they finally arrive at the shores of the Sea. The speaker bids them a peaceful farewell, but also gently tells them not to hold back their tears. He explains that crying isn't always a negative thing; in fact, some tears are a natural and even good expression of feeling.\",\n",
       " 'In this quote, a powerful figure confronts a group of orcs and absolutely forbids them from passing. He declares himself a servant of an ancient, secret fire and wielder of a powerful flame, implying he possesses great good magic. He dismisses the orcs\\' dark magic as useless against him, telling them their \\'dark fire\\' won\\'t help them. He repeatedly and forcefully states, \"You cannot pass,\" and commands them to \"Go back to the Shadow,\" emphasizing his unwavering resolve to stop them.',\n",
       " \"Frodo expresses a feeling of deep isolation and distrust, believing he can't trust anyone. Merry, however, reassures him by clarifying the unique nature of their friendship. He tells Frodo that he can absolutely trust them to stick by him through all difficulties, no matter how dire, and to guard his secrets even more closely than Frodo himself. But Merry also makes it clear that Frodo *cannot* trust them to stand by and watch him face trouble alone or leave without a word; precisely because they are his friends, they are committed to actively supporting him.\",\n",
       " \"Fairy tales aren't about denying that sadness and failure exist; in fact, they include these difficult experiences because overcoming them makes the eventual happiness or rescue feel much more powerful and meaningful. What fairy tales *do* deny, however, is the idea that everything will always end in complete and final defeat, even when real life might suggest otherwise. Instead, they offer a brief but profound glimpse of an extraordinary joy – a happiness so deep and moving that it feels as intensely emotional as sorrow itself.\",\n",
       " 'Aragorn light-heartedly pointed out that Gandalf still has a habit of speaking in a mysterious or indirect way, like talking in riddles. Gandalf, feigning surprise, denied this, claiming he was merely talking aloud to himself. He then humorously explained that older people, like himself, prefer to speak to the wisest person present (implying himself) because they find the long explanations needed by younger people too tiring.',\n",
       " \"Frodo expresses a common human desire to escape difficult situations, wishing the heavy burden he carries and the challenging events had never occurred. Gandalf acknowledges that this feeling is universal; everyone facing tough times wishes they weren't happening. However, he points out that people don't get to choose the circumstances or the era they live in. Instead, the only power they truly possess is deciding how to use the time and opportunities they *do* have to face these challenges.\",\n",
       " \"The author states that some people who have read or reviewed their book found it boring, absurd, or worthless. However, the author isn't upset or bothered by these negative opinions. This is because the author feels the same way about the critics' own writing or the types of books they seem to prefer. Essentially, it's a mutual dislike of each other's literary tastes.\",\n",
       " 'This quote describes a profound internal shift where someone\\'s feelings or understanding of their situation completely transforms. It suggests that once this inner clarity or change occurs, a difficult, sad, or stagnant period (the \"winter\") in their life finally ends. As a result, they enter a time of happiness, hope, and peace, symbolized by the \"sun shining upon her.\"',\n",
       " 'The quote describes a hobbit\\'s home as a hole in the ground, but quickly clarifies that it\\'s far from a typical unpleasant, dirty, or wet burrow. It also isn\\'t a bare, empty, or uncomfortable space. Instead, it\\'s a special kind of dwelling known as a \"hobbit-hole,\" which is specifically designed for and synonymous with ultimate comfort and coziness.',\n",
       " \"High up in a dark, desolate mountain area, Sam saw a beautiful white star twinkle. The star's beauty deeply moved him, bringing a powerful feeling of hope back to his heart, even though he was in a desperate situation. He suddenly understood that the evil and darkness he was facing were actually small and temporary. The star's light made him realize that true light and beauty would always exist, forever beyond the reach of any shadow.\",\n",
       " 'This quote means that trying to get back at someone who has wronged you, or \"meeting revenge with revenge,\" is completely pointless. Such actions don\\'t solve any problems or make things better. Instead, seeking vengeance only continues a cycle of harm and pain, and it will never truly fix what was broken or bring about any real healing.',\n",
       " 'Living by faith means more than just looking out for yourself. It calls us to pursue something much greater than simply protecting our own safety, especially if that protection stems from fear or a lack of courage. Essentially, true faith encourages us to move beyond selfish concerns and embrace a higher purpose, even when it involves personal risk or discomfort.',\n",
       " \"This quote means that someone who speaks very nicely, politely, or charmingly might not actually be a good person at heart. Their pleasant words can be a disguise, hiding their true intentions which might be dishonest, unkind, or even malicious. It warns us not to judge a person's character solely by what they say, as words can be used to deceive or cover up a bad nature.\",\n",
       " \"This quote is a sorrowful reflection on how everything, from valiant warriors and their equipment to beautiful music, the warmth of a fire, and the bounty of nature, eventually disappears. It emphasizes that these things vanish quickly and completely, like rain on a mountain or wind in a meadow, and that the passage of time is irreversible. Just as you can't gather smoke or bring back past years, what is gone is gone forever, leaving behind only the memory of what once was.\",\n",
       " 'Éowyn reveals to her opponent that she is a woman, not a man, and states her name. She declares that the foe is blocking her from protecting her lord and family. She then warns them to leave if they are not immortal, because she vows to strike them down powerfully, regardless of whether they are alive or undead, if they dare to touch the one she is defending.',\n",
       " \"This quote suggests that we don't get to choose the challenging or significant times we live through; those circumstances are beyond our control. We cannot decide when we are born or what major events will unfold in the world during our lifetime. However, the one crucial thing we *can* decide is how we choose to use the time we are given and what actions we take within it.\",\n",
       " \"This quote is a humorous and affectionate blessing, wishing someone continued good health and vitality. While hair on toes might seem like an odd thing to wish for, it's often a subtle sign of good circulation and overall well-being, especially as one ages. Therefore, the phrase playfully expresses a wish that the person remains robust, healthy, and full of life, not losing even the smallest signs of their vigor for a very long time.\",\n",
       " \"This quote means that giving or receiving advice, even from very smart people to other smart people, is always risky. No matter how good the intentions or the advice itself, there's a strong possibility that things will still go wrong or lead to unexpected problems. It highlights that any plan based on advice can easily fail.\",\n",
       " \"Samwise Gamgee wonders aloud if their incredible journey will ever become a famous story, imagining people years later reading about 'Frodo and the Ring' from a big book or hearing it told by a fireside, with children admiring Frodo's bravery. Frodo finds this idea wonderfully amusing and laughs heartily, a rare and welcome sound in their grim surroundings. He then playfully points out that Sam has forgotten to include himself in his envisioned tale, insisting that future listeners would surely want to hear about 'Samwise the stouthearted' and how essential Sam was to his success. Though Sam is a bit embarrassed, thinking Frodo is making fun, Frodo reassures him that he is entirely serious about Sam's vital and unforgettable contribution.\",\n",
       " \"The speaker's main wish is to be a healer, driven by a deep affection for all living things. They are drawn to anything that grows, thrives, and is productive, clearly preferring vitality over anything that is empty or lifeless. Essentially, they want to nurture life and help things flourish.\",\n",
       " 'The quote \"Fly you fools\" is an urgent and exasperated command. Essentially, it means for people to quickly get moving, escape, or take action, as the speaker sees their current inaction or hesitation as foolish, unwise, or dangerous. It\\'s a frustrated plea for immediate movement, implying that those being addressed are being slow-witted or missing a critical need to act.',\n",
       " 'The speaker is confirming their presence and then tells the other person that they are fortunate to be there as well. This is because the other person has done many foolish or problematic things since they left home, suggesting that despite their past mistakes, they have still managed to end up in a good or safe place.',\n",
       " 'The quote \"What does your heart tell you?\" is an invitation to look inside yourself for answers. It encourages you to listen to your deepest feelings, intuition, and personal truth, rather than just relying on logic, what others say, or what seems most practical. Essentially, it\\'s asking you to trust your gut instincts and make decisions based on what truly feels right and authentic to you, especially when facing a difficult choice or uncertainty.',\n",
       " 'This quote advises us to be cautious of our most intense emotions, whether they are fiery and impulsive like anger or overwhelming passion (\"heat\"), or icy and detached like apathy or despair (\"cold\"). Both extremes can be problematic and lead to poor decisions or a lack of action. The wisdom offered is to cultivate patience, which helps us to manage these powerful feelings and react more thoughtfully, even though achieving such emotional balance is often a difficult task.',\n",
       " 'This quote suggests that a situation is truly good or acceptable only if its final outcome is not just satisfactory, but significantly *improved* or *more favorable* than it was before. It implies that the true measure of success or well-being lies in achieving a state of progress or a more advantageous position by the end, rather than just settling for an \"okay\" finish. It emphasizes the importance of positive change and growth in the ultimate resolution of events.',\n",
       " \"Gilraen, Aragorn's mother, expresses that she has given all her hope to her son, Aragorn, who is destined to be the hope for his people, the Dúnedain. She has invested everything into him, sacrificing her own well-being and future so that he could fulfill his great purpose. This poignant statement reveals her profound personal sacrifice, leaving her with no hope remaining for her own life.\",\n",
       " \"The speaker explains that they are becoming less cynical, rather than more, as they get older. This change comes from reflecting on their own past mistakes and imperfections. They've realized that people's true intentions are often not as bad as their actions might suggest, and are very rarely as bad as the harsh words they sometimes say. Essentially, people's hearts are usually better than their deeds or their speech.\",\n",
       " 'This quote warns that the current location is incredibly dangerous, with no safe routes to be found. It emphasizes that the listener has now crossed into a wild, untamed territory, meaning they should be prepared for unpredictable and challenging experiences everywhere they go.',\n",
       " 'This quote means that while a person will always remember the sadness or pain they have experienced, this memory will not make them perpetually unhappy or bitter. Instead, facing and dealing with their grief will teach them important lessons and help them grow into a more insightful and understanding person.',\n",
       " 'This quote suggests that life is a continuous journey with no clear end in sight. Just like a road that stretches endlessly, our experiences and time keep moving forward, always bringing new challenges, opportunities, and paths to explore. It conveys the idea that life is an ongoing process that keeps unfolding, rather than reaching a final stop.',\n",
       " 'Frodo sailed on a ship far out into the open sea, heading west. One rainy night, he suddenly smelled a sweet scent and heard beautiful singing coming across the water. As if a curtain had opened, the rain seemed to clear, revealing a stunning sight: bright white shores and a distant green land, all bathed in the light of a swift sunrise.',\n",
       " 'The speaker feels that they are, in every meaningful way, just like a hobbit. They embody all the typical hobbit traits such as loving comfort, good food, a peaceful home life, and simple pleasures. The only difference between them and an actual hobbit is their physical height.',\n",
       " 'The speaker describes emerging from a period of doubt and darkness into a new day, filled with a sense of purpose and readiness for action. However, their journey was incredibly difficult, leading to the end of their hope and deep heartbreak. As a result, they are now consumed by anger and are prepared to bring about destruction and a violent, climactic end.',\n",
       " \"The quote suggests that life's journey or important challenges are unavoidable and incredibly difficult, and traditional strengths like physical power or intelligence won't guarantee success. Instead, anyone, regardless of whether they are perceived as weak or strong, has an equal chance of making progress. Ultimately, the actions that truly change the world are often carried out by ordinary people who act out of necessity, doing what needs to be done while those in positions of power are often looking elsewhere.\",\n",
       " 'This quote suggests that even after experiencing terrible destruction or despair, new life and hope will emerge. What was broken will be fixed and made strong again. Ultimately, it promises that someone who has lost their power or rightful place will rise up and reclaim their position.',\n",
       " \"This quote suggests that adventures and important stories don't truly end with just one person. Even when someone's part in a journey or task is finished, the story continues because someone else will always step up to carry it forward. It highlights the idea that significant quests and narratives are ongoing, passed from one individual to the next, rather than ever fully concluding.\",\n",
       " \"This quote, spoken by Samwise Gamgee to Frodo Baggins, means that while Sam cannot take on Frodo's ultimate burden or destiny (the One Ring) for him, he can provide unwavering physical and emotional support to help Frodo continue. It highlights the idea that even if you can't solve someone's main problem for them, you can still be there to literally or figuratively carry them through their struggles when they are at their absolute limit.\",\n",
       " 'The speaker, despite not looking old, deeply feels the effects of age within himself. He dismisses the idea of being \"well-preserved,\" instead describing himself as feeling thin and stretched, much like butter spread too thinly over too much bread. This vivid comparison illustrates that he feels depleted, worn out, and spread too thin. He believes this state isn\\'t right and urgently needs a significant change in his life.',\n",
       " 'This quote offers a comforting message to someone named Sam, who is feeling deeply sad and conflicted, as if pulled in different directions. It reassures Sam that this difficult state won\\'t last forever, and they will eventually need to become \"one and whole,\" finding inner peace and resolution. The message emphasizes that a hopeful future awaits, filled with many opportunities for enjoyment, personal growth, and meaningful activities, urging Sam to look forward to these possibilities rather than dwelling on current sorrow.',\n",
       " 'Gandalf expresses his deep admiration for Hobbits, calling them truly amazing creatures. He notes that while they seem simple enough to understand completely within a short time, they possess a surprising depth. Despite knowing them for a very long period, Hobbits still have the capacity to astonish and impress, especially when faced with a difficult or critical situation.',\n",
       " 'The speaker expresses deep frustration with the societal expectation that, as a woman, her only purpose is to remain confined to the house. She bitterly notes that women are seen as so expendable that, once men have died in battle, their only remaining role is to perish within that very house, which is no longer needed. However, she fiercely rejects this limited view, asserting her noble lineage and declaring that she is not merely a serving-woman. Instead, she emphasizes her skills as a rider and fighter, courageously stating that she fears neither pain nor death, proving herself capable of a much greater and more active part in the world.',\n",
       " 'The quote describes someone who often found themselves thinking about wild, untamed places, especially during the autumn season. These thoughts were so strong that they even led to vivid and unusual dreams about mountains he had never seen in real life, as if these unknown lands were calling to him.',\n",
       " 'The speaker feels they shouldn\\'t have started their current journey, wishing they had known more about it beforehand, but acknowledges that this is often how things happen. They used to believe adventures were exciting things people sought out for fun, but now realize that truly important tales are about people who simply find themselves unexpectedly landed in difficult situations. The key is that these people chose to keep going, even when they had chances to turn back, and that\\'s why their stories are remembered. Not all these tales end happily in the traditional sense, like coming home to everything perfectly fine; sometimes the best stories come from enduring hardship, even if the outcome isn\\'t conventionally \"good.\" The speaker then wonders what kind of challenging story they themselves are currently living.',\n",
       " \"This quote suggests that it's an interesting paradox: pleasant experiences and good times are often quickly told and don't make for very engaging stories. On the other hand, difficult, frightening, or even horrific events tend to make much more compelling tales that require a great deal of detail to tell and are more captivating to an audience. In short, bad experiences make for better stories than good ones.\",\n",
       " 'This quote describes an unstoppable force that gradually destroys everything in its path. It consumes all living things like birds, animals, trees, and flowers. It also wears down and breaks apart hard materials such as iron, steel, and even strong stones. Furthermore, it brings down powerful leaders and ruins entire cities. Finally, it can even erode and flatten immense mountains. Essentially, it depicts something that universally and inevitably demolishes all things, whether living, man-made, or natural.',\n",
       " 'This quote advises us to pay close attention to the stories and traditional wisdom passed down by older generations, even if they seem like simple \"old wives\\' tales\" often dismissed as unimportant. It suggests that these seemingly ordinary narratives might be the only remaining place where truly valuable knowledge, which wise people once knew and needed, is still remembered. Essentially, it\\'s a reminder not to overlook common or folk wisdom, as it can contain essential, forgotten truths.',\n",
       " \"This quote means that no matter how difficult or dark a situation may seem, it is only temporary. Just like a shadow eventually fades when the light returns, or night gives way to day, even the hardest times will eventually come to an end. It's a message of hope, reminding us that no matter what challenges we face, they are not permanent and will eventually pass.\",\n",
       " \"This quote is a heartfelt farewell to Gandalf. It expresses a deep wish that he will always appear whenever his help is most desperately needed. The speaker also hopes that Gandalf's arrival will consistently be a surprise, showing up precisely when he is least expected, often when hope might be fading.\",\n",
       " \"This quote means that as long as a person is alive, there's always a reason to hold onto hope for things to improve or for a better future. However, it also points out a practical and realistic truth: while hope is essential for the spirit, the body still has a fundamental and ongoing need for food to sustain that life.\",\n",
       " \"This quote explains that death is not the final end of our journey or existence. Instead, it's just another step or a new path that everyone must eventually take. It suggests that life, or our personal journey, continues in some form even after what we perceive as death.\",\n",
       " \"This quote is a strong warning to Bilbo, and to anyone, about the extreme foolishness of showing disrespect or amusement towards something truly powerful and dangerous, like a live dragon. It emphasizes that such fearsome creatures are not to be taken lightly, and mocking or laughing at them would be incredibly unwise and could lead to very serious, even deadly, consequences. Essentially, it's a reminder to always be cautious and respectful when facing a serious threat.\",\n",
       " 'The speaker explains that they talk aloud to themselves, a habit they attribute to older people. They humorously suggest that this is because older individuals, when speaking to themselves, are simply choosing to converse with the person they consider the wisest one present – which, in their own opinion, is themselves.',\n",
       " 'According to the Elves, water, more than any other substance on Earth, still carries the clearest echo of the original music that created the world. This is why many mortals are endlessly drawn to the sounds of the ocean, listening intently without realizing that they are unconsciously responding to that ancient song.',\n",
       " 'The speaker believed there is only one universal \"Road\" that everyone is on, comparing it to a great river that starts at every doorstep and is fed by every path. He often warned that simply stepping out of your door is a dangerous act. This is because once you step onto this \"Road\" – meaning you begin your life\\'s journey – you might lose your footing and be swept off to completely unknown places, highlighting the unpredictable nature of life and how even small beginnings can lead to vast, unforeseen consequences.',\n",
       " \"This quote means that even when life is difficult or the world seems dark, there are still positive, beautiful, and hopeful things that exist. It suggests that these good things—like kindness, love, beauty, or justice—are so valuable that they are worth defending, protecting, and striving for, even if it requires great effort or sacrifice. Essentially, it's a message of enduring hope and the importance of fighting for what is right and good, no matter the challenges.\",\n",
       " \"This quote describes a character who is humble yet boasts of his remarkable journey and abilities. He hails from a simple home under a hill, but his adventures have taken him far and wide, often unseen due to his stealth. He prides himself on being a clever 'clue-finder' and 'web-cutter,' chosen for a special task because of a 'lucky number.' He recounts a daring escape where he seemingly 'buried and drowned' his friends, only to bring them back to safety, referencing his famous 'barrel-riding' feat. His unusual allies include bears and eagles. Finally, he declares himself 'Ringwinner' and 'Luckwearer,' highlighting his acquisition of a powerful ring and his fortunate nature.\",\n",
       " 'This quote explains that the most meaningful stories are often filled with great darkness and danger, making it hard to imagine a happy ending or for things to ever be right again. However, these stories teach us that even the darkest times eventually pass, and brighter days will come. The characters in such tales, despite many chances to quit, persevere because they are holding onto the belief that good still exists in the world, and that good is always worth fighting for.',\n",
       " \"This quote describes how important facts and memories can be lost over time. What was once true history gradually turned into exaggerated legends, and then those legends eventually became ancient, mythical stories, far removed from the original truth. Because of this long process of forgetting, a significant object, like the ring mentioned, completely vanished from everyone's memory for thousands of years.\",\n",
       " 'This quote explains that Bilbo\\'s greatest act of courage wasn\\'t something grand he did later, but simply deciding to keep going when he wanted to stop, even before he knew what specific dangers lay ahead. It emphasizes that the most significant and difficult \"battle\" he fought was an internal one—overcoming his own fear and hesitation while alone in the tunnel—rather than fighting any visible external threats or monsters. The quote suggests that this inner struggle was more profound than all the famous adventures and dangers that came afterward.',\n",
       " 'The quote \"No Victory Without Suffering\" means that achieving true success or winning something important always involves facing challenges. It suggests that you cannot reach a significant goal without going through some kind of struggle, hardship, or making sacrifices. Essentially, it highlights that overcoming difficulties and enduring tough times are necessary parts of the journey to any meaningful accomplishment.',\n",
       " 'This quote suggests that \"Faërie,\" or the realm of magic and enchantment, is much broader than just a place for mythical creatures like elves, dragons, or giants. Instead, it encompasses all of existence: the vastness of the sun, moon, sky, and seas, as well as everything on Earth, from natural elements like trees and stones to simple, everyday items like wine and bread. Ultimately, the quote says that even ordinary people become a part of Faërie when they are touched by wonder or are themselves enchanted by something.',\n",
       " \"This quote explains that true value and strength aren't always obvious or flashy. It suggests that someone who seems to be taking an unconventional or undirected path isn't necessarily lost or without purpose. Instead, genuine strength and resilience come from deep, fundamental qualities, much like deep roots that are protected from superficial harm. These strong, enduring qualities will not fade or weaken over time, proving their worth beyond surface appearances.\",\n",
       " 'This quote shows someone politely but firmly refusing any kind of adventure, especially for today. However, they are still very friendly and immediately invite the person to come for tea at any time, even suggesting tomorrow, showing they prefer a quiet, social visit over any excitement.',\n",
       " 'This quote means that a world or situation that is perfectly safe, without any challenges or dangers, is not real. It suggests that any genuine reality, whether in life or a story, naturally includes difficulties, risks, and imperfections alongside the good things. If something is presented as completely flawless and risk-free, it\\'s not being honest about the true nature of existence. To be authentic, a place or experience must encompass a mix of both safety and potential hardship, because a purely \"safe fairyland\" doesn\\'t reflect the complex truth of life.',\n",
       " \"This quote expresses a deep sense of hopelessness and pessimism. It suggests that the current situation is so dire and beyond repair that there's no point in worrying or planning for the future. The speaker believes that tomorrow is so uncertain, or even unlikely to happen, that any concerns about it are completely pointless.\",\n",
       " \"This quote means that even people who seem unimportant, powerless, or without much influence can still make a significant difference in the world. It highlights that one's perceived size or status doesn't limit their ability to impact major events or shape what happens in the future. Essentially, it's a message of hope, suggesting that anyone, no matter how small they appear, has the potential to change destiny.\",\n",
       " 'This quote means that having hopes that are based on unrealistic ideas or are unlikely to come true can be more harmful than simply being afraid. While fear might make us cautious or even stop us from acting, it often keeps us aware of potential dangers. False hope, however, can lead us down the wrong path, causing us to waste time, effort, and resources on something that will ultimately fail. It prevents us from facing reality and making sound decisions, often leading to deeper disappointment and worse consequences than if we had just accepted the truth from the beginning.',\n",
       " 'A character, overwhelmed with relief and confusion, expresses their shock at seeing Gandalf alive, having thought him dead and even themselves near death. They then ask if all the sadness in the world will finally end and what has happened. Gandalf replies that a \"great Shadow has departed,\" signaling a major victory or the end of a dark era. He then laughs, a sound so pure and joyful it\\'s compared to music or water in a dry land, making the listener realize how long it has been since they heard true merriment.',\n",
       " \"This quote means that it is perfectly acceptable and even good to appreciate and find joy in a life that is uncomplicated and modest. It suggests that there's nothing wrong with being content with basic things, rather than constantly seeking more material possessions or complex achievements. Essentially, it encourages us to celebrate and value simplicity, finding happiness in what we have rather than feeling like we're missing out on something grander.\",\n",
       " \"This quote means that it's very dangerous to learn too much about your enemy's ways or strategies. The risk isn't only if you have bad intentions; even if you study them to understand and defeat them, there's a strong possibility you could become influenced, corrupted, or even start to resemble what you're fighting against.\",\n",
       " \"The quote explains that while some might think it a shame Bilbo didn't kill Gollum, it was actually pity and mercy that prevented him from doing so, as he chose not to strike without necessity. This act of compassion was ultimately a benefit to Bilbo; because he began his ownership of the Ring with such kindness, he was less harmed by its evil influence and was eventually able to escape its power.\",\n",
       " 'This quote means that a path or opportunity is completely blocked and inaccessible. This closure was put in place by people from the past, who are now gone, and their lasting influence or the systems they created continue to maintain this barrier. It will remain shut until some future, unspecified time arrives, emphasizing that for now, there is absolutely no way forward.',\n",
       " 'Frodo expresses his intense dislike for their current surroundings, feeling everything is cursed. Sam agrees, wishing they had known the difficulties before they started their journey. He then reflects that while he once thought heroes in old tales sought adventures for excitement, he now understands that people are often simply thrust into them by fate. Sam notes that the true heroes are those who, despite chances to turn back, choose to continue, even if their story doesn\\'t end with a simple \"happily ever after.\" Both wonder what kind of tale they are in, with Frodo concluding that in a real story, the characters themselves don\\'t know their ultimate outcome, and that\\'s precisely how it should be.',\n",
       " \"This quote means that intelligent and sensible people are careful with their words. They only speak about subjects they truly understand, have experience with, or are certain about. In essence, wise individuals avoid talking about things they don't know, choosing instead to remain silent rather than guessing or pretending to be experts.\",\n",
       " \"The speaker assures Frodo of their unwavering loyalty, promising to stick with him through any difficulty until the very end. They also vow to keep any of his secrets even more securely than he could himself. However, they emphasize that Frodo cannot expect them to let him face trouble by himself and abandon him. Despite being horribly afraid and knowing the dangers of the Ring, they declare themselves Frodo's true friends and are absolutely determined to accompany him on his journey, even if it means following closely behind.\",\n",
       " \"The speaker advises against being too quick to condemn others to death, explaining that we don't truly know who deserves what, nor can we see how our actions might affect the future. Using Gollum as an example, he suggests that even someone who seems to deserve death might still have an important, unforeseen part to play. He believes that Bilbo's act of mercy in sparing Gollum's life, despite his wretchedness, could ultimately determine the fate of many, including the listener's own, proving that compassion can have vital and unexpected consequences.\",\n",
       " 'Even someone who is constantly in danger or on the run, always needing to be suspicious of everyone around them, eventually gets tired of that lonely and watchful life. This never-ending distrust is exhausting. Despite their difficult circumstances, they deeply desire to have a friend—someone they can truly trust and connect with, rather than always being on guard.',\n",
       " 'This quote suggests that truly moving on from a difficult situation or loss isn\\'t just about knowing intellectually that it\\'s over. Instead, it happens when your emotions and deepest self (\"your heart\") fully accept the reality that the past cannot be changed, and there\\'s no way to go back to how things were. It means letting go of any hope for reversal and embracing the finality of the situation.',\n",
       " \"This quote suggests that life is full of unpredictable events and surprising turns. It means that help often comes from the most unlikely sources – from people who might seem weak or insignificant. This is especially true when those who are typically considered wise, knowledgeable, or powerful are struggling, make mistakes, or don't know the best way forward.\",\n",
       " 'This quote describes something that is utterly helpless and unable to effectively express itself or act. It tries to cry out its pain but has no voice, struggles to move or escape but lacks the means, attempts to defend itself but has no power, and tries to communicate its thoughts but cannot form clear words. Essentially, it depicts a deep sense of frustration and incapacity, where desires and efforts are constantly thwarted by a fundamental lack of ability or means.',\n",
       " 'This passage describes a tense confrontation where someone, later revealed to be Dernhelm, bravely challenges a terrifying creature, a Nazgûl, telling it to leave the dead in peace. The Nazgûl responds with a chilling threat, warning that if Dernhelm interferes, they will be taken to a horrible place of torment, their body devoured, and mind exposed to a terrible evil. Despite this dire warning, Dernhelm defiantly draws a sword, vowing to stop the creature. The Nazgûl scoffs, boasting that no living man can hinder it. However, Dernhelm delivers a shocking and powerful retort, revealing, \"But no living man am I!\", implying they are not a man and thus capable of defying the Nazgûl\\'s supposed invincibility.',\n",
       " \"This quote expresses a strong determination to always move forward in life. It means the person refuses to return to old problems, past mistakes, or negative situations they have already overcome. Instead of dwelling on what's behind them or losing the progress they've made, they are committed to learning, growing, and continuously advancing towards a better future.\",\n",
       " 'The poem tells the story of Beren, a sorrowful man, who stumbled upon the beautiful Elven maiden, Tinuviel, dancing in a moonlit forest glade. He was instantly enchanted by her grace and the starlight in her hair, but she fled, leaving him to wander and search for her through the changing seasons. Despite the harsh winter, he never gave up, and when spring returned, she reappeared. He finally called her name, and she paused, drawn to him, and they embraced, sealing a powerful connection. Their love set them on a long and difficult journey, facing many challenges and separations. Yet, despite all obstacles, they eventually reunited and lived out their days together, finding peace and happiness in the forest before they passed away.',\n",
       " \"The speaker strongly dislikes allegory—stories that have a hidden, intended meaning—and has felt this way since becoming wise enough to recognize them. They much prefer history, whether true or fictional, because readers can apply its lessons and insights to their own lives in many different ways. The speaker believes people often confuse a story's general usefulness with it being an allegory. However, they clarify that a story's true applicability comes from the reader's freedom to interpret it, while allegory is the author's deliberate attempt to control or dictate the reader's understanding.\",\n",
       " \"This quote suggests that for certain situations, it is more advisable or even necessary to begin something, rather than avoiding it, even if you are uncertain about the outcome or if the future looks challenging and potentially negative. It implies that the act of starting, despite the risks, can be more valuable than refusing to try, even if the end result isn't guaranteed to be good.\",\n",
       " 'This quote means the speaker is saying goodbye to their current situation, which might be difficult or dark. They are setting off on a journey to find something profoundly positive and essential, symbolized by \"the Sun.\" This \"Sun\" represents a search for happiness, hope, enlightenment, or a much better future, leaving behind whatever was unfulfilling or challenging.',\n",
       " 'Sam witnessed his first battle between people and found it deeply disturbing. He was relieved not to see the faces of the dead, but instead of seeing an enemy, he wondered about the person who had died. He thought about their name, where they came from, and whether they were truly evil, or if they had been tricked or forced into fighting far from their home. Ultimately, Sam wondered if the fallen man, like anyone, would have simply preferred to stay home in peace.',\n",
       " \"Éowyn openly admits her deep desire for love and companionship from another person. However, she strongly emphasizes that while she longs for this emotional connection, she absolutely does not want pity. She doesn't want anyone to feel sorry for her or view her with condescension, even in her vulnerable moments. Instead, she wants to be loved and valued for who she is, not to be seen as weak or an object of sympathy. Her statement reveals a blend of vulnerability in her longing for love and fierce self-respect in her refusal to be seen as anything less than strong and dignified.\",\n",
       " 'The terrifying Lord of the Nazgûl rode into the city, appearing as a vast, despair-inducing shadow that made everyone flee in terror. Only Gandalf remained, sitting unmoving on his horse, Shadowfax, bravely confronting the dark Lord and ordering him to return to the abyss. The Nazgûl Lord, boasting that he was Death itself, prepared to strike Gandalf down with his flaming sword. But just as he was about to attack, a cock crowed, signaling the coming dawn and hope, and then the distant sound of horns announced the long-awaited arrival of Rohan, breaking the spell of fear and despair.',\n",
       " \"This quote means that every person or thing has its own unique value and importance. But it goes beyond that, suggesting that this individual worth isn't isolated. Instead, each one's unique qualities, skills, or contributions actively add to and enhance the value of everyone else, making the entire group or community stronger and more valuable as a whole.\",\n",
       " 'This quote is a riddle that describes something which holds a valuable item, yet isn\\'t a typical container you can open. It talks about a \"box\" that doesn\\'t have hinges, a key, or a lid, meaning it can\\'t be opened in the usual way. Despite these missing parts, it still contains something very precious and valuable, referred to as \"golden treasure.\" Essentially, it describes an object that looks simple on the outside but hides something wonderful within, without needing any mechanical means to access it.',\n",
       " \"This quote explains that when facing challenging times, the way a person determines what is right or wrong remains the same as it always has. Aragorn emphasizes that the fundamental concepts of good and evil are unchanging and universal; they don't differ across time, races, or places. Therefore, it is always a person's duty to figure out what is morally right, regardless of whether they are in an unfamiliar, magical setting or in the comfort of their own home.\",\n",
       " 'This quote means that people who are deceitful, disloyal, or quick to betray others are also the ones who are constantly suspicious and distrustful of everyone else. They tend to project their own untrustworthy nature onto others, assuming that if they themselves are willing to be disloyal, then others must be too. In short, those who are not to be trusted are often the very ones who find it hardest to trust anyone.',\n",
       " 'This quote describes the immense and sinister power of the One Ring. It explains that the Ring is meant to control everyone, locate them wherever they are, and then gather them all together. Ultimately, its purpose is to enslave and dominate them under a dark and evil influence, leaving them no freedom.',\n",
       " 'In this quote, Aragorn, also known as Strider, is revealing his true identity to someone. He assures them that he is the genuine article, Aragorn son of Arathorn, and not some imposter. He then makes a powerful vow, promising that he will go to any lengths, even risking his own life, to protect and save the person he is speaking to.',\n",
       " 'This poetic riddle describes something that seems alive and constantly active, yet it lacks breath and can be as cold and unfeeling as death itself. It\\'s something that continuously takes in liquid, like \"drinking,\" but it never feels thirst or needs to drink for survival. Lastly, it has a textured, shimmering appearance, perhaps like the linked pattern of chainmail, but it makes no sound, unlike actual metal armor. The lines together paint a picture of a natural phenomenon, likely a waterfall or flowing water, emphasizing its paradoxical qualities.',\n",
       " 'This poem begins by describing the vibrant beauty of the natural world, from flowers blooming in spring and birds singing, to the quiet majesty of stars at night. However, the speaker then reveals they are at their \"journey\\'s end,\" lying in darkness, which symbolizes death. Despite this final state, they firmly believe that the Sun and Stars continue to exist eternally, far beyond all earthly things. Therefore, the speaker refuses to say that life is completely over or to bid farewell to the everlasting stars, expressing a hopeful belief in something continuous beyond physical death.',\n",
       " \"The speaker, wanting some peace and quiet, asked to be left alone while eating. They explained that they didn't want to answer a lot of questions because they needed time to think. Pippin was surprised by this request for deep contemplation, especially since it was happening right at breakfast.\",\n",
       " \"This quote means that everything we create or produce is deeply influenced by what we care about and love. It suggests that when we make something, we don't just use our skills; we also pour our feelings, passions, and the essence of what we cherish into it. Our creations, therefore, become a reflection of our deepest affections and values.\",\n",
       " \"The speaker is extremely angry and frustrated with Took, calling him foolish. They are annoyed because Took isn't taking their serious journey seriously, treating it like a casual walk rather than an important and dangerous undertaking. Out of sheer exasperation, the speaker harshly suggests that Took should just get himself out of the way or disappear, implying they wish he would stop being a nuisance.\",\n",
       " 'Frodo expresses his deep despair, feeling utterly unable to continue their difficult journey. Sam acknowledges his friend\\'s feelings, agreeing that their situation is terrible and feels wrong. However, he then encourages Frodo by comparing their plight to the \"great stories\" of old. He explains that even in those tales, full of darkness and danger, the shadow eventually passed, and a new, brighter day always came. Sam emphasizes that the heroes in these stories kept going, even when they had chances to turn back, because they were holding onto something precious. When Frodo asks what they are holding onto, Sam reveals it\\'s the belief that there is still good in the world, and that good is worth fighting for.',\n",
       " \"This quote suggests that things with a strong, deep foundation or inner strength are not easily affected by superficial or temporary problems. Just as a plant's deep roots are protected from the damaging frost that only touches the surface, people or ideas with well-established core values, character, or fundamental principles can withstand challenges, difficulties, and external pressures without being truly harmed. It means that genuine resilience and stability come from within and can endure through adversity.\",\n",
       " 'This quote describes a polite farewell exchange. The eagles say goodbye by wishing someone a safe journey until they return to their homes (eyries). Gandalf, understanding the proper etiquette for eagles, replies with an equally poetic wish: that strong winds carry them far and wide through the skies, day and night.',\n",
       " 'This is Sam urgently calling out to Mr. Frodo, pleading with him not to be left alone or go somewhere Sam cannot follow. He expresses deep loyalty and fear of separation, desperately urging Frodo to wake up, implying Frodo might be unconscious or in danger.',\n",
       " 'This quote is an urgent and powerful call to action for the Riders of Théoden. It commands them to awaken immediately and prepare for a brutal battle, where evil deeds, fire, and slaughter will dominate. It emphasizes that this will be a day of fierce combat, with spears clashing and shields breaking, a bloody \"sword-day\" that will unfold before the sun even rises. The final, desperate command is to ride without delay towards Gondor.',\n",
       " \"This quote means that if you want to find something, the most effective and essential thing you can do is to actively look for it. It highlights the simple truth that you won't discover what you're seeking by accident or by waiting; instead, direct observation and a deliberate search are the best and only reliable methods.\",\n",
       " \"Fairy tales offer a special kind of joy and comfort, not just from a simple happy ending, but from a sudden, miraculous turn for the better in the story. This joy isn't about escaping reality; instead, it's a rare and unexpected gift. While fairy tales don't ignore sadness or failure, they show that the possibility of these hardships makes the eventual triumph or deliverance even more meaningful. What they truly deny is the idea that everything will ultimately end in defeat. Because of this, fairy tales act like good news, providing a powerful, fleeting glimpse of a profound joy that exists beyond our ordinary world, a feeling as deep and impactful as grief itself.\",\n",
       " 'This quote means that the world is truly full of dangers and risks. It also highlights that there are many difficult, unpleasant, or even evil aspects within it, representing hidden threats, suffering, or challenging situations we might face.',\n",
       " \"This quote suggests that true education is not a goal you reach and then stop learning. Instead, it's a continuous, lifelong process, much like a story that never ends. It means always being open to new beginnings, regularly making fresh starts with new topics or challenges, and persistently encountering and embracing new ideas and knowledge throughout your life.\",\n",
       " 'Many ancient stories from dark times tell of sorrow and destruction. However, among these sad tales, there are a few that also contain joy amidst the tears, and enduring hope even in the face of death. Of all these special histories, the Elves still consider the tale of Beren and Lúthien to be the most beautiful and cherished.',\n",
       " 'This quote suggests that no one truly knew the deep, private thoughts and feelings she expressed when she was all alone in the dark, during the difficult and lonely hours of the night. At these times, her life felt like it was getting smaller and more confined, as if the very walls of her home were closing in around her, making her feel like a wild animal trapped in a small, suffocating cage.',\n",
       " \"This quote means that the person speaking experienced an extremely uncomfortable and embarrassing day on a specific Wednesday. It wasn't just a little awkward; it was the most socially difficult, strange, or cringeworthy situation they had ever encountered in their entire life, making that particular Wednesday stand out as uniquely unpleasant and memorable for all the wrong reasons.\",\n",
       " \"This quote explores the profound difficulty of trying to rebuild one's life after a deeply painful or life-altering experience. It questions how a person can possibly move forward when they've come to the heartbreaking realization that the past is truly gone and there's no way to return to how things once were. The speaker emphasizes that some emotional wounds are so severe and lasting that time, often thought to heal all, simply cannot repair them, leaving permanent scars that make it impossible to fully pick up the pieces of an old life.\",\n",
       " \"This quote suggests a place or situation where the usual experience of time passing, moving forward, or changing simply doesn't happen. Instead of feeling the flow of hours, days, or seasons, time just exists as a static, unchanging presence. It implies a sense of an eternal present, where nothing progresses or develops, and everything simply remains as it is.\",\n",
       " \"The quote describes an overwhelming and indescribable anger, comparing it to the kind of rage only seen in very wealthy people. This intense fury arises when these rich individuals, who already possess more than they could ever use or enjoy, suddenly lose something they've owned for a long time, even if they never previously used, wanted, or valued it. It highlights the surprising depth of anger that can stem from the loss of something truly insignificant to someone who has everything.\",\n",
       " 'This quote means that even if you strongly dislike something that is associated with the speaker or that the speaker has chosen to tolerate or live with, you should still refrain from harming or interfering with it. It suggests that while the speaker acknowledges the problematic nature of something, they prefer that others do not actively undermine or destroy it, perhaps because they have a reason for its continued existence or simply wish to manage it themselves.',\n",
       " 'This quote offers advice on how to approach a difficult or risky situation. It suggests that when you face danger or challenges, you should indeed move \"towards\" them, meaning you shouldn\\'t shy away. However, it\\'s crucial to do so with caution and thought (\"not too rashly\"), rather than impulsively. Additionally, you shouldn\\'t confront the problem \"too straight\" or directly, implying that a more strategic, indirect, or flexible approach might be more effective than a blunt, head-on attack.',\n",
       " \"This quote describes a new day beginning with the sun appearing red, which is a stark symbol directly reflecting the violence and death that occurred during the night. Essentially, it means that a new day is dawning, but it's overshadowed and marked by the bloodshed and tragedy of the previous night. The red sun serves as a grim reminder or a visual representation of the violence that has just taken place.\",\n",
       " 'This quote means that adventures are not always easy, pleasant, or carefree experiences, as a \"pony-ride in May-sunshine\" might suggest. Instead, it highlights that real adventures often involve challenges, difficulties, and unpredictable situations. They aren\\'t just about fun and good times; they also require facing obstacles and enduring less comfortable or even tough moments.',\n",
       " \"This quote means that the true value or bravery of an action doesn't depend on whether other people praise or acknowledge it. A courageous deed remains just as valuable and heroic, even if no one notices it or gives you credit. Its importance comes from the act itself, not from any applause or recognition it receives.\",\n",
       " \"This quote explores the profound difficulty of moving forward in life when you realize that a significant event or loss is permanent and cannot be undone. It suggests that some emotional wounds or deep hurts are so severe that even the passage of time cannot heal them. Essentially, it highlights the feeling of being stuck with an irreparable situation, making it incredibly challenging to continue living when there's no hope of returning to how things once were.\",\n",
       " 'This quote means that when you are facing a major, impending crisis or difficult time (the \"storm\"), your most vital protection and way to get through it will be your bravery and inner strength. In addition to that courage, the speaker also emphasizes that the hope they are bringing or offering will be an equally important resource to help you withstand the challenges ahead.',\n",
       " \"The speaker is telling Mr. Baggins not to doubt the prophecies, especially since he himself helped make them come true. They want him to understand that his adventures and lucky escapes weren't just random good fortune meant only for him, but were part of a much larger plan or destiny. While the speaker acknowledges that Mr. Baggins is a good and well-liked person, they remind him that he is still just a small individual in a very big world, implying his actions have a greater purpose beyond himself.\",\n",
       " 'This quote expresses a deep yearning to leave the current world and embark on a final journey across the sea. The speaker feels that their time, and the time of their people, is drawing to a close in their present land. They are called by the voices of their ancestors and intend to sail westward on a lonely voyage to a distant, hidden, and eternal homeland called Eressea or Elvenhome. This destination is envisioned as a place where leaves never fall, a permanent and peaceful refuge meant for their people forever.',\n",
       " 'This quote suggests that brave characters in inspiring stories often had opportunities to give up and turn back from their difficult journeys, but they chose not to. They kept going forward because they held onto a powerful belief: that despite all the hardships, there is still some good left in the world. This good, no matter how seemingly small, is so incredibly valuable that it is worth fighting for, enduring struggles, and making sacrifices to protect it.',\n",
       " \"This quote expresses a hopeful wish that the story of Frodo and the Ring will become a timeless, beloved tale passed down through generations. The speaker imagines a future where people fondly recall Frodo's great courage, with a father teaching his son about how Frodo became the most famous and significant hobbit of all time due to his brave actions.\",\n",
       " \"This quote, spoken by Arwen, Elrond's daughter, reveals her momentous decision. She declares that she will not join her father and the other Elves in their journey to the immortal lands, choosing instead to remain in Middle-earth. She compares her choice to that of Luthien, an ancient Elven princess who famously chose mortality for love. Arwen understands that this path, while bringing her happiness (presumably with Aragorn), also means embracing a finite, human life, and she is prepared to face both the joys and the sorrows that come with it.\",\n",
       " \"Frodo initially regrets that Bilbo didn't kill Gollum, believing it would have prevented their current troubles. However, Gandalf challenges this view, emphasizing that it's wrong to be too quick to judge who deserves death, as even the wise can't see how things will unfold. He suggests that Bilbo's act of pity towards Gollum might play a crucial role in future events. When Frodo wishes he never had the Ring, Gandalf acknowledges that many feel this way in difficult times, but reminds him that their only choice is what to do with the time they are given. He concludes by suggesting that Bilbo finding the Ring and Frodo inheriting it was not by chance, but part of a larger, perhaps even encouraging, destiny.\",\n",
       " \"Frodo tells Sam that accompanying him would surely lead to Sam's death, which Frodo couldn't bear. However, Sam counters that being left behind would be an even worse fate for him. When Frodo emphasizes that he is going to the dangerous land of Mordor, Sam acknowledges the peril but firmly states his unwavering intention to go with him anyway.\",\n",
       " 'This quote means that trolls intensely dislike dwarves, to the point where they can\\'t even stand to look at them. The humorous (and somewhat sinister) detail of \"uncooked\" implies that trolls might actually view dwarves as a food source, suggesting their strong aversion is specifically to raw dwarves, perhaps preferring them cooked.',\n",
       " 'This quote means that nothing truly ends with one person. Whether it\\'s our lives, our projects, our ideas, or even a literal narrative, the \"story\" will always be continued by others. It highlights that we are all just temporary participants in a larger, ongoing journey, and eventually, someone else will always pick up the thread and keep things moving forward, long after our own part is done.',\n",
       " 'This quote means that dragons are incredibly drawn to complex, puzzling, or mysterious language. They find such talk so fascinating that they cannot resist trying to figure out its meaning, even if it means spending a lot of time and effort on it that could be used for other things. Essentially, intellectual challenges, especially riddles, are an irresistible distraction for them.',\n",
       " 'This quote suggests that if people prioritized simple joys like good food, happiness, and music over just accumulating wealth, the world would be a much happier place. It argues that focusing on joy, community, and shared experiences rather than just material possessions would lead to a more joyful and pleasant society for everyone.',\n",
       " 'This quote means that someone is committing to take on a very difficult and important task, symbolized by \"the Ring.\" Even though they don\\'t have a clear plan, know what challenges they will face, or how they will ultimately succeed, they are still determined to accept the responsibility and move forward. It shows a courageous resolve to embrace a daunting challenge despite uncertainty.',\n",
       " 'This quote advises us to stop worrying or thinking too much about what the future holds, as those days are unknown and beyond our control. Instead of being anxious about tomorrow, it encourages us to fully appreciate and live in the present moment. It emphasizes that today, with all its experiences and possibilities, is completely sufficient and valuable, providing everything we truly need.',\n",
       " \"This quote means that a supreme being is telling someone named Melkor that everything created ultimately comes from this being. No one can truly change or go against this being's plans. In fact, if someone tries to rebel or alter things, their actions will only end up serving the supreme being's larger purpose, resulting in the creation of even more wonderful things that the rebel couldn't have imagined.\",\n",
       " 'Bilbo, feeling old and that his time in Middle-earth is coming to an end, is preparing for a final journey. He bids a heartfelt farewell to his friends as he embarks on a ship, sailing westwards beyond the sunset and the familiar world. He anticipates finding peaceful, blessed lands there, described as a place of rest and beauty, like islands beyond the sun and beaches of a starlit sea. With a guiding star above his mast, he leaves Middle-earth behind, seeking a final, tranquil haven.',\n",
       " \"This quote suggests that if you put in the effort to look for something or work towards a goal, you will usually find *some* kind of result or outcome. However, it also highlights that what you discover or achieve might not be exactly what you initially wanted or expected. In essence, effort often leads to a result, but that result isn't always precisely what you were hoping for.\",\n",
       " \"Frodo found Aragorn lost in a deep, beautiful memory at a special place. Aragorn looked young and peaceful, holding a golden flower, as he fondly remembered his beloved Arwen and the time they had spent together there, even speaking her name in the Elvish tongue. He explained to Frodo that this location was the very heart of the Elves' land, and where his own heart would always dwell. Then, taking Frodo's hand, Aragorn left the place, knowing he would never return to it alive.\",\n",
       " 'This quote expresses a deep sense of loss and the unstoppable passage of time. The speaker laments how things that were once vibrant and present—like a horse, its rider, or a blowing horn—have completely disappeared, vanishing as fleetingly and trace-lessly as rain on a mountain or wind in a meadow. It conveys a feeling that time, like the sun setting and casting shadows, has brought everything to an end, leaving the speaker to wonder with bewilderment how such a profound absence came to be.',\n",
       " 'The quote suggests that even valuable and intelligent criticism can hinder a writer, especially when they are trying to express something deeply personal and authentic. It uses the analogy of a tightrope walker: while practice is necessary, over-analyzing the mechanics of balance (creating a \"theory of equilibrium\") will make them lose their natural grace and likely fall. In the same way, a writer who focuses too much on external judgment or intellectual analysis might lose their natural flow and ability to convey their true thoughts and feelings.',\n",
       " 'This quote describes a situation where someone tries to escape one problem or danger, only to immediately find themselves in another, often just as bad or worse. The phrase \"Escaping goblins to be caught by wolves!\" became a well-known proverb to express this misfortune. Today, we use a similar saying, \"out of the frying-pan into the fire,\" to describe these kinds of unfortunate circumstances where moving away from one bad situation leads directly into another.',\n",
       " 'The speaker longs to see mountains again and then find a quiet, peaceful place to settle down. He desires a sanctuary free from the constant intrusion of prying relatives and bothersome visitors. His ultimate wish is to find a serene spot where he can finally finish writing his book, hoping his own life can conclude as simply and happily as the ending he has planned for his story: \"and he lived happily ever after to the end of his days.\"',\n",
       " \"The speaker explains that they won't reveal their name immediately because it's not a simple word. Their name is like a long story that is always growing, reflecting their incredibly long life. In their language, called Old Entish, names aren't just labels; they tell the complete history or story of a person or thing. This language is also very slow and takes a long time to speak, as they only say things that are truly important and worth the effort of both speaking and listening.\",\n",
       " 'This quote advises Éowyn not to reject or look down on the feeling of pity. While pity can sometimes feel like an insult or make you feel weak, the speaker emphasizes that when it comes from a \"gentle heart,\" it\\'s actually a genuine gift. It means someone cares deeply about your suffering and is offering compassion and kindness, rather than judgment or a sense of superiority.',\n",
       " \"The quote explains that while hobbits aren't usually fierce like dragons, Bullroarer Took was an exception. He was unusually large for a hobbit and even rode a horse into battle. During the Battle of the Green Fields, he charged the goblin ranks and knocked off their king Golfimbul's head with a wooden club. The head flew a hundred yards and landed in a rabbit hole, an act that not only won the battle but also supposedly invented the game of Golf.\",\n",
       " 'This quote expresses a powerful message of enduring hope and resilience. It suggests that no matter how dark or difficult things seem (\"all shadows\"), light and goodness (\"the Sun and Stars\") will always return or remain present. Because of this eternal presence of light and hope, the speaker refuses to declare defeat or give up on better times (\"not say the Day is done, nor bid the Stars farewell\"). It\\'s a statement about never losing faith, even in the bleakest moments, because hope and light are always there.',\n",
       " 'This quote shows a speaker, likely Gollum, intensely questioning the qualities of something they are about to eat. They are eager to know if it is delicious, moist, and has a satisfying, crunchy texture. The questions reveal a strong, almost obsessive desire and anticipation for the item, focusing on its sensory appeal.',\n",
       " 'This conversation explores different views on story endings. One person has only imagined dark and unpleasant conclusions for a story, but the other strongly disagrees, believing that books should always have good, happy endings. They suggest the classic \"happily ever after\" scenario. However, the first person is skeptical, doubting if such an ideal outcome would ever actually occur. This prompts the second person to then wonder about practical details, like where the characters would live after their happy ending.',\n",
       " 'This quote suggests that listening to Elvish singing is a truly special and memorable experience, especially when it happens in June under the night sky. It emphasizes that anyone who appreciates beautiful, magical, or wondrous things should definitely not miss the chance to hear it.',\n",
       " 'This story is about a character named Baggins who goes on an unexpected adventure. During this journey, he finds himself doing and saying things that are completely out of character for him, surprising even himself with his own courage and actions.',\n",
       " \"This quote means that the most valuable and satisfying kind of praise comes from someone who is themselves accomplished, knowledgeable, or highly respected. When someone whose judgment you truly admire and trust gives you a compliment, it feels more significant and rewarding than any material prize, money, or general applause. It's a deep validation because it comes from a person who understands what excellence entails and doesn't give out praise lightly.\",\n",
       " \"This quote explains that the Ents' language, Old Entish, is spoken incredibly slowly, taking a very long time to say even simple things. However, the Ents only choose to speak when what they have to say is truly important and significant enough to warrant such a lengthy and deliberate process. Therefore, when an Ent speaks, their words are always weighty, meaningful, and never trivial.\",\n",
       " 'In this conversation, Sam wonders aloud if their epic journey will ever become a famous story, envisioning people praising Frodo\\'s courage. Frodo, however, quickly corrects him, insisting that Sam himself, whom he calls \"Samwise the Brave,\" is an equally crucial character and that he wouldn\\'t have gotten far without him. Sam initially thinks Frodo is joking, but Frodo assures him he\\'s serious, leaving Sam to ponder the idea of his own bravery.',\n",
       " 'A man warns of a future battle so terrible that no one will return, emphasizing that true bravery will be needed even if no one remembers the deeds, as they are still heroic. However, a woman sharply retorts, feeling he is dismissing her as just a housewife. She asserts her noble lineage and ability to fight, declaring she fears neither pain nor death. When asked what she *does* fear, she reveals her greatest dread is to be confined, like in a cage, unable to achieve great things before old age sets in.']"
      ]
     },
     "execution_count": 90,
     "metadata": {},
     "output_type": "execute_result"
    }
   ],
   "execution_count": 90
  },
  {
   "metadata": {
    "ExecuteTime": {
     "end_time": "2025-07-16T11:47:10.130990Z",
     "start_time": "2025-07-16T11:47:10.125029Z"
    }
   },
   "cell_type": "code",
   "source": "type(quotes), type(quotes[0]), type(summaries)",
   "id": "7149fabd7ac6ffd7",
   "outputs": [
    {
     "data": {
      "text/plain": [
       "(pandas.core.frame.DataFrame, pandas.core.series.Series, list)"
      ]
     },
     "execution_count": 89,
     "metadata": {},
     "output_type": "execute_result"
    }
   ],
   "execution_count": 89
  },
  {
   "metadata": {
    "ExecuteTime": {
     "end_time": "2025-07-16T11:49:53.814668Z",
     "start_time": "2025-07-16T11:49:53.808553Z"
    }
   },
   "cell_type": "code",
   "source": "summaries[0]",
   "id": "1b3b8537d780efd4",
   "outputs": [
    {
     "data": {
      "text/plain": [
       "\"The speaker is telling a group of people that he hasn't gotten to know many of them as well as he would have liked. He then adds, somewhat humbly, that there are others in the group whom he doesn't appreciate or like as much as they genuinely deserve, suggesting that his own feelings fall short of their actual good qualities.\""
      ]
     },
     "execution_count": 91,
     "metadata": {},
     "output_type": "execute_result"
    }
   ],
   "execution_count": 91
  },
  {
   "metadata": {
    "ExecuteTime": {
     "end_time": "2025-07-16T11:50:12.371575Z",
     "start_time": "2025-07-16T11:50:12.365988Z"
    }
   },
   "cell_type": "code",
   "source": [
    "# quote and summary mismatch\n",
    "quotes[0][0][\"quote\"], summaries[0]"
   ],
   "id": "13510c0d4ab7f163",
   "outputs": [
    {
     "data": {
      "text/plain": [
       "('All that is gold does not glitter,\\nNot all those who wander are lost;\\nThe old that is strong does not wither,\\nDeep roots are not reached by the frost.\\n\\nFrom the ashes a fire shall be woken,\\nA light from the shadows shall spring;\\nRenewed shall be blade that was broken,\\nThe crownless again shall be king.\\n',\n",
       " \"The speaker is telling a group of people that he hasn't gotten to know many of them as well as he would have liked. He then adds, somewhat humbly, that there are others in the group whom he doesn't appreciate or like as much as they genuinely deserve, suggesting that his own feelings fall short of their actual good qualities.\")"
      ]
     },
     "execution_count": 94,
     "metadata": {},
     "output_type": "execute_result"
    }
   ],
   "execution_count": 94
  },
  {
   "metadata": {
    "ExecuteTime": {
     "end_time": "2025-07-16T11:26:20.196823Z",
     "start_time": "2025-07-16T11:26:20.191969Z"
    }
   },
   "cell_type": "code",
   "outputs": [],
   "execution_count": 34,
   "source": "os.mkdir(\"summaries\")",
   "id": "f13e5e7ef5c7a476"
  }
 ],
 "metadata": {
  "kernelspec": {
   "display_name": "Python 3",
   "language": "python",
   "name": "python3"
  },
  "language_info": {
   "codemirror_mode": {
    "name": "ipython",
    "version": 2
   },
   "file_extension": ".py",
   "mimetype": "text/x-python",
   "name": "python",
   "nbconvert_exporter": "python",
   "pygments_lexer": "ipython2",
   "version": "2.7.6"
  }
 },
 "nbformat": 4,
 "nbformat_minor": 5
}
