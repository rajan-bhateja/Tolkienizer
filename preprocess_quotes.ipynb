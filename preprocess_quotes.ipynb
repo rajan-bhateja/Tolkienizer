{
 "cells": [
  {
   "metadata": {
    "ExecuteTime": {
     "end_time": "2025-07-15T18:17:46.464674Z",
     "start_time": "2025-07-15T18:17:40.507281Z"
    }
   },
   "cell_type": "code",
   "source": [
    "from langchain_google_genai.llms import GoogleGenerativeAI\n",
    "from langchain_core.prompts import PromptTemplate\n",
    "\n",
    "import pandas as pd\n",
    "\n",
    "from dotenv import load_dotenv\n",
    "\n",
    "from IPython.display import display, Markdown"
   ],
   "id": "2a73604b5551486b",
   "outputs": [],
   "execution_count": 1
  },
  {
   "metadata": {
    "ExecuteTime": {
     "end_time": "2025-07-15T18:17:46.952938Z",
     "start_time": "2025-07-15T18:17:46.947031Z"
    }
   },
   "cell_type": "code",
   "source": "# load_dotenv()",
   "id": "8e910493812fee9",
   "outputs": [],
   "execution_count": 2
  },
  {
   "metadata": {
    "ExecuteTime": {
     "end_time": "2025-07-15T18:17:46.975038Z",
     "start_time": "2025-07-15T18:17:46.972036Z"
    }
   },
   "cell_type": "code",
   "source": [
    "# llm = GoogleGenerativeAI(model=\"gemini-2.5-flash\")\n",
    "#\n",
    "# response = llm.invoke(\"Summarize the gist of the quote in a paragraph in simple English: 'Not all those who wander are lost.'\")"
   ],
   "id": "f641d232a326a18d",
   "outputs": [],
   "execution_count": 3
  },
  {
   "metadata": {
    "collapsed": true,
    "ExecuteTime": {
     "end_time": "2025-07-15T18:17:47.017426Z",
     "start_time": "2025-07-15T18:17:46.995813Z"
    }
   },
   "cell_type": "code",
   "source": "# display(Markdown(response))",
   "id": "initial_id",
   "outputs": [],
   "execution_count": 4
  },
  {
   "metadata": {
    "ExecuteTime": {
     "end_time": "2025-07-15T18:17:47.769711Z",
     "start_time": "2025-07-15T18:17:47.036766Z"
    }
   },
   "cell_type": "code",
   "source": [
    "quotes = pd.read_json(\"cleaned_quotes.json\", lines=True)\n",
    "quotes"
   ],
   "id": "ed2965183dfa6f55",
   "outputs": [
    {
     "data": {
      "text/plain": [
       "                                                0     \\\n",
       "0  All that is gold does not glitter,\\nNot all th...   \n",
       "\n",
       "                                   1     \\\n",
       "0  Not all those who wander are lost.\\n   \n",
       "\n",
       "                                                2     \\\n",
       "0  I wish it need not have happened in my time,\" ...   \n",
       "\n",
       "                                                3     \\\n",
       "0  I don't know half of you half as well as I sho...   \n",
       "\n",
       "                                                4     \\\n",
       "0  All we have to decide is what to do with the t...   \n",
       "\n",
       "                                                5     \\\n",
       "0  If more of us valued food and cheer and song a...   \n",
       "\n",
       "                             6     \\\n",
       "0  Never laugh at live dragons.\\n   \n",
       "\n",
       "                                                7     \\\n",
       "0  Faithless is he that says farewell when the ro...   \n",
       "\n",
       "                                                8     \\\n",
       "0  The world is indeed full of peril, and in it t...   \n",
       "\n",
       "                                                9     ...  \\\n",
       "0  Deserves it! I daresay he does. Many that live...  ...   \n",
       "\n",
       "                                                2984  \\\n",
       "0  Where did you go to, if I may ask?' said Thori...   \n",
       "\n",
       "                                                2985  \\\n",
       "0  In this hour, I do not believe that any darkne...   \n",
       "\n",
       "                                      2986  \\\n",
       "0  Oft hope is born when all is forlorn.\\n   \n",
       "\n",
       "                                                2987  \\\n",
       "0  The wide world is all about you: you can fence...   \n",
       "\n",
       "                                                2988  \\\n",
       "0  I do not love the bright sword for its sharpne...   \n",
       "\n",
       "                                                2989  \\\n",
       "0  He that breaks a thing to find out what it is ...   \n",
       "\n",
       "                                                2990  \\\n",
       "0  Home is behind, the world ahead,\\nAnd there ar...   \n",
       "\n",
       "                                                2991  \\\n",
       "0  There is more in you of good than you know, ch...   \n",
       "\n",
       "                                                2992  \\\n",
       "0  Good Morning!\" said Bilbo, and he meant it. Th...   \n",
       "\n",
       "                                                2993  \n",
       "0  In sorrow we must go, but not in despair. Beho...  \n",
       "\n",
       "[1 rows x 2994 columns]"
      ],
      "text/html": [
       "<div>\n",
       "<style scoped>\n",
       "    .dataframe tbody tr th:only-of-type {\n",
       "        vertical-align: middle;\n",
       "    }\n",
       "\n",
       "    .dataframe tbody tr th {\n",
       "        vertical-align: top;\n",
       "    }\n",
       "\n",
       "    .dataframe thead th {\n",
       "        text-align: right;\n",
       "    }\n",
       "</style>\n",
       "<table border=\"1\" class=\"dataframe\">\n",
       "  <thead>\n",
       "    <tr style=\"text-align: right;\">\n",
       "      <th></th>\n",
       "      <th>0</th>\n",
       "      <th>1</th>\n",
       "      <th>2</th>\n",
       "      <th>3</th>\n",
       "      <th>4</th>\n",
       "      <th>5</th>\n",
       "      <th>6</th>\n",
       "      <th>7</th>\n",
       "      <th>8</th>\n",
       "      <th>9</th>\n",
       "      <th>...</th>\n",
       "      <th>2984</th>\n",
       "      <th>2985</th>\n",
       "      <th>2986</th>\n",
       "      <th>2987</th>\n",
       "      <th>2988</th>\n",
       "      <th>2989</th>\n",
       "      <th>2990</th>\n",
       "      <th>2991</th>\n",
       "      <th>2992</th>\n",
       "      <th>2993</th>\n",
       "    </tr>\n",
       "  </thead>\n",
       "  <tbody>\n",
       "    <tr>\n",
       "      <th>0</th>\n",
       "      <td>All that is gold does not glitter,\\nNot all th...</td>\n",
       "      <td>Not all those who wander are lost.\\n</td>\n",
       "      <td>I wish it need not have happened in my time,\" ...</td>\n",
       "      <td>I don't know half of you half as well as I sho...</td>\n",
       "      <td>All we have to decide is what to do with the t...</td>\n",
       "      <td>If more of us valued food and cheer and song a...</td>\n",
       "      <td>Never laugh at live dragons.\\n</td>\n",
       "      <td>Faithless is he that says farewell when the ro...</td>\n",
       "      <td>The world is indeed full of peril, and in it t...</td>\n",
       "      <td>Deserves it! I daresay he does. Many that live...</td>\n",
       "      <td>...</td>\n",
       "      <td>Where did you go to, if I may ask?' said Thori...</td>\n",
       "      <td>In this hour, I do not believe that any darkne...</td>\n",
       "      <td>Oft hope is born when all is forlorn.\\n</td>\n",
       "      <td>The wide world is all about you: you can fence...</td>\n",
       "      <td>I do not love the bright sword for its sharpne...</td>\n",
       "      <td>He that breaks a thing to find out what it is ...</td>\n",
       "      <td>Home is behind, the world ahead,\\nAnd there ar...</td>\n",
       "      <td>There is more in you of good than you know, ch...</td>\n",
       "      <td>Good Morning!\" said Bilbo, and he meant it. Th...</td>\n",
       "      <td>In sorrow we must go, but not in despair. Beho...</td>\n",
       "    </tr>\n",
       "  </tbody>\n",
       "</table>\n",
       "<p>1 rows × 2994 columns</p>\n",
       "</div>"
      ]
     },
     "execution_count": 5,
     "metadata": {},
     "output_type": "execute_result"
    }
   ],
   "execution_count": 5
  },
  {
   "metadata": {
    "ExecuteTime": {
     "end_time": "2025-07-15T18:17:48.153306Z",
     "start_time": "2025-07-15T18:17:48.143432Z"
    }
   },
   "cell_type": "code",
   "source": "len(quotes), len(quotes.columns), type(quotes)",
   "id": "192dcd85523ef8f5",
   "outputs": [
    {
     "data": {
      "text/plain": [
       "(1, 2994, pandas.core.frame.DataFrame)"
      ]
     },
     "execution_count": 6,
     "metadata": {},
     "output_type": "execute_result"
    }
   ],
   "execution_count": 6
  },
  {
   "metadata": {
    "ExecuteTime": {
     "end_time": "2025-07-15T18:17:48.393838Z",
     "start_time": "2025-07-15T18:17:48.377452Z"
    }
   },
   "cell_type": "code",
   "source": [
    "# transpose the columns\n",
    "quotes = quotes.T\n",
    "quotes"
   ],
   "id": "3bdc7fba40a66d35",
   "outputs": [
    {
     "data": {
      "text/plain": [
       "                                                      0\n",
       "0     All that is gold does not glitter,\\nNot all th...\n",
       "1                  Not all those who wander are lost.\\n\n",
       "2     I wish it need not have happened in my time,\" ...\n",
       "3     I don't know half of you half as well as I sho...\n",
       "4     All we have to decide is what to do with the t...\n",
       "...                                                 ...\n",
       "2989  He that breaks a thing to find out what it is ...\n",
       "2990  Home is behind, the world ahead,\\nAnd there ar...\n",
       "2991  There is more in you of good than you know, ch...\n",
       "2992  Good Morning!\" said Bilbo, and he meant it. Th...\n",
       "2993  In sorrow we must go, but not in despair. Beho...\n",
       "\n",
       "[2994 rows x 1 columns]"
      ],
      "text/html": [
       "<div>\n",
       "<style scoped>\n",
       "    .dataframe tbody tr th:only-of-type {\n",
       "        vertical-align: middle;\n",
       "    }\n",
       "\n",
       "    .dataframe tbody tr th {\n",
       "        vertical-align: top;\n",
       "    }\n",
       "\n",
       "    .dataframe thead th {\n",
       "        text-align: right;\n",
       "    }\n",
       "</style>\n",
       "<table border=\"1\" class=\"dataframe\">\n",
       "  <thead>\n",
       "    <tr style=\"text-align: right;\">\n",
       "      <th></th>\n",
       "      <th>0</th>\n",
       "    </tr>\n",
       "  </thead>\n",
       "  <tbody>\n",
       "    <tr>\n",
       "      <th>0</th>\n",
       "      <td>All that is gold does not glitter,\\nNot all th...</td>\n",
       "    </tr>\n",
       "    <tr>\n",
       "      <th>1</th>\n",
       "      <td>Not all those who wander are lost.\\n</td>\n",
       "    </tr>\n",
       "    <tr>\n",
       "      <th>2</th>\n",
       "      <td>I wish it need not have happened in my time,\" ...</td>\n",
       "    </tr>\n",
       "    <tr>\n",
       "      <th>3</th>\n",
       "      <td>I don't know half of you half as well as I sho...</td>\n",
       "    </tr>\n",
       "    <tr>\n",
       "      <th>4</th>\n",
       "      <td>All we have to decide is what to do with the t...</td>\n",
       "    </tr>\n",
       "    <tr>\n",
       "      <th>...</th>\n",
       "      <td>...</td>\n",
       "    </tr>\n",
       "    <tr>\n",
       "      <th>2989</th>\n",
       "      <td>He that breaks a thing to find out what it is ...</td>\n",
       "    </tr>\n",
       "    <tr>\n",
       "      <th>2990</th>\n",
       "      <td>Home is behind, the world ahead,\\nAnd there ar...</td>\n",
       "    </tr>\n",
       "    <tr>\n",
       "      <th>2991</th>\n",
       "      <td>There is more in you of good than you know, ch...</td>\n",
       "    </tr>\n",
       "    <tr>\n",
       "      <th>2992</th>\n",
       "      <td>Good Morning!\" said Bilbo, and he meant it. Th...</td>\n",
       "    </tr>\n",
       "    <tr>\n",
       "      <th>2993</th>\n",
       "      <td>In sorrow we must go, but not in despair. Beho...</td>\n",
       "    </tr>\n",
       "  </tbody>\n",
       "</table>\n",
       "<p>2994 rows × 1 columns</p>\n",
       "</div>"
      ]
     },
     "execution_count": 7,
     "metadata": {},
     "output_type": "execute_result"
    }
   ],
   "execution_count": 7
  },
  {
   "metadata": {
    "ExecuteTime": {
     "end_time": "2025-07-15T18:17:49.125235Z",
     "start_time": "2025-07-15T18:17:49.111953Z"
    }
   },
   "cell_type": "code",
   "source": "len(quotes), len(quotes.columns), type(quotes)",
   "id": "5a0b6e70a8818698",
   "outputs": [
    {
     "data": {
      "text/plain": [
       "(2994, 1, pandas.core.frame.DataFrame)"
      ]
     },
     "execution_count": 8,
     "metadata": {},
     "output_type": "execute_result"
    }
   ],
   "execution_count": 8
  },
  {
   "metadata": {
    "ExecuteTime": {
     "end_time": "2025-07-15T18:17:49.287712Z",
     "start_time": "2025-07-15T18:17:49.278001Z"
    }
   },
   "cell_type": "code",
   "source": [
    "prompt_template = PromptTemplate.from_template(\n",
    "    \"Summarize the following quote in simple English in a paragraph: '{quote}'\")"
   ],
   "id": "604abe8bf4eba0ad",
   "outputs": [],
   "execution_count": 9
  },
  {
   "metadata": {
    "ExecuteTime": {
     "end_time": "2025-07-15T18:27:09.769294Z",
     "start_time": "2025-07-15T18:27:09.758815Z"
    }
   },
   "cell_type": "code",
   "source": [
    "# indexing in [column][row] format\n",
    "prompt_template.invoke(quotes[0][0])"
   ],
   "id": "4b3fc95456b9addc",
   "outputs": [
    {
     "data": {
      "text/plain": [
       "StringPromptValue(text=\"Summarize the following quote in simple English in a paragraph: 'All that is gold does not glitter,\\nNot all those who wander are lost;\\nThe old that is strong does not wither,\\nDeep roots are not reached by the frost.\\n\\nFrom the ashes a fire shall be woken,\\nA light from the shadows shall spring;\\nRenewed shall be blade that was broken,\\nThe crownless again shall be king.\\n'\")"
      ]
     },
     "execution_count": 35,
     "metadata": {},
     "output_type": "execute_result"
    }
   ],
   "execution_count": 35
  },
  {
   "metadata": {
    "ExecuteTime": {
     "end_time": "2025-07-15T18:17:51.881396Z",
     "start_time": "2025-07-15T18:17:51.875536Z"
    }
   },
   "cell_type": "code",
   "source": "prompt_template_list = []",
   "id": "e60e30fadc12be37",
   "outputs": [],
   "execution_count": 11
  },
  {
   "metadata": {
    "ExecuteTime": {
     "end_time": "2025-07-15T18:17:54.216236Z",
     "start_time": "2025-07-15T18:17:51.909184Z"
    }
   },
   "cell_type": "code",
   "source": [
    "for i in range(len(quotes)):\n",
    "    prompt_template_list.extend(prompt_template.invoke(quotes[0][i]))"
   ],
   "id": "78f3f93bed269dde",
   "outputs": [],
   "execution_count": 12
  },
  {
   "metadata": {
    "ExecuteTime": {
     "end_time": "2025-07-15T18:17:54.257724Z",
     "start_time": "2025-07-15T18:17:54.246281Z"
    }
   },
   "cell_type": "code",
   "source": "prompt_template_list[0][1]",
   "id": "fd40c4e92dfba510",
   "outputs": [
    {
     "data": {
      "text/plain": [
       "\"Summarize the following quote in simple English in a paragraph: 'All that is gold does not glitter,\\nNot all those who wander are lost;\\nThe old that is strong does not wither,\\nDeep roots are not reached by the frost.\\n\\nFrom the ashes a fire shall be woken,\\nA light from the shadows shall spring;\\nRenewed shall be blade that was broken,\\nThe crownless again shall be king.\\n'\""
      ]
     },
     "execution_count": 13,
     "metadata": {},
     "output_type": "execute_result"
    }
   ],
   "execution_count": 13
  },
  {
   "metadata": {},
   "cell_type": "markdown",
   "source": [
    "### Confusion over iterating in `prompt_template_list`:\n",
    "\n",
    "* [0][0]: 'text'\n",
    "* [0][1]: 'The actual quote'\n",
    "* [1][0]: 'type'\n",
    "* [1][1]: 'StringPromptValue'"
   ],
   "id": "1dabd66b8329ad40"
  },
  {
   "metadata": {},
   "cell_type": "markdown",
   "source": "#### Trying a different approach: Appending the prompt individually to the quote using `quotes`",
   "id": "e454d899620875f5"
  },
  {
   "metadata": {
    "ExecuteTime": {
     "end_time": "2025-07-15T18:31:40.171213Z",
     "start_time": "2025-07-15T18:31:40.166697Z"
    }
   },
   "cell_type": "code",
   "outputs": [],
   "execution_count": 44,
   "source": "prompt_template_text = []",
   "id": "8e05cb7cf765fd92"
  },
  {
   "metadata": {
    "ExecuteTime": {
     "end_time": "2025-07-15T18:31:40.548333Z",
     "start_time": "2025-07-15T18:31:40.467541Z"
    }
   },
   "cell_type": "code",
   "source": [
    "for i in range(len(quotes)):\n",
    "    prompt_template_text.append(f\"Summarize the following quote in simple English in a paragraph: {quotes[0][i]}\")"
   ],
   "id": "2f6819b6a069cf18",
   "outputs": [],
   "execution_count": 45
  },
  {
   "metadata": {
    "ExecuteTime": {
     "end_time": "2025-07-15T18:32:56.053187Z",
     "start_time": "2025-07-15T18:32:56.044186Z"
    }
   },
   "cell_type": "code",
   "source": "len(prompt_template_text), type(prompt_template_text)",
   "id": "4a6b39dbd51b9045",
   "outputs": [
    {
     "data": {
      "text/plain": [
       "(2994, list)"
      ]
     },
     "execution_count": 48,
     "metadata": {},
     "output_type": "execute_result"
    }
   ],
   "execution_count": 48
  },
  {
   "metadata": {
    "ExecuteTime": {
     "end_time": "2025-07-15T18:36:12.721909Z",
     "start_time": "2025-07-15T18:36:12.714272Z"
    }
   },
   "cell_type": "code",
   "source": "type(quotes)",
   "id": "8f8b365dd23f2358",
   "outputs": [
    {
     "data": {
      "text/plain": [
       "pandas.core.frame.DataFrame"
      ]
     },
     "execution_count": 55,
     "metadata": {},
     "output_type": "execute_result"
    }
   ],
   "execution_count": 55
  },
  {
   "metadata": {
    "ExecuteTime": {
     "end_time": "2025-07-15T18:38:16.218112Z",
     "start_time": "2025-07-15T18:38:16.199345Z"
    }
   },
   "cell_type": "code",
   "source": [
    "quotes[\"prompt_template\"] = prompt_template_text\n",
    "quotes.rename(columns={0:\"quote\"}, inplace=True)\n",
    "quotes"
   ],
   "id": "2f11b397f8e866a4",
   "outputs": [
    {
     "data": {
      "text/plain": [
       "                                                  quote  \\\n",
       "0     All that is gold does not glitter,\\nNot all th...   \n",
       "1                  Not all those who wander are lost.\\n   \n",
       "2     I wish it need not have happened in my time,\" ...   \n",
       "3     I don't know half of you half as well as I sho...   \n",
       "4     All we have to decide is what to do with the t...   \n",
       "...                                                 ...   \n",
       "2989  He that breaks a thing to find out what it is ...   \n",
       "2990  Home is behind, the world ahead,\\nAnd there ar...   \n",
       "2991  There is more in you of good than you know, ch...   \n",
       "2992  Good Morning!\" said Bilbo, and he meant it. Th...   \n",
       "2993  In sorrow we must go, but not in despair. Beho...   \n",
       "\n",
       "                                        prompt_template  \n",
       "0     Summarize the following quote in simple Englis...  \n",
       "1     Summarize the following quote in simple Englis...  \n",
       "2     Summarize the following quote in simple Englis...  \n",
       "3     Summarize the following quote in simple Englis...  \n",
       "4     Summarize the following quote in simple Englis...  \n",
       "...                                                 ...  \n",
       "2989  Summarize the following quote in simple Englis...  \n",
       "2990  Summarize the following quote in simple Englis...  \n",
       "2991  Summarize the following quote in simple Englis...  \n",
       "2992  Summarize the following quote in simple Englis...  \n",
       "2993  Summarize the following quote in simple Englis...  \n",
       "\n",
       "[2994 rows x 2 columns]"
      ],
      "text/html": [
       "<div>\n",
       "<style scoped>\n",
       "    .dataframe tbody tr th:only-of-type {\n",
       "        vertical-align: middle;\n",
       "    }\n",
       "\n",
       "    .dataframe tbody tr th {\n",
       "        vertical-align: top;\n",
       "    }\n",
       "\n",
       "    .dataframe thead th {\n",
       "        text-align: right;\n",
       "    }\n",
       "</style>\n",
       "<table border=\"1\" class=\"dataframe\">\n",
       "  <thead>\n",
       "    <tr style=\"text-align: right;\">\n",
       "      <th></th>\n",
       "      <th>quote</th>\n",
       "      <th>prompt_template</th>\n",
       "    </tr>\n",
       "  </thead>\n",
       "  <tbody>\n",
       "    <tr>\n",
       "      <th>0</th>\n",
       "      <td>All that is gold does not glitter,\\nNot all th...</td>\n",
       "      <td>Summarize the following quote in simple Englis...</td>\n",
       "    </tr>\n",
       "    <tr>\n",
       "      <th>1</th>\n",
       "      <td>Not all those who wander are lost.\\n</td>\n",
       "      <td>Summarize the following quote in simple Englis...</td>\n",
       "    </tr>\n",
       "    <tr>\n",
       "      <th>2</th>\n",
       "      <td>I wish it need not have happened in my time,\" ...</td>\n",
       "      <td>Summarize the following quote in simple Englis...</td>\n",
       "    </tr>\n",
       "    <tr>\n",
       "      <th>3</th>\n",
       "      <td>I don't know half of you half as well as I sho...</td>\n",
       "      <td>Summarize the following quote in simple Englis...</td>\n",
       "    </tr>\n",
       "    <tr>\n",
       "      <th>4</th>\n",
       "      <td>All we have to decide is what to do with the t...</td>\n",
       "      <td>Summarize the following quote in simple Englis...</td>\n",
       "    </tr>\n",
       "    <tr>\n",
       "      <th>...</th>\n",
       "      <td>...</td>\n",
       "      <td>...</td>\n",
       "    </tr>\n",
       "    <tr>\n",
       "      <th>2989</th>\n",
       "      <td>He that breaks a thing to find out what it is ...</td>\n",
       "      <td>Summarize the following quote in simple Englis...</td>\n",
       "    </tr>\n",
       "    <tr>\n",
       "      <th>2990</th>\n",
       "      <td>Home is behind, the world ahead,\\nAnd there ar...</td>\n",
       "      <td>Summarize the following quote in simple Englis...</td>\n",
       "    </tr>\n",
       "    <tr>\n",
       "      <th>2991</th>\n",
       "      <td>There is more in you of good than you know, ch...</td>\n",
       "      <td>Summarize the following quote in simple Englis...</td>\n",
       "    </tr>\n",
       "    <tr>\n",
       "      <th>2992</th>\n",
       "      <td>Good Morning!\" said Bilbo, and he meant it. Th...</td>\n",
       "      <td>Summarize the following quote in simple Englis...</td>\n",
       "    </tr>\n",
       "    <tr>\n",
       "      <th>2993</th>\n",
       "      <td>In sorrow we must go, but not in despair. Beho...</td>\n",
       "      <td>Summarize the following quote in simple Englis...</td>\n",
       "    </tr>\n",
       "  </tbody>\n",
       "</table>\n",
       "<p>2994 rows × 2 columns</p>\n",
       "</div>"
      ]
     },
     "execution_count": 58,
     "metadata": {},
     "output_type": "execute_result"
    }
   ],
   "execution_count": 58
  },
  {
   "metadata": {
    "ExecuteTime": {
     "end_time": "2025-07-15T18:47:05.366233Z",
     "start_time": "2025-07-15T18:47:05.291209Z"
    }
   },
   "cell_type": "code",
   "source": "quotes.to_json(\"quotes_with_prompt.json\", orient=\"index\")",
   "id": "d4ceb2b1c48208a4",
   "outputs": [],
   "execution_count": 68
  },
  {
   "metadata": {},
   "cell_type": "code",
   "outputs": [],
   "execution_count": null,
   "source": "",
   "id": "e1021b4009ecfb72"
  }
 ],
 "metadata": {
  "kernelspec": {
   "display_name": "Python 3",
   "language": "python",
   "name": "python3"
  },
  "language_info": {
   "codemirror_mode": {
    "name": "ipython",
    "version": 2
   },
   "file_extension": ".py",
   "mimetype": "text/x-python",
   "name": "python",
   "nbconvert_exporter": "python",
   "pygments_lexer": "ipython2",
   "version": "2.7.6"
  }
 },
 "nbformat": 4,
 "nbformat_minor": 5
}
