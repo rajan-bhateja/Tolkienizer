{
 "cells": [
  {
   "metadata": {},
   "cell_type": "markdown",
   "source": "### Formatting the quotes and generated summary into ChatML format",
   "id": "d9510aeb6d789c53"
  },
  {
   "metadata": {},
   "cell_type": "markdown",
   "source": [
    "#### Format:\n",
    "\n",
    "<|im_start|>system\n",
    "\n",
    "You are a helpful assistant.<|im_end|>\n",
    "\n",
    "<|im_start|>user\n",
    "\n",
    "Your prompt here<|im_end|>\n",
    "\n",
    "<|im_start|>assistant\n",
    "\n",
    "Model's output here<|im_end|>"
   ],
   "id": "ae0edd6e37abf506"
  },
  {
   "metadata": {
    "ExecuteTime": {
     "end_time": "2025-08-05T17:06:47.035334Z",
     "start_time": "2025-08-05T17:06:46.988257Z"
    }
   },
   "cell_type": "code",
   "source": [
    "import json\n",
    "from tqdm import tqdm"
   ],
   "id": "1ee9b4d3c381d294",
   "outputs": [],
   "execution_count": 19
  },
  {
   "metadata": {
    "ExecuteTime": {
     "end_time": "2025-08-05T17:00:20.657522Z",
     "start_time": "2025-08-05T17:00:20.608420Z"
    }
   },
   "cell_type": "code",
   "source": [
    "with open(\"quotes_with_summary.json\", \"r\", encoding=\"utf-8\") as f:\n",
    "    quotes = json.load(f)"
   ],
   "id": "3585cbbe4cf6711e",
   "outputs": [],
   "execution_count": 2
  },
  {
   "metadata": {
    "ExecuteTime": {
     "end_time": "2025-08-05T17:03:59.296079Z",
     "start_time": "2025-08-05T17:03:59.285210Z"
    }
   },
   "cell_type": "code",
   "source": "type(quotes), len(quotes)",
   "id": "6ab759b0b9e8d3a4",
   "outputs": [
    {
     "data": {
      "text/plain": [
       "(list, 2994)"
      ]
     },
     "execution_count": 15,
     "metadata": {},
     "output_type": "execute_result"
    }
   ],
   "execution_count": 15
  },
  {
   "metadata": {
    "ExecuteTime": {
     "end_time": "2025-08-05T17:05:51.867699Z",
     "start_time": "2025-08-05T17:05:51.860997Z"
    }
   },
   "cell_type": "code",
   "source": "quotes[0][\"quote\"]",
   "id": "3e87598b402d15ed",
   "outputs": [
    {
     "data": {
      "text/plain": [
       "'All that is gold does not glitter,\\nNot all those who wander are lost;\\nThe old that is strong does not wither,\\nDeep roots are not reached by the frost.\\n\\nFrom the ashes a fire shall be woken,\\nA light from the shadows shall spring;\\nRenewed shall be blade that was broken,\\nThe crownless again shall be king.\\n'"
      ]
     },
     "execution_count": 17,
     "metadata": {},
     "output_type": "execute_result"
    }
   ],
   "execution_count": 17
  },
  {
   "metadata": {
    "ExecuteTime": {
     "end_time": "2025-08-05T17:03:32.477778Z",
     "start_time": "2025-08-05T17:03:32.471141Z"
    }
   },
   "cell_type": "code",
   "source": "quotes[0][\"summary\"]",
   "id": "257f7e308b6cd69f",
   "outputs": [
    {
     "data": {
      "text/plain": [
       "\"This quote teaches us that true value and strength often aren't obvious. Something precious might not look flashy, and someone who seems to be aimlessly wandering might actually be on a meaningful path. It also emphasizes that things with deep, strong foundations will endure difficult times, just as deep roots are protected from the cold. Furthermore, it offers a hopeful message: even after destruction or despair, new life and light will emerge, what was broken will be restored, and those who lost their power or rightful place will eventually reclaim it.\""
      ]
     },
     "execution_count": 13,
     "metadata": {},
     "output_type": "execute_result"
    }
   ],
   "execution_count": 13
  },
  {
   "metadata": {
    "ExecuteTime": {
     "end_time": "2025-08-05T17:29:46.538698Z",
     "start_time": "2025-08-05T17:29:46.521757Z"
    }
   },
   "cell_type": "code",
   "source": "chatml_format_quotes = []",
   "id": "d15f0faab54780aa",
   "outputs": [],
   "execution_count": 40
  },
  {
   "metadata": {
    "ExecuteTime": {
     "end_time": "2025-08-05T17:29:46.977159Z",
     "start_time": "2025-08-05T17:29:46.923325Z"
    }
   },
   "cell_type": "code",
   "source": [
    "for quote in quotes:\n",
    "    quote['quote'] = quote['quote'].rstrip()    # Remove trailing newlines\n",
    "    chatml_format_quotes.append({\"text\": f\"<|im_start|>system\\nYou are a Tolkien-style assistant.<|im_end|>\\n<|im_start|>user\\n{quote['summary']}<|im_end|>\\n<|im_start|>assistant\\n{quote['quote']}<|im_end|>\"})"
   ],
   "id": "e5403b09b1fc7268",
   "outputs": [],
   "execution_count": 41
  },
  {
   "metadata": {
    "ExecuteTime": {
     "end_time": "2025-08-05T17:29:48.388945Z",
     "start_time": "2025-08-05T17:29:48.379445Z"
    }
   },
   "cell_type": "code",
   "source": "print(chatml_format_quotes[0])",
   "id": "16aadb322b9bb12d",
   "outputs": [
    {
     "name": "stdout",
     "output_type": "stream",
     "text": [
      "{'text': \"<|im_start|>system\\nYou are a Tolkien-style assistant.<|im_end|>\\n<|im_start|>user\\nThis quote teaches us that true value and strength often aren't obvious. Something precious might not look flashy, and someone who seems to be aimlessly wandering might actually be on a meaningful path. It also emphasizes that things with deep, strong foundations will endure difficult times, just as deep roots are protected from the cold. Furthermore, it offers a hopeful message: even after destruction or despair, new life and light will emerge, what was broken will be restored, and those who lost their power or rightful place will eventually reclaim it.<|im_end|>\\n<|im_start|>assistant\\nAll that is gold does not glitter,\\nNot all those who wander are lost;\\nThe old that is strong does not wither,\\nDeep roots are not reached by the frost.\\n\\nFrom the ashes a fire shall be woken,\\nA light from the shadows shall spring;\\nRenewed shall be blade that was broken,\\nThe crownless again shall be king.<|im_end|>\"}\n"
     ]
    }
   ],
   "execution_count": 42
  },
  {
   "metadata": {
    "ExecuteTime": {
     "end_time": "2025-08-05T17:31:32.663260Z",
     "start_time": "2025-08-05T17:31:32.599935Z"
    }
   },
   "cell_type": "code",
   "source": [
    "with open(\"chatml_format_quotes.jsonl\", \"w\", encoding=\"utf-8\") as f:\n",
    "    for item in chatml_format_quotes:\n",
    "        f.write(json.dumps(item, ensure_ascii=False) + \"\\n\")"
   ],
   "id": "b98a72d428a03fc9",
   "outputs": [],
   "execution_count": 43
  },
  {
   "metadata": {},
   "cell_type": "code",
   "outputs": [],
   "execution_count": null,
   "source": "",
   "id": "9cfece0f84baabd2"
  }
 ],
 "metadata": {
  "kernelspec": {
   "display_name": "Python 3",
   "language": "python",
   "name": "python3"
  },
  "language_info": {
   "codemirror_mode": {
    "name": "ipython",
    "version": 2
   },
   "file_extension": ".py",
   "mimetype": "text/x-python",
   "name": "python",
   "nbconvert_exporter": "python",
   "pygments_lexer": "ipython2",
   "version": "2.7.6"
  }
 },
 "nbformat": 4,
 "nbformat_minor": 5
}
