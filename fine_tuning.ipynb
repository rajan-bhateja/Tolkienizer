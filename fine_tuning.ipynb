{
 "cells": [
  {
   "metadata": {
    "ExecuteTime": {
     "end_time": "2025-07-15T10:33:36.726236Z",
     "start_time": "2025-07-15T10:33:35.304231Z"
    }
   },
   "cell_type": "code",
   "source": "!pip install -q --upgrade transformers",
   "id": "f4202910f90776f3",
   "outputs": [],
   "execution_count": 41
  },
  {
   "cell_type": "code",
   "id": "initial_id",
   "metadata": {
    "collapsed": true,
    "ExecuteTime": {
     "end_time": "2025-07-15T10:37:22.494609Z",
     "start_time": "2025-07-15T10:37:22.489390Z"
    }
   },
   "source": "from transformers import pipeline, set_seed",
   "outputs": [],
   "execution_count": 51
  },
  {
   "metadata": {
    "ExecuteTime": {
     "end_time": "2025-07-15T10:38:47.287014Z",
     "start_time": "2025-07-15T10:38:44.023564Z"
    }
   },
   "cell_type": "code",
   "source": [
    "set_seed(42)\n",
    "\n",
    "generator = pipeline(task=\"text-generation\", model=\"gpt2\")"
   ],
   "id": "b4f1d59f870f75df",
   "outputs": [
    {
     "data": {
      "text/plain": [
       "generation_config.json:   0%|          | 0.00/124 [00:00<?, ?B/s]"
      ],
      "application/vnd.jupyter.widget-view+json": {
       "version_major": 2,
       "version_minor": 0,
       "model_id": "162e3b40e5e343b885dcabdd45d03119"
      }
     },
     "metadata": {},
     "output_type": "display_data"
    },
    {
     "name": "stderr",
     "output_type": "stream",
     "text": [
      "Device set to use cpu\n"
     ]
    }
   ],
   "execution_count": 55
  },
  {
   "metadata": {
    "ExecuteTime": {
     "end_time": "2025-07-15T10:44:45.935711Z",
     "start_time": "2025-07-15T10:44:30.691420Z"
    }
   },
   "cell_type": "code",
   "source": [
    "text = \"Summarize the quote: Not all those who wander are lost.\"\n",
    "output = generator(text, num_return_sequences=3)"
   ],
   "id": "c5bcbf16843daef2",
   "outputs": [
    {
     "name": "stderr",
     "output_type": "stream",
     "text": [
      "Setting `pad_token_id` to `eos_token_id`:50256 for open-end generation.\n"
     ]
    }
   ],
   "execution_count": 78
  },
  {
   "metadata": {
    "ExecuteTime": {
     "end_time": "2025-07-15T11:10:09.228134Z",
     "start_time": "2025-07-15T11:10:09.219940Z"
    }
   },
   "cell_type": "code",
   "source": "print(output[0][\"generated_text\"])",
   "id": "ecc08e47c8a57f8e",
   "outputs": [
    {
     "name": "stdout",
     "output_type": "stream",
     "text": [
      "Summarize the quote: Not all those who wander are lost. These are the ones who go missing.\n",
      "\n",
      "[From \"The Lost Tribe\": The Lost Tribe is a book from the book of Gospels and one of the three books of Old Testament Gospel literature, by William B. Sanger.]\n",
      "\n",
      "In the New Testament, there is an ancient reference to a \"lost tribe.\"\n",
      "\n",
      "In John 1:15-16, a person from a lost tribe died.\n",
      "\n",
      "The New Testament is a book from the book of Gospels and one of the three books of Old Testament Gospel literature, by William B. Sanger.\n",
      "\n",
      "The New Testament Gospel literature is a collection of Gospel stories and the book of Gospels, a collection of Gospel writings, written by the Apostles.\n",
      "\n",
      "In the New Testament, there is an ancient reference to a \"lost tribe.\"\n",
      "\n",
      "In Romans 1:7-10, there is a reference to a \"lost tribe.\"\n",
      "\n",
      "In Romans 3:2, there is a reference to a \"lost tribe.\"\n",
      "\n",
      "In Romans 4:2, there is a reference to a \"lost tribe.\"\n",
      "\n",
      "In Romans 5:5-6, there is a reference to a \"lost tribe.\"\n",
      "\n",
      "In Romans 9:14, there is a reference to a\n"
     ]
    }
   ],
   "execution_count": 96
  },
  {
   "metadata": {
    "ExecuteTime": {
     "end_time": "2025-07-15T11:10:10.290448Z",
     "start_time": "2025-07-15T11:10:10.284350Z"
    }
   },
   "cell_type": "code",
   "source": "print(output[1][\"generated_text\"])",
   "id": "f04ee7526b7e7085",
   "outputs": [
    {
     "name": "stdout",
     "output_type": "stream",
     "text": [
      "Summarize the quote: Not all those who wander are lost.\n",
      "\n",
      "And the final quote of the poem is:\n",
      "\n",
      "There isn't a soul that can live without death.\n",
      "\n",
      "And the final quote of the poem is:\n",
      "\n",
      "It's not enough to be a good person to live without death.\n",
      "\n",
      "And the final quote of the poem is:\n",
      "\n",
      "But the soul will never be able to live without death,\n",
      "\n",
      "and the final quote of the poem is:\n",
      "\n",
      "No man ever forgets his own death.\n",
      "\n",
      "And the final quote of the poem is:\n",
      "\n",
      "It's not enough to be a good person to live without death.\n",
      "\n",
      "And the final quote of the poem is:\n",
      "\n",
      "There is nothing that is less than life.\n",
      "\n",
      "And the final quote of the poem is:\n",
      "\n",
      "There's nothing that is less than life.\n",
      "\n",
      "And the final quote of the poem is:\n",
      "\n",
      "We all must learn to live without death\n",
      "\n",
      "and the final quote of the poem is:\n",
      "\n",
      "No, no.\n",
      "\n",
      "And the final quote of the poem is:\n",
      "\n",
      "No, no.\n",
      "\n",
      "And the final quote of the poem is:\n",
      "\n",
      "There's nothing that is more precious than life.\n",
      "\n",
      "And the final quote of the poem\n"
     ]
    }
   ],
   "execution_count": 97
  },
  {
   "metadata": {
    "ExecuteTime": {
     "end_time": "2025-07-15T11:10:12.812935Z",
     "start_time": "2025-07-15T11:10:12.806219Z"
    }
   },
   "cell_type": "code",
   "source": "print(output[2][\"generated_text\"])",
   "id": "670875d311266493",
   "outputs": [
    {
     "name": "stdout",
     "output_type": "stream",
     "text": [
      "Summarize the quote: Not all those who wander are lost. And not all those who are lost are lost, but those who go forth to meet God's will.\n",
      "\n",
      "The quote is from the last verse of the Psalm, where Alma (Ezekiel 22:18-20, 23:9) is seen telling his disciples. Alma says in the first place that his life is going to be the end of the world—of the world and of the angels—and he will die a few days after reaching this point. He will be the last living man on Earth. Then he will die, and there is nothing more that can be done.\n",
      "\n",
      "And so, Alma's prophecy can be understood to follow the life of Christ. Christ will be the last living man on Earth. In the end, he will die and all the men and women of England and America, who were not born of God, will be dead.\n",
      "\n",
      "The same quote is used in the Book of Mormon, where Alma says that he will be the \"last living man on earth.\" And this is the exact same quote that the Book of Mormon is used to say, in its original form.\n",
      "\n",
      "So what are the implications of this quote? It seems that the author of the Book of Mormon was trying to cover his own ass\n"
     ]
    }
   ],
   "execution_count": 98
  },
  {
   "metadata": {},
   "cell_type": "markdown",
   "source": "Needs to use different model; preferably a larger one",
   "id": "1bfcd9e6d836023d"
  }
 ],
 "metadata": {
  "kernelspec": {
   "display_name": "Python 3",
   "language": "python",
   "name": "python3"
  },
  "language_info": {
   "codemirror_mode": {
    "name": "ipython",
    "version": 2
   },
   "file_extension": ".py",
   "mimetype": "text/x-python",
   "name": "python",
   "nbconvert_exporter": "python",
   "pygments_lexer": "ipython2",
   "version": "2.7.6"
  }
 },
 "nbformat": 4,
 "nbformat_minor": 5
}
