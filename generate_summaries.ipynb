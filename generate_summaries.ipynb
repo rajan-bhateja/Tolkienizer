{
 "cells": [
  {
   "cell_type": "code",
   "id": "initial_id",
   "metadata": {
    "collapsed": true,
    "ExecuteTime": {
     "end_time": "2025-08-05T16:20:16.713635Z",
     "start_time": "2025-08-05T16:20:11.071307Z"
    }
   },
   "source": [
    "from langchain_google_genai.llms import GoogleGenerativeAI\n",
    "import pandas as pd\n",
    "import json\n",
    "\n",
    "from tqdm import tqdm\n",
    "from IPython.display import display, Markdown\n",
    "\n",
    "import os\n",
    "import time\n",
    "from dotenv import load_dotenv"
   ],
   "outputs": [],
   "execution_count": 1
  },
  {
   "metadata": {
    "ExecuteTime": {
     "end_time": "2025-08-05T16:20:16.764772Z",
     "start_time": "2025-08-05T16:20:16.739895Z"
    }
   },
   "cell_type": "code",
   "source": "load_dotenv()",
   "id": "fb83c111a3d7d13f",
   "outputs": [
    {
     "data": {
      "text/plain": [
       "True"
      ]
     },
     "execution_count": 2,
     "metadata": {},
     "output_type": "execute_result"
    }
   ],
   "execution_count": 2
  },
  {
   "metadata": {
    "ExecuteTime": {
     "end_time": "2025-08-05T16:20:16.878086Z",
     "start_time": "2025-08-05T16:20:16.838887Z"
    }
   },
   "cell_type": "code",
   "source": "llm = GoogleGenerativeAI(model=\"gemini-2.5-flash\")",
   "id": "c8aa862695d4b861",
   "outputs": [],
   "execution_count": 3
  },
  {
   "metadata": {
    "ExecuteTime": {
     "end_time": "2025-08-05T16:20:16.889316Z",
     "start_time": "2025-08-05T16:20:16.885695Z"
    }
   },
   "cell_type": "code",
   "source": "# response = llm.invoke(\"Summarise the following Tolkien quote in simple English in a paragraph: 'Not all those who wander are lost.'\")",
   "id": "15a6e785be3a665f",
   "outputs": [],
   "execution_count": 4
  },
  {
   "metadata": {
    "ExecuteTime": {
     "end_time": "2025-08-05T16:20:16.904386Z",
     "start_time": "2025-08-05T16:20:16.898823Z"
    }
   },
   "cell_type": "code",
   "source": "# display(Markdown(response))",
   "id": "e2d63de93f68a165",
   "outputs": [],
   "execution_count": 5
  },
  {
   "metadata": {
    "ExecuteTime": {
     "end_time": "2025-08-05T16:20:17.628325Z",
     "start_time": "2025-08-05T16:20:16.915895Z"
    }
   },
   "cell_type": "code",
   "source": [
    "quotes_df = pd.read_json(\"quotes_with_prompt.json\", lines=True).T\n",
    "quotes_df.rename(columns={0:\"info\"}, inplace=True)\n",
    "quotes_df"
   ],
   "id": "e8b795ee65f8b99b",
   "outputs": [
    {
     "data": {
      "text/plain": [
       "                                                   info\n",
       "0     {'quote': 'All that is gold does not glitter,\n",
       "...\n",
       "1     {'quote': 'Not all those who wander are lost.\n",
       "...\n",
       "2     {'quote': 'I wish it need not have happened in...\n",
       "3     {'quote': 'I don't know half of you half as we...\n",
       "4     {'quote': 'All we have to decide is what to do...\n",
       "...                                                 ...\n",
       "2989  {'quote': 'He that breaks a thing to find out ...\n",
       "2990  {'quote': 'Home is behind, the world ahead,\n",
       "An...\n",
       "2991  {'quote': 'There is more in you of good than y...\n",
       "2992  {'quote': 'Good Morning!\" said Bilbo, and he m...\n",
       "2993  {'quote': 'In sorrow we must go, but not in de...\n",
       "\n",
       "[2994 rows x 1 columns]"
      ],
      "text/html": [
       "<div>\n",
       "<style scoped>\n",
       "    .dataframe tbody tr th:only-of-type {\n",
       "        vertical-align: middle;\n",
       "    }\n",
       "\n",
       "    .dataframe tbody tr th {\n",
       "        vertical-align: top;\n",
       "    }\n",
       "\n",
       "    .dataframe thead th {\n",
       "        text-align: right;\n",
       "    }\n",
       "</style>\n",
       "<table border=\"1\" class=\"dataframe\">\n",
       "  <thead>\n",
       "    <tr style=\"text-align: right;\">\n",
       "      <th></th>\n",
       "      <th>info</th>\n",
       "    </tr>\n",
       "  </thead>\n",
       "  <tbody>\n",
       "    <tr>\n",
       "      <th>0</th>\n",
       "      <td>{'quote': 'All that is gold does not glitter,\n",
       "...</td>\n",
       "    </tr>\n",
       "    <tr>\n",
       "      <th>1</th>\n",
       "      <td>{'quote': 'Not all those who wander are lost.\n",
       "...</td>\n",
       "    </tr>\n",
       "    <tr>\n",
       "      <th>2</th>\n",
       "      <td>{'quote': 'I wish it need not have happened in...</td>\n",
       "    </tr>\n",
       "    <tr>\n",
       "      <th>3</th>\n",
       "      <td>{'quote': 'I don't know half of you half as we...</td>\n",
       "    </tr>\n",
       "    <tr>\n",
       "      <th>4</th>\n",
       "      <td>{'quote': 'All we have to decide is what to do...</td>\n",
       "    </tr>\n",
       "    <tr>\n",
       "      <th>...</th>\n",
       "      <td>...</td>\n",
       "    </tr>\n",
       "    <tr>\n",
       "      <th>2989</th>\n",
       "      <td>{'quote': 'He that breaks a thing to find out ...</td>\n",
       "    </tr>\n",
       "    <tr>\n",
       "      <th>2990</th>\n",
       "      <td>{'quote': 'Home is behind, the world ahead,\n",
       "An...</td>\n",
       "    </tr>\n",
       "    <tr>\n",
       "      <th>2991</th>\n",
       "      <td>{'quote': 'There is more in you of good than y...</td>\n",
       "    </tr>\n",
       "    <tr>\n",
       "      <th>2992</th>\n",
       "      <td>{'quote': 'Good Morning!\" said Bilbo, and he m...</td>\n",
       "    </tr>\n",
       "    <tr>\n",
       "      <th>2993</th>\n",
       "      <td>{'quote': 'In sorrow we must go, but not in de...</td>\n",
       "    </tr>\n",
       "  </tbody>\n",
       "</table>\n",
       "<p>2994 rows × 1 columns</p>\n",
       "</div>"
      ]
     },
     "execution_count": 6,
     "metadata": {},
     "output_type": "execute_result"
    }
   ],
   "execution_count": 6
  },
  {
   "metadata": {
    "ExecuteTime": {
     "end_time": "2025-08-05T16:20:17.669387Z",
     "start_time": "2025-08-05T16:20:17.659093Z"
    }
   },
   "cell_type": "code",
   "source": "type(quotes_df), type(quotes_df[\"info\"]), type(quotes_df[\"info\"][0]), type(quotes_df[\"info\"][0][\"prompt_template\"])",
   "id": "3daed68ca14e94df",
   "outputs": [
    {
     "data": {
      "text/plain": [
       "(pandas.core.frame.DataFrame, pandas.core.series.Series, dict, str)"
      ]
     },
     "execution_count": 7,
     "metadata": {},
     "output_type": "execute_result"
    }
   ],
   "execution_count": 7
  },
  {
   "metadata": {
    "ExecuteTime": {
     "end_time": "2025-08-05T16:20:17.705123Z",
     "start_time": "2025-08-05T16:20:17.693787Z"
    }
   },
   "cell_type": "code",
   "source": "quotes_df[\"info\"][0]",
   "id": "8c1150a4e0c6d2a1",
   "outputs": [
    {
     "data": {
      "text/plain": [
       "{'quote': 'All that is gold does not glitter,\\nNot all those who wander are lost;\\nThe old that is strong does not wither,\\nDeep roots are not reached by the frost.\\n\\nFrom the ashes a fire shall be woken,\\nA light from the shadows shall spring;\\nRenewed shall be blade that was broken,\\nThe crownless again shall be king.\\n',\n",
       " 'prompt_template': 'Summarize the following quote in simple English in a paragraph: All that is gold does not glitter,\\nNot all those who wander are lost;\\nThe old that is strong does not wither,\\nDeep roots are not reached by the frost.\\n\\nFrom the ashes a fire shall be woken,\\nA light from the shadows shall spring;\\nRenewed shall be blade that was broken,\\nThe crownless again shall be king.\\n'}"
      ]
     },
     "execution_count": 8,
     "metadata": {},
     "output_type": "execute_result"
    }
   ],
   "execution_count": 8
  },
  {
   "metadata": {
    "ExecuteTime": {
     "end_time": "2025-08-05T16:20:17.744728Z",
     "start_time": "2025-08-05T16:20:17.728860Z"
    }
   },
   "cell_type": "code",
   "source": [
    "# indexing format: quotes_df[column][row][dict_key] -> str\n",
    "quotes_df[\"info\"][0][\"prompt_template\"]"
   ],
   "id": "19e3da7fd56c80c9",
   "outputs": [
    {
     "data": {
      "text/plain": [
       "'Summarize the following quote in simple English in a paragraph: All that is gold does not glitter,\\nNot all those who wander are lost;\\nThe old that is strong does not wither,\\nDeep roots are not reached by the frost.\\n\\nFrom the ashes a fire shall be woken,\\nA light from the shadows shall spring;\\nRenewed shall be blade that was broken,\\nThe crownless again shall be king.\\n'"
      ]
     },
     "execution_count": 9,
     "metadata": {},
     "output_type": "execute_result"
    }
   ],
   "execution_count": 9
  },
  {
   "metadata": {
    "ExecuteTime": {
     "end_time": "2025-08-05T16:20:17.772351Z",
     "start_time": "2025-08-05T16:20:17.768082Z"
    }
   },
   "cell_type": "code",
   "source": [
    "# constants\n",
    "output_dir = \"summaries/\"\n",
    "batch_size = 100"
   ],
   "id": "76139abb62ae07d8",
   "outputs": [],
   "execution_count": 10
  },
  {
   "metadata": {
    "ExecuteTime": {
     "end_time": "2025-08-05T16:20:17.798601Z",
     "start_time": "2025-08-05T16:20:17.794184Z"
    }
   },
   "cell_type": "code",
   "source": [
    "# make sure summaries folder exists\n",
    "os.makedirs(output_dir, exist_ok=True)"
   ],
   "id": "22f62a5b466a9423",
   "outputs": [],
   "execution_count": 11
  },
  {
   "metadata": {
    "ExecuteTime": {
     "end_time": "2025-08-05T16:20:19.809041Z",
     "start_time": "2025-08-05T16:20:17.833159Z"
    }
   },
   "cell_type": "code",
   "source": [
    "# Load full quotes from original file\n",
    "with open(\"quotes_with_prompt.json\", \"r\", encoding=\"utf-8\") as f:\n",
    "    quotes_raw = json.load(f)\n",
    "\n",
    "# Ensure 'quotes' is a list, even if saved as a dict\n",
    "quotes = list(quotes_raw.values()) if isinstance(quotes_raw, dict) else quotes_raw\n",
    "\n",
    "# If summaries exist, merge them in\n",
    "if os.path.exists(\"quotes_with_summary.json\"):\n",
    "    with open(\"quotes_with_summary.json\", \"r\", encoding=\"utf-8\") as f:\n",
    "        processed_raw = json.load(f)\n",
    "\n",
    "    processed_quotes = list(processed_raw.values()) if isinstance(processed_raw, dict) else processed_raw\n",
    "\n",
    "    for i in range(min(len(quotes), len(processed_quotes))):\n",
    "        if \"summary\" in processed_quotes[i]:\n",
    "            quotes[i][\"summary\"] = processed_quotes[i][\"summary\"]\n",
    "\n",
    "# Initialize with all quotes that already have summaries\n",
    "quotes_with_summary = [quote for quote in quotes if \"summary\" in quote]\n",
    "\n",
    "# Start batch processing\n",
    "for start in range(0, len(quotes), batch_size):\n",
    "    end = min(start + batch_size, len(quotes))\n",
    "    print(f\"\\nProcessing batch {start} to {end - 1}\")\n",
    "\n",
    "    batch = []\n",
    "\n",
    "    for i in tqdm(range(start, end)):\n",
    "        quote = quotes[i]\n",
    "\n",
    "        # Skip already summarized quotes\n",
    "        if \"summary\" in quote:\n",
    "            batch.append(quote)\n",
    "            continue\n",
    "\n",
    "        # Generate summary using the LLM\n",
    "        summary = llm.invoke(quote[\"prompt_template\"])\n",
    "        quote[\"summary\"] = summary\n",
    "        quotes[i] = quote\n",
    "\n",
    "        batch.append(quote)\n",
    "        quotes_with_summary.append(quote)\n",
    "\n",
    "        time.sleep(2)\n",
    "\n",
    "    # Save current batch\n",
    "    batch_file = os.path.join(output_dir, f\"summary_{start}_{end - 1}.json\")\n",
    "    with open(batch_file, \"w\", encoding=\"utf-8\") as f:\n",
    "        json.dump(batch, f, ensure_ascii=False)\n",
    "    print(f\"Saved batch to '{batch_file}'\")\n",
    "\n",
    "    # Save all processed quotes so far\n",
    "    with open(\"quotes_with_summary.json\", \"w\", encoding=\"utf-8\") as f:\n",
    "        json.dump(quotes_with_summary, f, ensure_ascii=False)\n",
    "    print(\"Updated quotes_with_summary.json\")"
   ],
   "id": "7ee40a554787de77",
   "outputs": [
    {
     "name": "stdout",
     "output_type": "stream",
     "text": [
      "\n",
      "Processing batch 0 to 99\n"
     ]
    },
    {
     "name": "stderr",
     "output_type": "stream",
     "text": [
      "100%|██████████| 100/100 [00:00<?, ?it/s]\n"
     ]
    },
    {
     "name": "stdout",
     "output_type": "stream",
     "text": [
      "Saved batch to 'summaries/summary_0_99.json'\n",
      "Updated quotes_with_summary.json\n",
      "\n",
      "Processing batch 100 to 199\n"
     ]
    },
    {
     "name": "stderr",
     "output_type": "stream",
     "text": [
      "100%|██████████| 100/100 [00:00<?, ?it/s]\n"
     ]
    },
    {
     "name": "stdout",
     "output_type": "stream",
     "text": [
      "Saved batch to 'summaries/summary_100_199.json'\n",
      "Updated quotes_with_summary.json\n",
      "\n",
      "Processing batch 200 to 299\n"
     ]
    },
    {
     "name": "stderr",
     "output_type": "stream",
     "text": [
      "100%|██████████| 100/100 [00:00<?, ?it/s]\n"
     ]
    },
    {
     "name": "stdout",
     "output_type": "stream",
     "text": [
      "Saved batch to 'summaries/summary_200_299.json'\n",
      "Updated quotes_with_summary.json\n",
      "\n",
      "Processing batch 300 to 399\n"
     ]
    },
    {
     "name": "stderr",
     "output_type": "stream",
     "text": [
      "100%|██████████| 100/100 [00:00<?, ?it/s]"
     ]
    },
    {
     "name": "stdout",
     "output_type": "stream",
     "text": [
      "Saved batch to 'summaries/summary_300_399.json'"
     ]
    },
    {
     "name": "stderr",
     "output_type": "stream",
     "text": [
      "\n"
     ]
    },
    {
     "name": "stdout",
     "output_type": "stream",
     "text": [
      "\n",
      "Updated quotes_with_summary.json\n",
      "\n",
      "Processing batch 400 to 499\n"
     ]
    },
    {
     "name": "stderr",
     "output_type": "stream",
     "text": [
      "100%|██████████| 100/100 [00:00<?, ?it/s]\n"
     ]
    },
    {
     "name": "stdout",
     "output_type": "stream",
     "text": [
      "Saved batch to 'summaries/summary_400_499.json'\n",
      "Updated quotes_with_summary.json\n",
      "\n",
      "Processing batch 500 to 599\n"
     ]
    },
    {
     "name": "stderr",
     "output_type": "stream",
     "text": [
      "100%|██████████| 100/100 [00:00<00:00, 8606.35it/s]\n"
     ]
    },
    {
     "name": "stdout",
     "output_type": "stream",
     "text": [
      "Saved batch to 'summaries/summary_500_599.json'\n",
      "Updated quotes_with_summary.json\n",
      "\n",
      "Processing batch 600 to 699\n"
     ]
    },
    {
     "name": "stderr",
     "output_type": "stream",
     "text": [
      "100%|██████████| 100/100 [00:00<?, ?it/s]\n"
     ]
    },
    {
     "name": "stdout",
     "output_type": "stream",
     "text": [
      "Saved batch to 'summaries/summary_600_699.json'\n",
      "Updated quotes_with_summary.json\n",
      "\n",
      "Processing batch 700 to 799\n"
     ]
    },
    {
     "name": "stderr",
     "output_type": "stream",
     "text": [
      "100%|██████████| 100/100 [00:00<?, ?it/s]\n"
     ]
    },
    {
     "name": "stdout",
     "output_type": "stream",
     "text": [
      "Saved batch to 'summaries/summary_700_799.json'\n",
      "Updated quotes_with_summary.json\n",
      "\n",
      "Processing batch 800 to 899\n"
     ]
    },
    {
     "name": "stderr",
     "output_type": "stream",
     "text": [
      "100%|██████████| 100/100 [00:00<00:00, 84956.53it/s]"
     ]
    },
    {
     "name": "stdout",
     "output_type": "stream",
     "text": [
      "Saved batch to 'summaries/summary_800_899.json'"
     ]
    },
    {
     "name": "stderr",
     "output_type": "stream",
     "text": [
      "\n"
     ]
    },
    {
     "name": "stdout",
     "output_type": "stream",
     "text": [
      "\n",
      "Updated quotes_with_summary.json\n",
      "\n",
      "Processing batch 900 to 999\n"
     ]
    },
    {
     "name": "stderr",
     "output_type": "stream",
     "text": [
      "100%|██████████| 100/100 [00:00<?, ?it/s]"
     ]
    },
    {
     "name": "stdout",
     "output_type": "stream",
     "text": [
      "Saved batch to 'summaries/summary_900_999.json'"
     ]
    },
    {
     "name": "stderr",
     "output_type": "stream",
     "text": [
      "\n"
     ]
    },
    {
     "name": "stdout",
     "output_type": "stream",
     "text": [
      "\n",
      "Updated quotes_with_summary.json\n",
      "\n",
      "Processing batch 1000 to 1099\n"
     ]
    },
    {
     "name": "stderr",
     "output_type": "stream",
     "text": [
      "100%|██████████| 100/100 [00:00<00:00, 99273.47it/s]\n"
     ]
    },
    {
     "name": "stdout",
     "output_type": "stream",
     "text": [
      "Saved batch to 'summaries/summary_1000_1099.json'\n",
      "Updated quotes_with_summary.json\n",
      "\n",
      "Processing batch 1100 to 1199\n"
     ]
    },
    {
     "name": "stderr",
     "output_type": "stream",
     "text": [
      "100%|██████████| 100/100 [00:00<00:00, 24250.14it/s]\n"
     ]
    },
    {
     "name": "stdout",
     "output_type": "stream",
     "text": [
      "Saved batch to 'summaries/summary_1100_1199.json'\n",
      "Updated quotes_with_summary.json\n",
      "\n",
      "Processing batch 1200 to 1299\n"
     ]
    },
    {
     "name": "stderr",
     "output_type": "stream",
     "text": [
      "100%|██████████| 100/100 [00:00<?, ?it/s]\n"
     ]
    },
    {
     "name": "stdout",
     "output_type": "stream",
     "text": [
      "Saved batch to 'summaries/summary_1200_1299.json'\n",
      "Updated quotes_with_summary.json\n",
      "\n",
      "Processing batch 1300 to 1399\n"
     ]
    },
    {
     "name": "stderr",
     "output_type": "stream",
     "text": [
      "100%|██████████| 100/100 [00:00<?, ?it/s]\n"
     ]
    },
    {
     "name": "stdout",
     "output_type": "stream",
     "text": [
      "Saved batch to 'summaries/summary_1300_1399.json'\n",
      "Updated quotes_with_summary.json\n",
      "\n",
      "Processing batch 1400 to 1499\n"
     ]
    },
    {
     "name": "stderr",
     "output_type": "stream",
     "text": [
      "100%|██████████| 100/100 [00:00<00:00, 49263.61it/s]\n"
     ]
    },
    {
     "name": "stdout",
     "output_type": "stream",
     "text": [
      "Saved batch to 'summaries/summary_1400_1499.json'\n",
      "Updated quotes_with_summary.json\n",
      "\n",
      "Processing batch 1500 to 1599\n"
     ]
    },
    {
     "name": "stderr",
     "output_type": "stream",
     "text": [
      "100%|██████████| 100/100 [00:00<00:00, 49672.00it/s]"
     ]
    },
    {
     "name": "stdout",
     "output_type": "stream",
     "text": [
      "Saved batch to 'summaries/summary_1500_1599.json'\n"
     ]
    },
    {
     "name": "stderr",
     "output_type": "stream",
     "text": [
      "\n"
     ]
    },
    {
     "name": "stdout",
     "output_type": "stream",
     "text": [
      "Updated quotes_with_summary.json\n",
      "\n",
      "Processing batch 1600 to 1699\n"
     ]
    },
    {
     "name": "stderr",
     "output_type": "stream",
     "text": [
      "100%|██████████| 100/100 [00:00<?, ?it/s]\n"
     ]
    },
    {
     "name": "stdout",
     "output_type": "stream",
     "text": [
      "Saved batch to 'summaries/summary_1600_1699.json'\n",
      "Updated quotes_with_summary.json\n",
      "\n",
      "Processing batch 1700 to 1799\n"
     ]
    },
    {
     "name": "stderr",
     "output_type": "stream",
     "text": [
      "100%|██████████| 100/100 [00:00<?, ?it/s]\n"
     ]
    },
    {
     "name": "stdout",
     "output_type": "stream",
     "text": [
      "Saved batch to 'summaries/summary_1700_1799.json'\n",
      "Updated quotes_with_summary.json\n",
      "\n",
      "Processing batch 1800 to 1899\n"
     ]
    },
    {
     "name": "stderr",
     "output_type": "stream",
     "text": [
      "100%|██████████| 100/100 [00:00<00:00, 49807.67it/s]\n"
     ]
    },
    {
     "name": "stdout",
     "output_type": "stream",
     "text": [
      "Saved batch to 'summaries/summary_1800_1899.json'\n",
      "Updated quotes_with_summary.json\n",
      "\n",
      "Processing batch 1900 to 1999\n"
     ]
    },
    {
     "name": "stderr",
     "output_type": "stream",
     "text": [
      "100%|██████████| 100/100 [00:00<00:00, 55767.90it/s]"
     ]
    },
    {
     "name": "stdout",
     "output_type": "stream",
     "text": [
      "Saved batch to 'summaries/summary_1900_1999.json'"
     ]
    },
    {
     "name": "stderr",
     "output_type": "stream",
     "text": [
      "\n"
     ]
    },
    {
     "name": "stdout",
     "output_type": "stream",
     "text": [
      "\n",
      "Updated quotes_with_summary.json\n",
      "\n",
      "Processing batch 2000 to 2099\n"
     ]
    },
    {
     "name": "stderr",
     "output_type": "stream",
     "text": [
      "100%|██████████| 100/100 [00:00<?, ?it/s]\n"
     ]
    },
    {
     "name": "stdout",
     "output_type": "stream",
     "text": [
      "Saved batch to 'summaries/summary_2000_2099.json'\n",
      "Updated quotes_with_summary.json\n",
      "\n",
      "Processing batch 2100 to 2199\n"
     ]
    },
    {
     "name": "stderr",
     "output_type": "stream",
     "text": [
      "100%|██████████| 100/100 [00:00<00:00, 27666.91it/s]\n"
     ]
    },
    {
     "name": "stdout",
     "output_type": "stream",
     "text": [
      "Saved batch to 'summaries/summary_2100_2199.json'\n",
      "Updated quotes_with_summary.json\n",
      "\n",
      "Processing batch 2200 to 2299\n"
     ]
    },
    {
     "name": "stderr",
     "output_type": "stream",
     "text": [
      "100%|██████████| 100/100 [00:00<?, ?it/s]\n"
     ]
    },
    {
     "name": "stdout",
     "output_type": "stream",
     "text": [
      "Saved batch to 'summaries/summary_2200_2299.json'\n",
      "Updated quotes_with_summary.json\n",
      "\n",
      "Processing batch 2300 to 2399\n"
     ]
    },
    {
     "name": "stderr",
     "output_type": "stream",
     "text": [
      "100%|██████████| 100/100 [00:00<?, ?it/s]\n"
     ]
    },
    {
     "name": "stdout",
     "output_type": "stream",
     "text": [
      "Saved batch to 'summaries/summary_2300_2399.json'\n",
      "Updated quotes_with_summary.json\n",
      "\n",
      "Processing batch 2400 to 2499\n"
     ]
    },
    {
     "name": "stderr",
     "output_type": "stream",
     "text": [
      "100%|██████████| 100/100 [00:00<00:00, 42703.16it/s]\n"
     ]
    },
    {
     "name": "stdout",
     "output_type": "stream",
     "text": [
      "Saved batch to 'summaries/summary_2400_2499.json'\n",
      "Updated quotes_with_summary.json\n",
      "\n",
      "Processing batch 2500 to 2599\n"
     ]
    },
    {
     "name": "stderr",
     "output_type": "stream",
     "text": [
      "100%|██████████| 100/100 [00:00<?, ?it/s]\n"
     ]
    },
    {
     "name": "stdout",
     "output_type": "stream",
     "text": [
      "Saved batch to 'summaries/summary_2500_2599.json'\n",
      "Updated quotes_with_summary.json\n",
      "\n",
      "Processing batch 2600 to 2699\n"
     ]
    },
    {
     "name": "stderr",
     "output_type": "stream",
     "text": [
      "100%|██████████| 100/100 [00:00<?, ?it/s]\n"
     ]
    },
    {
     "name": "stdout",
     "output_type": "stream",
     "text": [
      "Saved batch to 'summaries/summary_2600_2699.json'\n",
      "Updated quotes_with_summary.json\n",
      "\n",
      "Processing batch 2700 to 2799\n"
     ]
    },
    {
     "name": "stderr",
     "output_type": "stream",
     "text": [
      "100%|██████████| 100/100 [00:00<?, ?it/s]"
     ]
    },
    {
     "name": "stdout",
     "output_type": "stream",
     "text": [
      "Saved batch to 'summaries/summary_2700_2799.json'\n"
     ]
    },
    {
     "name": "stderr",
     "output_type": "stream",
     "text": [
      "\n"
     ]
    },
    {
     "name": "stdout",
     "output_type": "stream",
     "text": [
      "Updated quotes_with_summary.json\n",
      "\n",
      "Processing batch 2800 to 2899\n"
     ]
    },
    {
     "name": "stderr",
     "output_type": "stream",
     "text": [
      "100%|██████████| 100/100 [00:00<?, ?it/s]\n"
     ]
    },
    {
     "name": "stdout",
     "output_type": "stream",
     "text": [
      "Saved batch to 'summaries/summary_2800_2899.json'\n",
      "Updated quotes_with_summary.json\n",
      "\n",
      "Processing batch 2900 to 2993\n"
     ]
    },
    {
     "name": "stderr",
     "output_type": "stream",
     "text": [
      "100%|██████████| 94/94 [00:00<00:00, 21002.80it/s]"
     ]
    },
    {
     "name": "stdout",
     "output_type": "stream",
     "text": [
      "Saved batch to 'summaries/summary_2900_2993.json'\n",
      "Updated quotes_with_summary.json\n"
     ]
    },
    {
     "name": "stderr",
     "output_type": "stream",
     "text": [
      "\n"
     ]
    }
   ],
   "execution_count": 12
  }
 ],
 "metadata": {
  "kernelspec": {
   "display_name": "Python 3",
   "language": "python",
   "name": "python3"
  },
  "language_info": {
   "codemirror_mode": {
    "name": "ipython",
    "version": 2
   },
   "file_extension": ".py",
   "mimetype": "text/x-python",
   "name": "python",
   "nbconvert_exporter": "python",
   "pygments_lexer": "ipython2",
   "version": "2.7.6"
  }
 },
 "nbformat": 4,
 "nbformat_minor": 5
}
